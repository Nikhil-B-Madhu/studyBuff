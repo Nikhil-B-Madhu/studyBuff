{
 "cells": [
  {
   "cell_type": "markdown",
   "metadata": {},
   "source": [
    "# Building a Course Recommender Engine\n",
    "\n",
    "\n",
    "`Description`\n",
    "\n",
    "This module takes pre-processed dataset from NER engine comptuation nnotebook and extends on various use-cases for a complete user experience dashboard for Course Analytics. It also serves as the foundation for developing a recommendation engine. \n",
    "\n",
    "For the scope of the project, we have only consumed general knowledge and no fine-tuning or user-based filtering has been performed.\n",
    "\n",
    "---\n",
    "#### Contents:\n",
    "\n",
    "1. Imports\n",
    "2. Directory Setup\n",
    "\n",
    "Training Phase\n",
    "3. Raw Dataset\n",
    "4. Semantic Similarity (IR Model)\n",
    "5. Meta data generation: Course Keywords\n",
    "6. Meta data generation: Course Summarization\n",
    "7. Meta data generation: Course Difficulty\n",
    "\n",
    "Testing Phase\n",
    "8. Setup\n",
    "8. Lookups\n",
    "---"
   ]
  },
  {
   "cell_type": "markdown",
   "metadata": {},
   "source": [
    "# 1. Imports"
   ]
  },
  {
   "cell_type": "code",
   "execution_count": 1,
   "metadata": {
    "scrolled": false
   },
   "outputs": [
    {
     "name": "stdout",
     "output_type": "stream",
     "text": [
      "NLTK loaded.\n"
     ]
    },
    {
     "name": "stderr",
     "output_type": "stream",
     "text": [
      "2023-04-03 14:32:19.839724: I tensorflow/core/platform/cpu_feature_guard.cc:193] This TensorFlow binary is optimized with oneAPI Deep Neural Network Library (oneDNN) to use the following CPU instructions in performance-critical operations:  AVX2 FMA\n",
      "To enable them in other operations, rebuild TensorFlow with the appropriate compiler flags.\n"
     ]
    },
    {
     "name": "stdout",
     "output_type": "stream",
     "text": [
      "Spacy loaded.\n",
      "PyTorch loaded.\n"
     ]
    }
   ],
   "source": [
    "## Imports\n",
    "'''Python Version 3.8.0'''\n",
    "\n",
    "# Standard libs\n",
    "import os\n",
    "import sys\n",
    "import json\n",
    "import warnings\n",
    "import yaml\n",
    "import re\n",
    "import io\n",
    "from io import StringIO\n",
    "import inspect\n",
    "import shutil\n",
    "import random\n",
    "import ast\n",
    "import string\n",
    "import time\n",
    "import pickle\n",
    "import glob\n",
    "import traceback\n",
    "import multiprocessing\n",
    "import requests\n",
    "import logging\n",
    "from ast import literal_eval\n",
    "import math\n",
    "import pytz\n",
    "from itertools import chain\n",
    "from string import Template\n",
    "from datetime import datetime, timedelta\n",
    "from dateutil import parser\n",
    "import base64\n",
    "from collections import defaultdict, Counter, OrderedDict\n",
    "from contextlib import contextmanager\n",
    "import unicodedata\n",
    "from functools import reduce\n",
    "import itertools\n",
    "import tempfile\n",
    "from typing import Any, Dict, List, Callable, Optional, Tuple, NamedTuple, Union\n",
    "from functools import wraps\n",
    "\n",
    "# Required pkgs\n",
    "import numpy as np\n",
    "from numpy import array, argmax\n",
    "import pandas as pd\n",
    "import ntpath\n",
    "import tqdm\n",
    "\n",
    "# General text correction - fit text for you (ftfy) and others\n",
    "import ftfy\n",
    "from fuzzywuzzy import fuzz\n",
    "from spellchecker import SpellChecker\n",
    "\n",
    "# scikit-learn\n",
    "from sklearn.utils import shuffle\n",
    "from sklearn import preprocessing\n",
    "from sklearn.preprocessing import StandardScaler, LabelEncoder, OneHotEncoder\n",
    "from sklearn.feature_extraction.text import CountVectorizer, TfidfVectorizer\n",
    "\n",
    "# scipy\n",
    "from scipy import spatial, sparse\n",
    "\n",
    "# NLTK\n",
    "import nltk\n",
    "#nltk_model_data_path = \"/someppath/\"\n",
    "#nltk.data.path.append(nltk_model_data_path)\n",
    "from nltk import FreqDist, tokenize, sent_tokenize, word_tokenize, pos_tag\n",
    "from nltk.corpus import stopwords, PlaintextCorpusReader\n",
    "from nltk.tokenize import RegexpTokenizer\n",
    "from nltk.stem import WordNetLemmatizer\n",
    "from nltk.stem.lancaster import LancasterStemmer\n",
    "from nltk.stem.porter import *\n",
    "from nltk.translate.bleu_score import sentence_bleu\n",
    "print(\"NLTK loaded.\")\n",
    "\n",
    "# Spacy\n",
    "import spacy\n",
    "from spacy import displacy\n",
    "from spacy.matcher import PhraseMatcher, Matcher\n",
    "from spacy.util import minibatch, compounding\n",
    "from spacy.training.example import Example\n",
    "print(\"Spacy loaded.\")\n",
    "\n",
    "# Pytorch\n",
    "import torch\n",
    "from torch import optim, nn\n",
    "import torch.nn.functional as Functional\n",
    "from torch.utils.data import Dataset, DataLoader\n",
    "import transformers\n",
    "from transformers import AutoTokenizer\n",
    "from transformers import AutoModelWithLMHead\n",
    "from transformers import pipeline\n",
    "from transformers import AutoModel\n",
    "from sentence_transformers import SentenceTransformer, util\n",
    "from bertopic import BERTopic\n",
    "print(\"PyTorch loaded.\")\n",
    "\n",
    "# Plots\n",
    "import matplotlib.pyplot as plt\n",
    "import seaborn as sns\n",
    "import plotly.express as px\n",
    "import plotly.graph_objects as go\n",
    "from plotly import offline\n",
    "%matplotlib inline\n",
    "\n",
    "# Theme settings\n",
    "pd.set_option(\"display.max_columns\", 80)\n",
    "sns.set_context('talk')\n",
    "sns.set(rc={'figure.figsize':(15,10)})\n",
    "sns.set_style(\"darkgrid\")\n",
    "warnings.filterwarnings('ignore')"
   ]
  },
  {
   "cell_type": "markdown",
   "metadata": {
    "jp-MarkdownHeadingCollapsed": true,
    "tags": []
   },
   "source": [
    "# 2. Directory Setup"
   ]
  },
  {
   "cell_type": "code",
   "execution_count": 2,
   "metadata": {},
   "outputs": [],
   "source": [
    "root_dir = os.path.abspath(\"../../\")\n",
    "data_dir = os.path.join(root_dir, \"data\")\n",
    "ml_dir = os.path.join(root_dir, \"mlEngine\")\n",
    "models_dir = os.path.join(ml_dir, \"models\")\n",
    "sim_data_dir = os.path.join(os.path.join(ml_dir, \"data\"), \"simLookup\")\n",
    "\n",
    "# NLP resources\n",
    "nlp_resources_fp = os.path.join(models_dir, \"resources\")\n",
    "\n",
    "# orignal file\n",
    "courseData_fp = os.path.join(data_dir, \"_UniversityServiceCourseInfo__202302190138.csv\")\n",
    "deptData_fp = os.path.join(data_dir, \"courseNames_2023_02_12.csv\")\n",
    "\n",
    "# models\n",
    "sbert_assym_model_fp = os.path.join(os.path.join(models_dir, \"sbert\"), \"msmarco-distilbert-base-dot-prod-v3\")\n",
    "sbert_ssym_model_fp = os.path.join(os.path.join(models_dir, \"sbert\"), \"all-distilroberta-v1\")\n",
    "\n",
    "# created files\n",
    "course_info_data_fp = os.path.join(sim_data_dir, \"course_info.csv\")\n",
    "assym_corpus_embeddings_fp = os.path.join(sim_data_dir, \"simLookup_assym_corpus_embeddings.pkl\")\n",
    "ssym_corpus_embeddings_fp = os.path.join(sim_data_dir, \"simLookup_ssym_corpus_embeddings.pkl\")"
   ]
  },
  {
   "cell_type": "markdown",
   "metadata": {},
   "source": [
    "# `---------------- Training Phase ---------------- `"
   ]
  },
  {
   "cell_type": "markdown",
   "metadata": {},
   "source": [
    "# 3. Raw Dataset"
   ]
  },
  {
   "cell_type": "code",
   "execution_count": 17,
   "metadata": {},
   "outputs": [],
   "source": [
    "# load original courseInfo data\n",
    "org_df = pd.read_csv(courseData_fp)\n",
    "\n",
    "# load deptarment data and create dept-id: dept mapper\n",
    "dept_df = pd.read_csv(deptData_fp)\n",
    "dept_mapper = dict()\n",
    "for deptid, dept in zip(dept_df['department_id'], dept_df['department_name']):\n",
    "    if deptid not in dept_mapper:\n",
    "        dept_mapper[deptid] = dept\n",
    "        \n",
    "# corpus length\n",
    "org_df['DescriptionLen'] = org_df['Description'].apply(lambda x: len(str(x)))\n",
    "\n",
    "# instruction modes simplified\n",
    "org_df = org_df.replace({\"InstructionMode\": {'In Person' : 'person', \n",
    "                                             'Hybrid Remote/Online': 'online', \n",
    "                                             'Remote': 'online', \n",
    "                                             'Online': 'online',\n",
    "                                             'Hybrid InPrsn/OL-Remote': 'online',\n",
    "                                             'Online Flex': 'online',\n",
    "                                             'Independent Study': 'independent'}\n",
    "                        })\n",
    "\n",
    "# prerequisite courses\n",
    "pattern = r'\\b[A-Z]{4} \\d{4}\\b'\n",
    "org_df['PreRequisites'] = org_df['RestrictedInfo'].apply(lambda x: list(set(re.findall(pattern, str(x)))) \n",
    "                                                         if re.findall(pattern, str(x)) else [])\n",
    "org_df['PreRequisitesLen'] = org_df['PreRequisites'].apply(len)"
   ]
  },
  {
   "cell_type": "code",
   "execution_count": 18,
   "metadata": {},
   "outputs": [
    {
     "name": "stderr",
     "output_type": "stream",
     "text": [
      "100%|██████████████████████████████████████| 3866/3866 [00:08<00:00, 466.56it/s]\n"
     ]
    },
    {
     "name": "stdout",
     "output_type": "stream",
     "text": [
      "Unique courses stored: 3866\n",
      "Indexed dataset stored:  /Volumes/Local Drive/StudyBuff/GITHUB/StudyBuff/mlEngine/data/simLookup/course_info.csv\n"
     ]
    }
   ],
   "source": [
    "# list of unique course-ids\n",
    "course_ids = org_df['CourseID'].unique()\n",
    "\n",
    "# course-metadata-mapper-dict\n",
    "course_data = dict()\n",
    "for courseid in tqdm.tqdm(course_ids):\n",
    "    course_metadata = org_df[org_df['CourseID']==courseid].sort_values(by='DescriptionLen', ascending=False)\n",
    "    course_data[courseid] = {\n",
    "        'CourseName': course_metadata['CourseName'].values[0],\n",
    "        'DepartmentId': course_metadata['DepartmentID'].values[0],\n",
    "        'Desc': course_metadata['Description'].values[0],\n",
    "        'Pre': course_metadata.sort_values(by='PreRequisitesLen', ascending=False)['PreRequisites'].values[0],\n",
    "        'Mode': list(set(course_metadata['InstructionMode']))\n",
    "    }\n",
    "\n",
    "\n",
    "\n",
    "# final df\n",
    "df = pd.DataFrame(course_data).T.reset_index().rename(columns={'index':'CourseId'})\n",
    "df['Desc'] = df['Desc'].fillna(\"The course description is not available at this moment.\")\n",
    "df.insert(3, \"DepartmentName\", df.DepartmentId.apply(lambda x: dept_mapper[x] if x in dept_mapper.keys() else \"\"))\n",
    "\n",
    "# save df\n",
    "df.to_csv(course_info_data_fp, index=False)\n",
    "\n",
    "print(\"Unique courses stored:\", len(course_ids))\n",
    "print(\"Indexed dataset stored: \", course_info_data_fp)"
   ]
  },
  {
   "cell_type": "markdown",
   "metadata": {},
   "source": [
    "- Final dataset is ready"
   ]
  },
  {
   "cell_type": "markdown",
   "metadata": {},
   "source": [
    "----"
   ]
  },
  {
   "cell_type": "markdown",
   "metadata": {},
   "source": [
    "# 4. Semantic Similarity (IR Model)"
   ]
  },
  {
   "cell_type": "markdown",
   "metadata": {},
   "source": [
    "Modelling: https://www.sbert.net/docs/pretrained-models/msmarco-v3.html\n",
    "\n",
    "Acceleration for latency: https://www.philschmid.de/optimize-sentence-transformers"
   ]
  },
  {
   "cell_type": "code",
   "execution_count": 19,
   "metadata": {},
   "outputs": [
    {
     "name": "stdout",
     "output_type": "stream",
     "text": [
      "Corpus loaded.\n"
     ]
    }
   ],
   "source": [
    "# CORPUS\n",
    "\n",
    "df = pd.read_csv(course_info_data_fp)\n",
    "\n",
    "corpus = (df['CourseId'].apply(str.lower) + \". \" + \\\n",
    "          df['CourseName'].apply(str.lower) + \". \" + \\\n",
    "          df['Desc'].apply(str.lower)).tolist()\n",
    "\n",
    "print(\"Corpus loaded.\")"
   ]
  },
  {
   "cell_type": "code",
   "execution_count": 20,
   "metadata": {},
   "outputs": [
    {
     "name": "stdout",
     "output_type": "stream",
     "text": [
      "Total Time taken (mins):  7.909322082996368\n"
     ]
    }
   ],
   "source": [
    "#################################################\n",
    "# (1) model for assymetric search\n",
    "# small sentence  - vs - all course desc\n",
    "#################################################\n",
    "\n",
    "# load assymetric model\n",
    "assym_model = SentenceTransformer(sbert_assym_model_fp)\n",
    "\n",
    "# encode corpus to get corpus embeddings\n",
    "st=time.time()\n",
    "assym_corpus_embeddings = assym_model.encode(corpus, convert_to_tensor=True)\n",
    "\n",
    "# save assymetric corpus_embeddings to be loaded during runtime\n",
    "with open(assym_corpus_embeddings_fp, \"wb\") as fp:\n",
    "    pickle.dump(assym_corpus_embeddings, fp)\n",
    "\n",
    "print(\"Total Time taken (mins): \", (time.time() - st)/60)"
   ]
  },
  {
   "cell_type": "code",
   "execution_count": 21,
   "metadata": {},
   "outputs": [
    {
     "name": "stdout",
     "output_type": "stream",
     "text": [
      "Total Time taken (mins):  8.535967449347178\n"
     ]
    }
   ],
   "source": [
    "#################################################\n",
    "# (2) model for symetric search\n",
    "# course desc  - vs -  all course desc\n",
    "#################################################\n",
    "\n",
    "# load assymetric model\n",
    "ssym_model = SentenceTransformer(sbert_ssym_model_fp)\n",
    "\n",
    "# encode corpus to get corpus embeddings\n",
    "st=time.time()\n",
    "ssym_corpus_embeddings = ssym_model.encode(corpus, convert_to_tensor=True)\n",
    "\n",
    "# save symetric corpus_embeddings to be loaded during runtime\n",
    "with open(ssym_corpus_embeddings_fp, \"wb\") as fp:\n",
    "    pickle.dump(ssym_corpus_embeddings, fp)\n",
    "\n",
    "print(\"Total Time taken (mins): \", (time.time() - st)/60)"
   ]
  },
  {
   "cell_type": "markdown",
   "metadata": {},
   "source": [
    "#### Next Steps:\n",
    "\n",
    "accelerate prediction using latency reduction for pyTorch"
   ]
  },
  {
   "cell_type": "markdown",
   "metadata": {},
   "source": [
    "---"
   ]
  },
  {
   "cell_type": "markdown",
   "metadata": {},
   "source": [
    "# 5. Meta-data Generation: Keywords"
   ]
  },
  {
   "cell_type": "markdown",
   "metadata": {},
   "source": [
    "For **clustered documents**, let's say you have a cluster with 20 documents, use **\"Top2Vec\", or \"BERTopic\"**\n",
    "\n",
    "- Used for clustered documents\n",
    "- used as Topic Modeller, LDA, lsa2vec\n",
    "- returns topics across n documents (not applied on a single document!)"
   ]
  },
  {
   "cell_type": "code",
   "execution_count": 124,
   "metadata": {},
   "outputs": [
    {
     "data": {
      "text/plain": [
       "'Introduces graduate level study of ethnic American and/or postcolonial writing in English, including relevant theoretical discourse.  Emphasizes a wide range of genres, forms, historical background, and secondary criticism.  Cultivates research skills necessary for advanced graduate study. Topics will vary.  May be repeated up to 6 total credit hours.'"
      ]
     },
     "execution_count": 124,
     "metadata": {},
     "output_type": "execute_result"
    }
   ],
   "source": [
    "sample = df.Desc[0]\n",
    "sample"
   ]
  },
  {
   "cell_type": "code",
   "execution_count": 128,
   "metadata": {},
   "outputs": [],
   "source": [
    "# M1: Rake\n",
    "\n",
    "# https://github.com/aneesha/RAKE\n",
    "# pip install rake-nltk"
   ]
  },
  {
   "cell_type": "code",
   "execution_count": 129,
   "metadata": {
    "collapsed": true
   },
   "outputs": [
    {
     "data": {
      "text/plain": [
       "['including relevant theoretical discourse',\n",
       " 'cultivates research skills necessary',\n",
       " '6 total credit hours',\n",
       " 'introduces graduate level study',\n",
       " 'advanced graduate study',\n",
       " 'wide range',\n",
       " 'secondary criticism',\n",
       " 'postcolonial writing',\n",
       " 'historical background',\n",
       " 'ethnic american',\n",
       " 'vary',\n",
       " 'topics',\n",
       " 'repeated',\n",
       " 'may',\n",
       " 'genres',\n",
       " 'forms',\n",
       " 'english',\n",
       " 'emphasizes']"
      ]
     },
     "execution_count": 129,
     "metadata": {},
     "output_type": "execute_result"
    }
   ],
   "source": [
    "from rake_nltk import Rake\n",
    "\n",
    "r = Rake()\n",
    "r.extract_keywords_from_text(sample)\n",
    "r.get_ranked_phrases()"
   ]
  },
  {
   "cell_type": "code",
   "execution_count": 127,
   "metadata": {},
   "outputs": [],
   "source": [
    "# M2: YAKE!\n",
    "\n",
    "# https://github.com/LIAAD/yake\n",
    "# pip install git+https://github.com/LIAAD/yake"
   ]
  },
  {
   "cell_type": "code",
   "execution_count": 146,
   "metadata": {
    "collapsed": true
   },
   "outputs": [
    {
     "name": "stdout",
     "output_type": "stream",
     "text": [
      "('English', 0.07901264396529444)\n",
      "('American', 0.11254006070312061)\n",
      "('Introduces', 0.1796102704524507)\n",
      "('including', 0.1796102704524507)\n",
      "('discourse', 0.1796102704524507)\n"
     ]
    }
   ],
   "source": [
    "import yake\n",
    "\n",
    "language = \"en\"\n",
    "max_ngram_size = 1\n",
    "deduplication_threshold = 0.9\n",
    "deduplication_algo = 'seqm'\n",
    "windowSize = 1\n",
    "numOfKeywords = 5\n",
    "\n",
    "custom_kw_extractor = yake.KeywordExtractor(lan=language, n=max_ngram_size, dedupLim=deduplication_threshold, dedupFunc=deduplication_algo, windowsSize=windowSize, top=numOfKeywords, features=None)\n",
    "keywords = custom_kw_extractor.extract_keywords(sample)\n",
    "\n",
    "for kw in keywords:\n",
    "    print(kw)"
   ]
  },
  {
   "cell_type": "code",
   "execution_count": null,
   "metadata": {},
   "outputs": [],
   "source": [
    "# M3: KeyBERT\n",
    "\n",
    "# https://maartengr.github.io/KeyBERT/index.html\n",
    "# pip install keybert"
   ]
  },
  {
   "cell_type": "code",
   "execution_count": 154,
   "metadata": {},
   "outputs": [],
   "source": [
    "from keybert import KeyBERT\n",
    "\n",
    "kw_model = KeyBERT()\n",
    "keywords = kw_model.extract_keywords(sample, keyphrase_ngram_range=(1, 1))\n",
    "phrases = kw_model.extract_keywords(sample, keyphrase_ngram_range=(1, 3))"
   ]
  },
  {
   "cell_type": "code",
   "execution_count": 155,
   "metadata": {
    "collapsed": true
   },
   "outputs": [
    {
     "data": {
      "text/plain": [
       "[('graduate', 0.4898),\n",
       " ('writing', 0.4635),\n",
       " ('postcolonial', 0.4317),\n",
       " ('study', 0.3995),\n",
       " ('discourse', 0.344)]"
      ]
     },
     "execution_count": 155,
     "metadata": {},
     "output_type": "execute_result"
    }
   ],
   "source": [
    "keywords"
   ]
  },
  {
   "cell_type": "code",
   "execution_count": 156,
   "metadata": {
    "collapsed": true
   },
   "outputs": [
    {
     "data": {
      "text/plain": [
       "[('postcolonial writing english', 0.5866),\n",
       " ('american postcolonial writing', 0.5803),\n",
       " ('postcolonial writing', 0.5634),\n",
       " ('graduate study', 0.5554),\n",
       " ('graduate level study', 0.5476)]"
      ]
     },
     "execution_count": 156,
     "metadata": {},
     "output_type": "execute_result"
    }
   ],
   "source": [
    "phrases"
   ]
  },
  {
   "cell_type": "code",
   "execution_count": 166,
   "metadata": {},
   "outputs": [],
   "source": [
    "# Generate Keywords and Phrases:\n",
    "\n",
    "from keybert import KeyBERT\n",
    "\n",
    "def get_keywords_and_phrases(docs):\n",
    "    kw_model = KeyBERT()\n",
    "    keywords = kw_model.extract_keywords(docs, keyphrase_ngram_range=(1, 1), top_n=6)\n",
    "    phrases = kw_model.extract_keywords(docs, keyphrase_ngram_range=(1, 3), top_n=8)\n",
    "    return keywords, phrases\n",
    "\n",
    "keywords, phrases = get_keywords_and_phrases(df['Desc'])\n",
    "\n",
    "df['CourseKeywords'] = keywords\n",
    "df['CourseKeywords'] = df['CourseKeywords'].apply(lambda x: [i[0] for i in x])\n",
    "df['CourseKeyPhrases'] = phrases\n",
    "df['CourseKeyPhrases'] = df['CourseKeyPhrases'].apply(lambda x: [i[0] for i in x])"
   ]
  },
  {
   "cell_type": "markdown",
   "metadata": {},
   "source": [
    "# 6. Meta-data Generation: Summarization"
   ]
  },
  {
   "cell_type": "code",
   "execution_count": 188,
   "metadata": {},
   "outputs": [],
   "source": [
    "from lexrank_algo import degree_centrality_scores"
   ]
  },
  {
   "cell_type": "code",
   "execution_count": 190,
   "metadata": {},
   "outputs": [],
   "source": [
    "# M1: \n",
    "\n",
    "# model = AutoModelWithLMHead.from_pretrained(t5_base_location)\n",
    "# tokenizer = AutoTokenizer.from_pretrained(t5_base_location)\n",
    "# inputs = tokenizer.encode(\"summarize: \" + sample, return_tensors=\"pt\", max_length=512) \n",
    "# outputs = model.generate(inputs, max_length=250, min_length=30, length_penalty=2.0, num_beams=5, early_stopping=True, repetition_penalty=2.0) \n",
    "# print(tokenizer.decode(outputs[0]))"
   ]
  },
  {
   "cell_type": "code",
   "execution_count": 185,
   "metadata": {},
   "outputs": [
    {
     "name": "stdout",
     "output_type": "stream",
     "text": [
      "Summary:\n"
     ]
    },
    {
     "data": {
      "text/plain": [
       "'Emphasizes a wide range of genres, forms, historical background, and secondary criticism. Topics will vary. Introduces graduate level study of ethnic American and/or postcolonial writing in English, including relevant theoretical discourse.'"
      ]
     },
     "execution_count": 185,
     "metadata": {},
     "output_type": "execute_result"
    }
   ],
   "source": [
    "# M2:\n",
    "\n",
    "sentences = nltk.sent_tokenize(sample)\n",
    "embeddings = ssym_model.encode(sentences, convert_to_tensor=True)\n",
    "#Compute the pair-wise cosine similarities\n",
    "cos_scores = util.cos_sim(embeddings, embeddings).numpy()\n",
    "#Compute the centrality for each sentence\n",
    "centrality_scores = degree_centrality_scores(cos_scores, threshold=None)\n",
    "most_central_sentence_indices = np.argsort(-centrality_scores)\n",
    "print(\"Summary:\")\n",
    "\" \".join([sentences[idx].strip() for idx in most_central_sentence_indices[0:3]])"
   ]
  },
  {
   "cell_type": "code",
   "execution_count": 191,
   "metadata": {},
   "outputs": [
    {
     "name": "stderr",
     "output_type": "stream",
     "text": [
      "100%|███████████████████████████████████████| 3866/3866 [10:52<00:00,  5.93it/s]\n"
     ]
    }
   ],
   "source": [
    "# Generate Summary:\n",
    "\n",
    "def get_summary(docs):\n",
    "    summary_lst = []\n",
    "    for doc in tqdm.tqdm(docs):\n",
    "        sentences = nltk.sent_tokenize(doc)\n",
    "        embeddings = ssym_model.encode(sentences, convert_to_tensor=True)\n",
    "        cos_scores = util.cos_sim(embeddings, embeddings).numpy()\n",
    "        centrality_scores = degree_centrality_scores(cos_scores, threshold=None)\n",
    "        most_central_sentence_indices = np.argsort(-centrality_scores)\n",
    "        summary_lst.append(\" \".join([sentences[idx].strip() for idx in most_central_sentence_indices[0:3]]))\n",
    "    return summary_lst\n",
    "\n",
    "summaries = get_summary(df['Desc'])\n",
    "\n",
    "df['CourseSummary'] = summaries"
   ]
  },
  {
   "cell_type": "markdown",
   "metadata": {},
   "source": [
    "# 7. Meta-data Generation: Course Difficulty"
   ]
  },
  {
   "cell_type": "markdown",
   "metadata": {},
   "source": [
    ": Citation :\n",
    "\n",
    "https://github.com/imperialite/lingfeat\n",
    "\n",
    "@article{imperial2021knowledge,\n",
    "  title={BERT Embeddings for Automatic Readability Assessment},\n",
    "  author={Imperial, Joseph Marvin},\n",
    "  journal={arXiv preprint arXiv:2106.07935},\n",
    "  year={2021}\n",
    "}\n",
    "\n",
    "@inproceedings{reimers-2019-sentence-bert,\n",
    "    title = \"Sentence-BERT: Sentence Embeddings using Siamese BERT-Networks\",\n",
    "    author = \"Reimers, Nils and Gurevych, Iryna\",\n",
    "    booktitle = \"Proceedings of the 2019 Conference on Empirical Methods in Natural Language Processing\",\n",
    "    month = \"11\",\n",
    "    year = \"2019\",\n",
    "    publisher = \"Association for Computational Linguistics\",\n",
    "    url = \"http://arxiv.org/abs/1908.10084\",\n",
    "}"
   ]
  },
  {
   "cell_type": "code",
   "execution_count": 54,
   "metadata": {},
   "outputs": [],
   "source": [
    "from sklearn.preprocessing import MinMaxScaler\n",
    "from lingfeat import extractor"
   ]
  },
  {
   "cell_type": "code",
   "execution_count": 55,
   "metadata": {},
   "outputs": [],
   "source": [
    "diff_ratings = []\n",
    "for doc in tqdm.tqdm(df.Desc):\n",
    "    text = doc.strip().lower()\n",
    "    LingFeat = extractor.pass_text(text)\n",
    "    LingFeat.preprocess()\n",
    "    TraF = LingFeat.TraF_()\n",
    "    diff_ratings.append(round(np.mean(list(TraF.values())), 3))\n",
    "normalizer = MinMaxScaler()\n",
    "df['CourseDifficulty'] = normalizer.fit_transform(np.array(diff_ratings).reshape(-1,1))"
   ]
  },
  {
   "cell_type": "code",
   "execution_count": 56,
   "metadata": {
    "collapsed": true
   },
   "outputs": [
    {
     "data": {
      "text/plain": [
       "<AxesSubplot: xlabel='CourseDifficulty', ylabel='Density'>"
      ]
     },
     "execution_count": 56,
     "metadata": {},
     "output_type": "execute_result"
    },
    {
     "data": {
      "image/png": "[encoded data removed]",
      "text/plain": [
       "<Figure size 1500x1000 with 1 Axes>"
      ]
     },
     "metadata": {},
     "output_type": "display_data"
    }
   ],
   "source": [
    "sns.kdeplot(df.CourseDifficulty)"
   ]
  },
  {
   "cell_type": "code",
   "execution_count": 57,
   "metadata": {},
   "outputs": [],
   "source": [
    "df['CourseDifficultyBand'] = normalizer.fit_transform(df[['CourseDifficulty']])*100.0\n",
    "df['CourseDifficultyBand'] = pd.cut(x=df['CourseDifficultyBand'], bins=[0.0, 10, 45, 70, 90, 100],\n",
    "                                    labels=['Very Easy', 'Easy', 'Medium', 'Difficult', 'Very Difficult'])"
   ]
  },
  {
   "cell_type": "code",
   "execution_count": 58,
   "metadata": {},
   "outputs": [
    {
     "data": {
      "text/plain": [
       "Medium            3116\n",
       "Difficult          376\n",
       "Easy               349\n",
       "Very Easy           19\n",
       "Very Difficult       4\n",
       "Name: CourseDifficultyBand, dtype: int64"
      ]
     },
     "execution_count": 58,
     "metadata": {},
     "output_type": "execute_result"
    }
   ],
   "source": [
    "df['CourseDifficultyBand'].value_counts()"
   ]
  },
  {
   "cell_type": "code",
   "execution_count": 59,
   "metadata": {},
   "outputs": [],
   "source": [
    "# save df\n",
    "\n",
    "df.to_csv(course_info_data_fp, index=False)"
   ]
  },
  {
   "cell_type": "markdown",
   "metadata": {},
   "source": [
    "----\n",
    "----"
   ]
  },
  {
   "cell_type": "markdown",
   "metadata": {},
   "source": [
    "# `---------------- Testing Phase ---------------- `"
   ]
  },
  {
   "cell_type": "markdown",
   "metadata": {},
   "source": [
    "# Setup"
   ]
  },
  {
   "cell_type": "code",
   "execution_count": 60,
   "metadata": {},
   "outputs": [],
   "source": [
    "root_dir = os.path.abspath(\"../../\")\n",
    "data_dir = os.path.join(root_dir, \"data\")\n",
    "ml_dir = os.path.join(root_dir, \"mlEngine\")\n",
    "models_dir = os.path.join(ml_dir, \"models\")\n",
    "sim_data_dir = os.path.join(os.path.join(ml_dir, \"data\"), \"simLookup\")\n",
    "synonyms_fp = os.path.join(os.path.join(models_dir, \"resources\"), \"synonyms.json\")\n",
    "course_info_data_fp = os.path.join(sim_data_dir, \"course_info.csv\")\n",
    "deptData_fp = os.path.join(data_dir, \"courseNames_2023_02_12.csv\")\n",
    "sbert_assym_model_fp = os.path.join(os.path.join(models_dir, \"sbert\"), \"msmarco-distilbert-base-dot-prod-v3\")\n",
    "sbert_ssym_model_fp = os.path.join(os.path.join(models_dir, \"sbert\"), \"all-distilroberta-v1\")\n",
    "sbert_assym_corpus_embeddings_fp = os.path.join(sim_data_dir, \"simLookup_assym_corpus_embeddings.pkl\")\n",
    "sbert_ssym_corpus_embeddings_fp = os.path.join(sim_data_dir, \"simLookup_ssym_corpus_embeddings.pkl\")\n",
    "\n",
    "\n",
    "# load synonyms\n",
    "with open(synonyms_fp, \"r\") as f:\n",
    "    synonyms = json.load(f)\n",
    "        \n",
    "# load trained models & embeds\n",
    "spacy_model_fp = os.path.join(os.path.join(os.path.join(os.path.join(models_dir, \"spacy\"), \"en_core_web_lg-3.5.0\"), \"en_core_web_lg\"), \"en_core_web_lg-3.5.0\")\n",
    "trained_ner_model_fp = os.path.join(os.path.join(models_dir, \"spacy\"), \"trained_ner_model_v1.0\")\n",
    "nlp = spacy.load(spacy_model_fp)\n",
    "course_nlp = spacy.load(trained_ner_model_fp)\n",
    "assym_model = SentenceTransformer(sbert_assym_model_fp)\n",
    "ssym_model = SentenceTransformer(sbert_ssym_model_fp)\n",
    "with open(sbert_assym_corpus_embeddings_fp, \"rb\") as fp:\n",
    "    assym_corpus_embeddings = pickle.load(fp)\n",
    "with open(sbert_ssym_corpus_embeddings_fp, \"rb\") as fp:\n",
    "    ssym_corpus_embeddings = pickle.load(fp)"
   ]
  },
  {
   "cell_type": "code",
   "execution_count": 61,
   "metadata": {},
   "outputs": [
    {
     "data": {
      "text/plain": [
       "[('big data architecture', 13, 34, 'COURSE_NAME')]"
      ]
     },
     "execution_count": 61,
     "metadata": {},
     "output_type": "execute_result"
    }
   ],
   "source": [
    "# sample ner\n",
    "doc = course_nlp(\"courses like big data architecture\")\n",
    "extracted_entities = []\n",
    "for ent in doc.ents:\n",
    "    extracted_entities.append((ent.text, ent.start_char, ent.end_char, ent.label_))\n",
    "extracted_entities"
   ]
  },
  {
   "cell_type": "code",
   "execution_count": 566,
   "metadata": {},
   "outputs": [],
   "source": [
    "df = pd.read_csv(course_info_data_fp)"
   ]
  },
  {
   "cell_type": "code",
   "execution_count": 567,
   "metadata": {},
   "outputs": [
    {
     "data": {
      "text/html": [
       "<div>\n",
       "<style scoped>\n",
       "    .dataframe tbody tr th:only-of-type {\n",
       "        vertical-align: middle;\n",
       "    }\n",
       "\n",
       "    .dataframe tbody tr th {\n",
       "        vertical-align: top;\n",
       "    }\n",
       "\n",
       "    .dataframe thead th {\n",
       "        text-align: right;\n",
       "    }\n",
       "</style>\n",
       "<table border=\"1\" class=\"dataframe\">\n",
       "  <thead>\n",
       "    <tr style=\"text-align: right;\">\n",
       "      <th></th>\n",
       "      <th>CourseId</th>\n",
       "      <th>CourseName</th>\n",
       "      <th>DepartmentId</th>\n",
       "      <th>DepartmentName</th>\n",
       "      <th>Desc</th>\n",
       "      <th>Pre</th>\n",
       "      <th>Mode</th>\n",
       "      <th>CourseKeywords</th>\n",
       "      <th>CourseKeyPhrases</th>\n",
       "      <th>CourseSummary</th>\n",
       "      <th>CourseDifficulty</th>\n",
       "      <th>CourseDifficultyBand</th>\n",
       "    </tr>\n",
       "  </thead>\n",
       "  <tbody>\n",
       "    <tr>\n",
       "      <th>0</th>\n",
       "      <td>ENGL 5169</td>\n",
       "      <td>Multicultural/Postcolonial Studies: Sound Stud...</td>\n",
       "      <td>ENGL</td>\n",
       "      <td>Department of English</td>\n",
       "      <td>Introduces graduate level study of ethnic Amer...</td>\n",
       "      <td>[]</td>\n",
       "      <td>['person']</td>\n",
       "      <td>['graduate', 'writing', 'postcolonial', 'study...</td>\n",
       "      <td>['postcolonial writing english', 'american pos...</td>\n",
       "      <td>Emphasizes a wide range of genres, forms, hist...</td>\n",
       "      <td>0.557381</td>\n",
       "      <td>Medium</td>\n",
       "    </tr>\n",
       "    <tr>\n",
       "      <th>1</th>\n",
       "      <td>CLAS 5129</td>\n",
       "      <td>Aegean Art and Archaeology</td>\n",
       "      <td>CLAS</td>\n",
       "      <td>Department of Classics</td>\n",
       "      <td>Detailed study of the cultures of prehistoric ...</td>\n",
       "      <td>[]</td>\n",
       "      <td>['person']</td>\n",
       "      <td>['crete', 'archaeology', 'greece', 'mediterran...</td>\n",
       "      <td>['prehistoric greece cycladic', 'cultures preh...</td>\n",
       "      <td>Emphasis is on palace states. Same as CLAS 412...</td>\n",
       "      <td>0.589075</td>\n",
       "      <td>Medium</td>\n",
       "    </tr>\n",
       "    <tr>\n",
       "      <th>2</th>\n",
       "      <td>ECEN 5341</td>\n",
       "      <td>Bioelectromagnetics</td>\n",
       "      <td>ECEN</td>\n",
       "      <td>Department of Electrical, Computer, and Energy...</td>\n",
       "      <td>Effects of electric and magnetic fields on bio...</td>\n",
       "      <td>[]</td>\n",
       "      <td>['person']</td>\n",
       "      <td>['magnetic', 'biological', 'fields', 'electric...</td>\n",
       "      <td>['magnetic fields biological', 'fields biologi...</td>\n",
       "      <td>The complexity of biological systems is descri...</td>\n",
       "      <td>0.569167</td>\n",
       "      <td>Medium</td>\n",
       "    </tr>\n",
       "    <tr>\n",
       "      <th>3</th>\n",
       "      <td>ATLS 6910</td>\n",
       "      <td>Social Impact Practicum</td>\n",
       "      <td>ATLS</td>\n",
       "      <td>Department of Atlas Institute</td>\n",
       "      <td>This practicum allows Social Impact MS student...</td>\n",
       "      <td>['ATLS 5210', 'ATLS 5240', 'ATLS 5230', 'ATLS ...</td>\n",
       "      <td>['person']</td>\n",
       "      <td>['practicum', 'social', 'ms', 'assignments', '...</td>\n",
       "      <td>['social impact practicum', 'impact practicum ...</td>\n",
       "      <td>This practicum allows Social Impact MS student...</td>\n",
       "      <td>0.646494</td>\n",
       "      <td>Medium</td>\n",
       "    </tr>\n",
       "    <tr>\n",
       "      <th>4</th>\n",
       "      <td>BCHM 5491</td>\n",
       "      <td>Modern Biophysical Methods</td>\n",
       "      <td>BCHM</td>\n",
       "      <td>Department of Biochemistry</td>\n",
       "      <td>Covers the basic theory of biophysical methods...</td>\n",
       "      <td>[]</td>\n",
       "      <td>['person']</td>\n",
       "      <td>['biophysical', 'biochemistry', 'spectroscopy'...</td>\n",
       "      <td>['biophysical methods widely', 'biophysical me...</td>\n",
       "      <td>Covers the basic theory of biophysical methods...</td>\n",
       "      <td>0.726881</td>\n",
       "      <td>Difficult</td>\n",
       "    </tr>\n",
       "    <tr>\n",
       "      <th>...</th>\n",
       "      <td>...</td>\n",
       "      <td>...</td>\n",
       "      <td>...</td>\n",
       "      <td>...</td>\n",
       "      <td>...</td>\n",
       "      <td>...</td>\n",
       "      <td>...</td>\n",
       "      <td>...</td>\n",
       "      <td>...</td>\n",
       "      <td>...</td>\n",
       "      <td>...</td>\n",
       "      <td>...</td>\n",
       "    </tr>\n",
       "    <tr>\n",
       "      <th>3861</th>\n",
       "      <td>LAWS 7418</td>\n",
       "      <td>Legal Imagination</td>\n",
       "      <td>LAWS</td>\n",
       "      <td>Law School</td>\n",
       "      <td>Advanced course in reading and writing for law...</td>\n",
       "      <td>[]</td>\n",
       "      <td>['person']</td>\n",
       "      <td>['lawyer', 'literary', 'ambitions', 'writer', ...</td>\n",
       "      <td>['writing law students', 'reading writing law'...</td>\n",
       "      <td>Advanced course in reading and writing for law...</td>\n",
       "      <td>0.524932</td>\n",
       "      <td>Medium</td>\n",
       "    </tr>\n",
       "    <tr>\n",
       "      <th>3862</th>\n",
       "      <td>PHYS 7240</td>\n",
       "      <td>Advanced Statistical Mechanics</td>\n",
       "      <td>PHYS</td>\n",
       "      <td>Physics Department</td>\n",
       "      <td>Introduces current research topics in statisti...</td>\n",
       "      <td>[]</td>\n",
       "      <td>['person']</td>\n",
       "      <td>['topics', 'phys', 'statistical', 'prerequisit...</td>\n",
       "      <td>['statistical mechanics topics', 'topics stati...</td>\n",
       "      <td>Topics vary from year to year and may include ...</td>\n",
       "      <td>0.551828</td>\n",
       "      <td>Medium</td>\n",
       "    </tr>\n",
       "    <tr>\n",
       "      <th>3863</th>\n",
       "      <td>PHYS 7430</td>\n",
       "      <td>Soften Condensed Matter Physics</td>\n",
       "      <td>PHYS</td>\n",
       "      <td>Physics Department</td>\n",
       "      <td>Introduces the science of liquid crystals, pol...</td>\n",
       "      <td>[]</td>\n",
       "      <td>['person']</td>\n",
       "      <td>['biopolymers', 'polymers', 'colloids', 'copol...</td>\n",
       "      <td>['science liquid crystals', 'liquid crystals p...</td>\n",
       "      <td>Introduces the science of liquid crystals, pol...</td>\n",
       "      <td>0.748678</td>\n",
       "      <td>Difficult</td>\n",
       "    </tr>\n",
       "    <tr>\n",
       "      <th>3864</th>\n",
       "      <td>PHIL 2160</td>\n",
       "      <td>Ethics and Information Technology</td>\n",
       "      <td>PHIL</td>\n",
       "      <td>Philosophy Department</td>\n",
       "      <td>Examines contemporary ethical issues concernin...</td>\n",
       "      <td>[]</td>\n",
       "      <td>['online']</td>\n",
       "      <td>['hacking', 'ethical', 'technologies', 'misuse...</td>\n",
       "      <td>['contemporary ethical issues', 'topics includ...</td>\n",
       "      <td>Examines contemporary ethical issues concernin...</td>\n",
       "      <td>0.786076</td>\n",
       "      <td>Difficult</td>\n",
       "    </tr>\n",
       "    <tr>\n",
       "      <th>3865</th>\n",
       "      <td>GEOG 5103</td>\n",
       "      <td>Geographic Information Science: Spatial Analytics</td>\n",
       "      <td>GEOG</td>\n",
       "      <td>Department of Geography</td>\n",
       "      <td>Explores advanced topics in geospatial databas...</td>\n",
       "      <td>[]</td>\n",
       "      <td>['person']</td>\n",
       "      <td>['geographic', 'gis', 'geospatial', 'geog', 'g...</td>\n",
       "      <td>['geographic information gis', 'geospatial dat...</td>\n",
       "      <td>Exercises demonstrate the application of GIS-b...</td>\n",
       "      <td>0.680870</td>\n",
       "      <td>Medium</td>\n",
       "    </tr>\n",
       "  </tbody>\n",
       "</table>\n",
       "<p>3866 rows × 12 columns</p>\n",
       "</div>"
      ],
      "text/plain": [
       "       CourseId                                         CourseName  \\\n",
       "0     ENGL 5169  Multicultural/Postcolonial Studies: Sound Stud...   \n",
       "1     CLAS 5129                         Aegean Art and Archaeology   \n",
       "2     ECEN 5341                                Bioelectromagnetics   \n",
       "3     ATLS 6910                            Social Impact Practicum   \n",
       "4     BCHM 5491                         Modern Biophysical Methods   \n",
       "...         ...                                                ...   \n",
       "3861  LAWS 7418                                  Legal Imagination   \n",
       "3862  PHYS 7240                     Advanced Statistical Mechanics   \n",
       "3863  PHYS 7430                    Soften Condensed Matter Physics   \n",
       "3864  PHIL 2160                  Ethics and Information Technology   \n",
       "3865  GEOG 5103  Geographic Information Science: Spatial Analytics   \n",
       "\n",
       "     DepartmentId                                     DepartmentName  \\\n",
       "0            ENGL                              Department of English   \n",
       "1            CLAS                             Department of Classics   \n",
       "2            ECEN  Department of Electrical, Computer, and Energy...   \n",
       "3            ATLS                      Department of Atlas Institute   \n",
       "4            BCHM                         Department of Biochemistry   \n",
       "...           ...                                                ...   \n",
       "3861         LAWS                                         Law School   \n",
       "3862         PHYS                                 Physics Department   \n",
       "3863         PHYS                                 Physics Department   \n",
       "3864         PHIL                              Philosophy Department   \n",
       "3865         GEOG                            Department of Geography   \n",
       "\n",
       "                                                   Desc  \\\n",
       "0     Introduces graduate level study of ethnic Amer...   \n",
       "1     Detailed study of the cultures of prehistoric ...   \n",
       "2     Effects of electric and magnetic fields on bio...   \n",
       "3     This practicum allows Social Impact MS student...   \n",
       "4     Covers the basic theory of biophysical methods...   \n",
       "...                                                 ...   \n",
       "3861  Advanced course in reading and writing for law...   \n",
       "3862  Introduces current research topics in statisti...   \n",
       "3863  Introduces the science of liquid crystals, pol...   \n",
       "3864  Examines contemporary ethical issues concernin...   \n",
       "3865  Explores advanced topics in geospatial databas...   \n",
       "\n",
       "                                                    Pre        Mode  \\\n",
       "0                                                    []  ['person']   \n",
       "1                                                    []  ['person']   \n",
       "2                                                    []  ['person']   \n",
       "3     ['ATLS 5210', 'ATLS 5240', 'ATLS 5230', 'ATLS ...  ['person']   \n",
       "4                                                    []  ['person']   \n",
       "...                                                 ...         ...   \n",
       "3861                                                 []  ['person']   \n",
       "3862                                                 []  ['person']   \n",
       "3863                                                 []  ['person']   \n",
       "3864                                                 []  ['online']   \n",
       "3865                                                 []  ['person']   \n",
       "\n",
       "                                         CourseKeywords  \\\n",
       "0     ['graduate', 'writing', 'postcolonial', 'study...   \n",
       "1     ['crete', 'archaeology', 'greece', 'mediterran...   \n",
       "2     ['magnetic', 'biological', 'fields', 'electric...   \n",
       "3     ['practicum', 'social', 'ms', 'assignments', '...   \n",
       "4     ['biophysical', 'biochemistry', 'spectroscopy'...   \n",
       "...                                                 ...   \n",
       "3861  ['lawyer', 'literary', 'ambitions', 'writer', ...   \n",
       "3862  ['topics', 'phys', 'statistical', 'prerequisit...   \n",
       "3863  ['biopolymers', 'polymers', 'colloids', 'copol...   \n",
       "3864  ['hacking', 'ethical', 'technologies', 'misuse...   \n",
       "3865  ['geographic', 'gis', 'geospatial', 'geog', 'g...   \n",
       "\n",
       "                                       CourseKeyPhrases  \\\n",
       "0     ['postcolonial writing english', 'american pos...   \n",
       "1     ['prehistoric greece cycladic', 'cultures preh...   \n",
       "2     ['magnetic fields biological', 'fields biologi...   \n",
       "3     ['social impact practicum', 'impact practicum ...   \n",
       "4     ['biophysical methods widely', 'biophysical me...   \n",
       "...                                                 ...   \n",
       "3861  ['writing law students', 'reading writing law'...   \n",
       "3862  ['statistical mechanics topics', 'topics stati...   \n",
       "3863  ['science liquid crystals', 'liquid crystals p...   \n",
       "3864  ['contemporary ethical issues', 'topics includ...   \n",
       "3865  ['geographic information gis', 'geospatial dat...   \n",
       "\n",
       "                                          CourseSummary  CourseDifficulty  \\\n",
       "0     Emphasizes a wide range of genres, forms, hist...          0.557381   \n",
       "1     Emphasis is on palace states. Same as CLAS 412...          0.589075   \n",
       "2     The complexity of biological systems is descri...          0.569167   \n",
       "3     This practicum allows Social Impact MS student...          0.646494   \n",
       "4     Covers the basic theory of biophysical methods...          0.726881   \n",
       "...                                                 ...               ...   \n",
       "3861  Advanced course in reading and writing for law...          0.524932   \n",
       "3862  Topics vary from year to year and may include ...          0.551828   \n",
       "3863  Introduces the science of liquid crystals, pol...          0.748678   \n",
       "3864  Examines contemporary ethical issues concernin...          0.786076   \n",
       "3865  Exercises demonstrate the application of GIS-b...          0.680870   \n",
       "\n",
       "     CourseDifficultyBand  \n",
       "0                  Medium  \n",
       "1                  Medium  \n",
       "2                  Medium  \n",
       "3                  Medium  \n",
       "4               Difficult  \n",
       "...                   ...  \n",
       "3861               Medium  \n",
       "3862               Medium  \n",
       "3863            Difficult  \n",
       "3864            Difficult  \n",
       "3865               Medium  \n",
       "\n",
       "[3866 rows x 12 columns]"
      ]
     },
     "execution_count": 567,
     "metadata": {},
     "output_type": "execute_result"
    }
   ],
   "source": [
    "df"
   ]
  },
  {
   "cell_type": "markdown",
   "metadata": {},
   "source": [
    "# Lookups"
   ]
  },
  {
   "cell_type": "code",
   "execution_count": 594,
   "metadata": {},
   "outputs": [],
   "source": [
    "class RECSYSTEM:\n",
    "\n",
    "    def __init__(self, config, synonyms, assym_model, ssym_model, assym_corpus_embeddings, ssym_corpus_embeddings, df_allcoursesdata):\n",
    "        self.config = config\n",
    "        self.synonyms = synonyms\n",
    "        self.synonyms_mapper = {v: k for k, v_list in synonyms.items() for v in v_list}\n",
    "        self.assym_model = assym_model\n",
    "        self.ssym_model = ssym_model\n",
    "        self.assym_corpus_embeddings = assym_corpus_embeddings\n",
    "        self.ssym_corpus_embeddings = ssym_corpus_embeddings\n",
    "        self.do_preprocess = config.get(\"rec_do_preprocess_bool\")\n",
    "        self.max_assymeteric_len = config.get(\"max_assymeteric_len_num\")\n",
    "        self.return_k_similar = config.get(\"return_k_similar_num\")\n",
    "        self.type_of_query = []   # tells if user asked for online, pre-requisities, etc.\n",
    "\n",
    "        # get saved All courses meta-data information for IR\n",
    "        # ** plugin required **\n",
    "        self.allcoursesdata = df_allcoursesdata\n",
    "\n",
    "        #logger.info(\"RECSYSTEM initialized\")\n",
    "        return\n",
    "\n",
    "    def get_model(self, query):\n",
    "        \"\"\"\n",
    "            Chooses a semantic search model based on query length\n",
    "            :param:    query: str - user input query\n",
    "            :return:   model: object - use loaded recommender model object\n",
    "                       corpus_embeddings: tensor - use loaded vectorized embeddings of all courses in tensor fmt\n",
    "        \"\"\"\n",
    "        if len(query) <= self.max_assymeteric_len:\n",
    "            model = self.assym_model\n",
    "            corpus_embeddings = self.assym_corpus_embeddings\n",
    "        else:\n",
    "            model = self.ssym_model\n",
    "            corpus_embeddings = self.ssym_corpus_embeddings\n",
    "        return model, corpus_embeddings\n",
    "\n",
    "    def preprocess_query(self, query):\n",
    "        \"\"\"\n",
    "            Uses sister pre-process module and executes pre-processing for a given str query\n",
    "            :param:    query: str - user input query\n",
    "            :return:   query: str - preprocessed query\n",
    "        \"\"\"\n",
    "        query = str(query).strip()\n",
    "        query = ftfy.fix_text(query)\n",
    "        # Find if there are any \"online\" or \"prerequisites\" synonymous words to re-route queries to\n",
    "        # platform specific responses (dialogue management)\n",
    "        found_synonyms = []\n",
    "        for finders in self.synonyms.keys():\n",
    "            isFind = re.findall(r\"(?=(\" + '|'.join(self.synonyms[finders]) + r\"))\", query)\n",
    "            if len(isFind) > 0:\n",
    "                found_synonyms.append(self.synonyms_mapper[isFind[0]])\n",
    "        query = re.sub(r\"([\\s\\n\\t\\r]+)\", \" \", query).strip()\n",
    "        query = re.sub(r\"[\\$|\\#\\@\\*\\%]+\\d+[\\$|\\#\\@\\*\\%]+\", \" \", query)\n",
    "        query = re.sub(r\"[\\/,\\@,\\#,\\\\,\\{,\\},\\(,\\),\\[,\\],\\$,\\%,\\^,\\&,\\*,\\<,\\>]\", \" \", query)\n",
    "        query = re.sub(r\"[\\,,\\;,\\:,\\-]\", \" \", query)\n",
    "        query = re.sub(r\"[\\!,\\?,\\.]\", \" \", query)\n",
    "        query = str(query).strip().lower()\n",
    "        return query, sorted(set(found_synonyms))\n",
    "\n",
    "    def get_top_k(self, query, display=False):\n",
    "        \"\"\"\n",
    "            Loads desired model and all-course-embeddings and returns ranked recommendations (IR).\n",
    "            :param:    query: str - user input query (preprocessed or not)\n",
    "            :return:   ranked_df:\n",
    "        \"\"\"\n",
    "        # optional pre-processing unit\n",
    "        found_synonyms = []\n",
    "        if self.do_preprocess and self.do_preprocess is True:\n",
    "            query, found_synonyms = self.preprocess_query(query)\n",
    "        else:\n",
    "            query = str(query).strip().lower()\n",
    "\n",
    "        # get loaded configurations\n",
    "        data = self.allcoursesdata\n",
    "        model, corpus_embeddings = self.get_model(query)\n",
    "\n",
    "        # encode sentence to get sentence embeddings\n",
    "        sentence_embedding = model.encode(query, convert_to_tensor=True)\n",
    "\n",
    "        # 'top_k' similar results to return\n",
    "        top_k = self.return_k_similar\n",
    "\n",
    "        # compute cosine similarity scores\n",
    "        cos_scores = util.pytorch_cos_sim(sentence_embedding, corpus_embeddings)[0]\n",
    "\n",
    "        # Sort the results in decreasing order and get the first top_k\n",
    "        top_results = np.argpartition(-cos_scores, range(top_k))[0:top_k].numpy()\n",
    "        \n",
    "        # IR\n",
    "        ranked_df = data[data.index.isin(top_results)]\n",
    "        ranked_df.loc[top_results, \"ConfidenceScore\"] = [cos_scores[idx]*100.0 for idx in top_results]\n",
    "        ranked_df = ranked_df.sort_values(by=['ConfidenceScore'], ascending=False)\n",
    "\n",
    "        # Dialogue Management\n",
    "        # if there are any \"online\" or \"prerequisites\" synonymous words in user query, re-route responses to match\n",
    "        # specific answers only.\n",
    "        if len(found_synonyms) > 0:\n",
    "            if \"online_list\" in found_synonyms:\n",
    "                ranked_df = ranked_df[(ranked_df.Mode == \"['person', 'online']\") |\n",
    "                                      (ranked_df.Mode == \"['online']\") |\n",
    "                                      (ranked_df.Mode == \"['independent', 'person', 'online']\")]\n",
    "                self.type_of_query.append(\"Online\")\n",
    "            if \"prereq_list\" in found_synonyms:\n",
    "                ranked_df = ranked_df[ranked_df.Pre != \"[]\"]\n",
    "                self.type_of_query.append(\"Prerequisites\")\n",
    "        else:\n",
    "            self.type_of_query.append(\"Person\")\n",
    "        if display:\n",
    "            for idx in top_results[0:top_k]:\n",
    "                crn = ranked_df.loc[idx, \"CourseName\"]\n",
    "                #print(crn, \"\\t(Score: %.4f)\" % (cos_scores[idx]))\n",
    "                logger.info(\"Recommended:\\nCourse: {};\\t\\tScore: {}\".format(crn, cos_scores[idx]))\n",
    "        return ranked_df.reset_index(drop=True)\n",
    "\n",
    "    def run(self, query, display=False):\n",
    "        \"\"\"\n",
    "            Main Execute Recommender System using Information Retrieval (IR)\n",
    "        \"\"\"\n",
    "        # if multiple queries\n",
    "        if isinstance(query, list) or isinstance(query, tuple) or isinstance(query, pd.Series):\n",
    "            n = int(self.return_k_similar)\n",
    "            k = len(query)\n",
    "            dists = np.arange(n+k-1, n-1, -1) // k\n",
    "            ranked_similar_courses_metadata = pd.DataFrame()\n",
    "            for i, q in enumerate(query):\n",
    "                ranked_similar_courses_metadata = ranked_similar_courses_metadata.append(self.get_top_k(q, display=False)[:dists[i]])\n",
    "        elif isinstance(query, str):\n",
    "            if query is None or len(query.strip()) < 3 or query == \"\":\n",
    "                return []\n",
    "            ranked_similar_courses_metadata = self.get_top_k(query, display=display)\n",
    "        else:\n",
    "            raise Exception(\"Invalid query type! Accepted str, list, series.\")\n",
    "        # final\n",
    "        output = {\n",
    "            \"top_similar_count\": self.return_k_similar,\n",
    "            \"platform\": self.type_of_query,\n",
    "            \"top_similar_courses\": ranked_similar_courses_metadata.reset_index(drop=True).to_json(orient='records')\n",
    "        }\n",
    "        #return output\n",
    "        return ranked_similar_courses_metadata\n",
    "        \n",
    "#EOF"
   ]
  },
  {
   "cell_type": "code",
   "execution_count": 637,
   "metadata": {},
   "outputs": [],
   "source": [
    "input_q = [\"Big Data\", \"machine learning\"]"
   ]
  },
  {
   "cell_type": "code",
   "execution_count": 638,
   "metadata": {},
   "outputs": [],
   "source": [
    " config = {\n",
    "     \"rec_do_preprocess_bool\": True,\n",
    "     \"max_assymeteric_len_num\": 120,\n",
    "     \"return_k_similar_num\": 10\n",
    " }"
   ]
  },
  {
   "cell_type": "code",
   "execution_count": 639,
   "metadata": {},
   "outputs": [],
   "source": [
    "rec = RECSYSTEM(config,\n",
    "                synonyms, \n",
    "                assym_model, \n",
    "                ssym_model, \n",
    "                assym_corpus_embeddings, \n",
    "                ssym_corpus_embeddings, \n",
    "                df)"
   ]
  },
  {
   "cell_type": "code",
   "execution_count": 640,
   "metadata": {
    "collapsed": true
   },
   "outputs": [
    {
     "data": {
      "text/html": [
       "<div>\n",
       "<style scoped>\n",
       "    .dataframe tbody tr th:only-of-type {\n",
       "        vertical-align: middle;\n",
       "    }\n",
       "\n",
       "    .dataframe tbody tr th {\n",
       "        vertical-align: top;\n",
       "    }\n",
       "\n",
       "    .dataframe thead th {\n",
       "        text-align: right;\n",
       "    }\n",
       "</style>\n",
       "<table border=\"1\" class=\"dataframe\">\n",
       "  <thead>\n",
       "    <tr style=\"text-align: right;\">\n",
       "      <th></th>\n",
       "      <th>CourseId</th>\n",
       "      <th>CourseName</th>\n",
       "      <th>DepartmentId</th>\n",
       "      <th>DepartmentName</th>\n",
       "      <th>Desc</th>\n",
       "      <th>Pre</th>\n",
       "      <th>Mode</th>\n",
       "      <th>CourseKeywords</th>\n",
       "      <th>CourseKeyPhrases</th>\n",
       "      <th>CourseSummary</th>\n",
       "      <th>CourseDifficulty</th>\n",
       "      <th>CourseDifficultyBand</th>\n",
       "      <th>ConfidenceScore</th>\n",
       "    </tr>\n",
       "  </thead>\n",
       "  <tbody>\n",
       "    <tr>\n",
       "      <th>0</th>\n",
       "      <td>ATLS 5214</td>\n",
       "      <td>Big Data Architecture</td>\n",
       "      <td>ATLS</td>\n",
       "      <td>Department of Atlas Institute</td>\n",
       "      <td>Provides students with a comprehensive survey ...</td>\n",
       "      <td>[]</td>\n",
       "      <td>['person']</td>\n",
       "      <td>['atls', 'technologies', 'projects', 'students...</td>\n",
       "      <td>['project atls', 'project atls 4214', 'group p...</td>\n",
       "      <td>Provides students with a comprehensive survey ...</td>\n",
       "      <td>0.554850</td>\n",
       "      <td>Medium</td>\n",
       "      <td>57.375778</td>\n",
       "    </tr>\n",
       "    <tr>\n",
       "      <th>1</th>\n",
       "      <td>CSCI 6502</td>\n",
       "      <td>Big Data Analytics: Systems, Algorithms, and A...</td>\n",
       "      <td>CSCI</td>\n",
       "      <td>Department of Computer Science</td>\n",
       "      <td>This course studies state-of-the-art practice ...</td>\n",
       "      <td>[]</td>\n",
       "      <td>['person', 'online']</td>\n",
       "      <td>['mapreduce', 'nosql', 'analytics', 'iot', 'co...</td>\n",
       "      <td>['big data', 'big data analytics', 'big data s...</td>\n",
       "      <td>Specifically, this course covers big data syst...</td>\n",
       "      <td>0.730961</td>\n",
       "      <td>Difficult</td>\n",
       "      <td>56.675888</td>\n",
       "    </tr>\n",
       "    <tr>\n",
       "      <th>2</th>\n",
       "      <td>ATLS 4214</td>\n",
       "      <td>Big Data Architecture</td>\n",
       "      <td>ATLS</td>\n",
       "      <td>Department of Atlas Institute</td>\n",
       "      <td>Provides students with a comprehensive survey ...</td>\n",
       "      <td>['CSCI 2270', 'CSCI 2275']</td>\n",
       "      <td>['person']</td>\n",
       "      <td>['atls', 'technologies', 'projects', 'students...</td>\n",
       "      <td>['project atls', 'project atls 5214', 'group p...</td>\n",
       "      <td>Provides students with a comprehensive survey ...</td>\n",
       "      <td>0.554850</td>\n",
       "      <td>Medium</td>\n",
       "      <td>56.620216</td>\n",
       "    </tr>\n",
       "    <tr>\n",
       "      <th>3</th>\n",
       "      <td>GEOG 3023</td>\n",
       "      <td>Statistics and Geographic Data</td>\n",
       "      <td>GEOG</td>\n",
       "      <td>Department of Geography</td>\n",
       "      <td>Introduces computational and statistical tools...</td>\n",
       "      <td>[]</td>\n",
       "      <td>['person', 'online']</td>\n",
       "      <td>['geographic', 'statistical', 'statistics', 's...</td>\n",
       "      <td>['spatial data', 'spatial data requires', 'sol...</td>\n",
       "      <td>Introduces computational and statistical tools...</td>\n",
       "      <td>0.607736</td>\n",
       "      <td>Medium</td>\n",
       "      <td>46.852764</td>\n",
       "    </tr>\n",
       "    <tr>\n",
       "      <th>4</th>\n",
       "      <td>ACCT 5120</td>\n",
       "      <td>Business Analytics</td>\n",
       "      <td>ACCT</td>\n",
       "      <td>Department of Accounting</td>\n",
       "      <td>Teaches cutting-edge tools and approaches to t...</td>\n",
       "      <td>[]</td>\n",
       "      <td>['person']</td>\n",
       "      <td>['analytics', 'data', 'application', 'monitori...</td>\n",
       "      <td>['including big data', 'big data', 'big data e...</td>\n",
       "      <td>Teaches cutting-edge tools and approaches to t...</td>\n",
       "      <td>0.660056</td>\n",
       "      <td>Medium</td>\n",
       "      <td>46.545963</td>\n",
       "    </tr>\n",
       "    <tr>\n",
       "      <th>0</th>\n",
       "      <td>CSCI 5622</td>\n",
       "      <td>Machine Learning</td>\n",
       "      <td>CSCI</td>\n",
       "      <td>Department of Computer Science</td>\n",
       "      <td>Trains students to build computer systems that...</td>\n",
       "      <td>['MATH 2130', 'APPM 3570', 'APPM 3310', 'MATH ...</td>\n",
       "      <td>['person', 'online']</td>\n",
       "      <td>['learning', 'algorithms', 'supervised', 'mode...</td>\n",
       "      <td>['computer systems learn', 'decision trees', '...</td>\n",
       "      <td>Emphasizes practical and theoretical understan...</td>\n",
       "      <td>0.643812</td>\n",
       "      <td>Medium</td>\n",
       "      <td>69.705322</td>\n",
       "    </tr>\n",
       "    <tr>\n",
       "      <th>1</th>\n",
       "      <td>CSCI 4622</td>\n",
       "      <td>Machine Learning</td>\n",
       "      <td>CSCI</td>\n",
       "      <td>Department of Computer Science</td>\n",
       "      <td>Introduces students to tools, methods, and the...</td>\n",
       "      <td>['MATH 3510', 'MCEN 3047', 'STAT 3100', 'ECON ...</td>\n",
       "      <td>['person']</td>\n",
       "      <td>['supervised', 'models', 'algorithms', 'learni...</td>\n",
       "      <td>['machine learning technique', 'machine learni...</td>\n",
       "      <td>Focuses on supervised machine learning techniq...</td>\n",
       "      <td>0.640035</td>\n",
       "      <td>Medium</td>\n",
       "      <td>67.909607</td>\n",
       "    </tr>\n",
       "    <tr>\n",
       "      <th>2</th>\n",
       "      <td>INFO 5604</td>\n",
       "      <td>Applied Machine Learning</td>\n",
       "      <td>INFO</td>\n",
       "      <td>Information Science Department</td>\n",
       "      <td>Introduces algorithms and tools for building i...</td>\n",
       "      <td>[]</td>\n",
       "      <td>['person']</td>\n",
       "      <td>['algorithms', 'classification', 'clustering',...</td>\n",
       "      <td>['building intelligent computational', 'intell...</td>\n",
       "      <td>Students will learn the theoretical underpinni...</td>\n",
       "      <td>0.638486</td>\n",
       "      <td>Medium</td>\n",
       "      <td>67.661682</td>\n",
       "    </tr>\n",
       "    <tr>\n",
       "      <th>3</th>\n",
       "      <td>CSPB 4622</td>\n",
       "      <td>Machine Learning</td>\n",
       "      <td>CSPB</td>\n",
       "      <td>Department of Cognitive Science and Psychology...</td>\n",
       "      <td>Introduces students to tools, methods, and the...</td>\n",
       "      <td>[]</td>\n",
       "      <td>['online']</td>\n",
       "      <td>['supervised', 'algorithms', 'models', 'learni...</td>\n",
       "      <td>['machine learning technique', 'machine learni...</td>\n",
       "      <td>Focuses on supervised machine learning techniq...</td>\n",
       "      <td>0.640035</td>\n",
       "      <td>Medium</td>\n",
       "      <td>67.446724</td>\n",
       "    </tr>\n",
       "    <tr>\n",
       "      <th>4</th>\n",
       "      <td>INFO 4604</td>\n",
       "      <td>Applied Machine Learning</td>\n",
       "      <td>INFO</td>\n",
       "      <td>Information Science Department</td>\n",
       "      <td>Introduces algorithms and tools for building i...</td>\n",
       "      <td>['CSCI 2270', 'INFO 2301', 'INFO 2201']</td>\n",
       "      <td>['person']</td>\n",
       "      <td>['algorithms', 'classification', 'clustering',...</td>\n",
       "      <td>['building intelligent computational', 'intell...</td>\n",
       "      <td>Students will learn the theoretical underpinni...</td>\n",
       "      <td>0.638486</td>\n",
       "      <td>Medium</td>\n",
       "      <td>67.182808</td>\n",
       "    </tr>\n",
       "  </tbody>\n",
       "</table>\n",
       "</div>"
      ],
      "text/plain": [
       "    CourseId                                         CourseName DepartmentId  \\\n",
       "0  ATLS 5214                              Big Data Architecture         ATLS   \n",
       "1  CSCI 6502  Big Data Analytics: Systems, Algorithms, and A...         CSCI   \n",
       "2  ATLS 4214                              Big Data Architecture         ATLS   \n",
       "3  GEOG 3023                     Statistics and Geographic Data         GEOG   \n",
       "4  ACCT 5120                                 Business Analytics         ACCT   \n",
       "0  CSCI 5622                                   Machine Learning         CSCI   \n",
       "1  CSCI 4622                                   Machine Learning         CSCI   \n",
       "2  INFO 5604                           Applied Machine Learning         INFO   \n",
       "3  CSPB 4622                                   Machine Learning         CSPB   \n",
       "4  INFO 4604                           Applied Machine Learning         INFO   \n",
       "\n",
       "                                      DepartmentName  \\\n",
       "0                      Department of Atlas Institute   \n",
       "1                     Department of Computer Science   \n",
       "2                      Department of Atlas Institute   \n",
       "3                            Department of Geography   \n",
       "4                           Department of Accounting   \n",
       "0                     Department of Computer Science   \n",
       "1                     Department of Computer Science   \n",
       "2                     Information Science Department   \n",
       "3  Department of Cognitive Science and Psychology...   \n",
       "4                     Information Science Department   \n",
       "\n",
       "                                                Desc  \\\n",
       "0  Provides students with a comprehensive survey ...   \n",
       "1  This course studies state-of-the-art practice ...   \n",
       "2  Provides students with a comprehensive survey ...   \n",
       "3  Introduces computational and statistical tools...   \n",
       "4  Teaches cutting-edge tools and approaches to t...   \n",
       "0  Trains students to build computer systems that...   \n",
       "1  Introduces students to tools, methods, and the...   \n",
       "2  Introduces algorithms and tools for building i...   \n",
       "3  Introduces students to tools, methods, and the...   \n",
       "4  Introduces algorithms and tools for building i...   \n",
       "\n",
       "                                                 Pre                  Mode  \\\n",
       "0                                                 []            ['person']   \n",
       "1                                                 []  ['person', 'online']   \n",
       "2                         ['CSCI 2270', 'CSCI 2275']            ['person']   \n",
       "3                                                 []  ['person', 'online']   \n",
       "4                                                 []            ['person']   \n",
       "0  ['MATH 2130', 'APPM 3570', 'APPM 3310', 'MATH ...  ['person', 'online']   \n",
       "1  ['MATH 3510', 'MCEN 3047', 'STAT 3100', 'ECON ...            ['person']   \n",
       "2                                                 []            ['person']   \n",
       "3                                                 []            ['online']   \n",
       "4            ['CSCI 2270', 'INFO 2301', 'INFO 2201']            ['person']   \n",
       "\n",
       "                                      CourseKeywords  \\\n",
       "0  ['atls', 'technologies', 'projects', 'students...   \n",
       "1  ['mapreduce', 'nosql', 'analytics', 'iot', 'co...   \n",
       "2  ['atls', 'technologies', 'projects', 'students...   \n",
       "3  ['geographic', 'statistical', 'statistics', 's...   \n",
       "4  ['analytics', 'data', 'application', 'monitori...   \n",
       "0  ['learning', 'algorithms', 'supervised', 'mode...   \n",
       "1  ['supervised', 'models', 'algorithms', 'learni...   \n",
       "2  ['algorithms', 'classification', 'clustering',...   \n",
       "3  ['supervised', 'algorithms', 'models', 'learni...   \n",
       "4  ['algorithms', 'classification', 'clustering',...   \n",
       "\n",
       "                                    CourseKeyPhrases  \\\n",
       "0  ['project atls', 'project atls 4214', 'group p...   \n",
       "1  ['big data', 'big data analytics', 'big data s...   \n",
       "2  ['project atls', 'project atls 5214', 'group p...   \n",
       "3  ['spatial data', 'spatial data requires', 'sol...   \n",
       "4  ['including big data', 'big data', 'big data e...   \n",
       "0  ['computer systems learn', 'decision trees', '...   \n",
       "1  ['machine learning technique', 'machine learni...   \n",
       "2  ['building intelligent computational', 'intell...   \n",
       "3  ['machine learning technique', 'machine learni...   \n",
       "4  ['building intelligent computational', 'intell...   \n",
       "\n",
       "                                       CourseSummary  CourseDifficulty  \\\n",
       "0  Provides students with a comprehensive survey ...          0.554850   \n",
       "1  Specifically, this course covers big data syst...          0.730961   \n",
       "2  Provides students with a comprehensive survey ...          0.554850   \n",
       "3  Introduces computational and statistical tools...          0.607736   \n",
       "4  Teaches cutting-edge tools and approaches to t...          0.660056   \n",
       "0  Emphasizes practical and theoretical understan...          0.643812   \n",
       "1  Focuses on supervised machine learning techniq...          0.640035   \n",
       "2  Students will learn the theoretical underpinni...          0.638486   \n",
       "3  Focuses on supervised machine learning techniq...          0.640035   \n",
       "4  Students will learn the theoretical underpinni...          0.638486   \n",
       "\n",
       "  CourseDifficultyBand  ConfidenceScore  \n",
       "0               Medium        57.375778  \n",
       "1            Difficult        56.675888  \n",
       "2               Medium        56.620216  \n",
       "3               Medium        46.852764  \n",
       "4               Medium        46.545963  \n",
       "0               Medium        69.705322  \n",
       "1               Medium        67.909607  \n",
       "2               Medium        67.661682  \n",
       "3               Medium        67.446724  \n",
       "4               Medium        67.182808  "
      ]
     },
     "execution_count": 640,
     "metadata": {},
     "output_type": "execute_result"
    }
   ],
   "source": [
    "out = rec.run(input_q)\n",
    "out"
   ]
  },
  {
   "cell_type": "markdown",
   "metadata": {},
   "source": [
    "---"
   ]
  }
 ],
 "metadata": {
  "kernelspec": {
   "display_name": "Python_3.8",
   "language": "python",
   "name": "python_3.8"
  },
  "language_info": {
   "codemirror_mode": {
    "name": "ipython",
    "version": 3
   },
   "file_extension": ".py",
   "mimetype": "text/x-python",
   "name": "python",
   "nbconvert_exporter": "python",
   "pygments_lexer": "ipython3",
   "version": "3.8.0"
  }
 },
 "nbformat": 4,
 "nbformat_minor": 5
}
