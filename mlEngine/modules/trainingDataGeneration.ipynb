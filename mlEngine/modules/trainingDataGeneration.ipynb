{
 "cells": [
  {
   "cell_type": "markdown",
   "metadata": {},
   "source": [
    "# Training Data Generation"
   ]
  },
  {
   "cell_type": "markdown",
   "metadata": {},
   "source": [
    "Problem Space:\n",
    "    \n",
    "There are 92K tweets across 5 years 2018 to 2022 with anchor tagged username @CUBoulder. Labelling these preprocessed tweets into following intents, using RevChatGPT tool.\n",
    "\n",
    "Inventory:\n",
    "\n",
    "\"Reverse Engineered ChatGPT API by OpenAI. Extensible for chatbots etc.\"\n",
    "- virtualharby - Memes for emotional support\n",
    "- rawandahmad698 - Reverse engineering Auth0\n",
    "- FlorianREGAZ - TLS client\n",
    "- PyRo1121 - Linting\n",
    "- Harry-Jing - Async support\n",
    "- Ukenn2112 - Documentation\n",
    "\n",
    "https://github.com/acheong08/ChatGPT"
   ]
  },
  {
   "cell_type": "code",
   "execution_count": 1,
   "metadata": {},
   "outputs": [],
   "source": [
    "import os\n",
    "import pandas as pd\n",
    "import sys\n",
    "import json\n",
    "from revChatGPT.ChatGPT import Chatbot"
   ]
  },
  {
   "cell_type": "code",
   "execution_count": 2,
   "metadata": {},
   "outputs": [],
   "source": [
    "token = \"\"\"eyJhbGciOiJkaXIiLCJlbmMiOiJBMjU2R0NNIn0..cSX_GT-IkjbR0FR5.nyKj02VKFr2F4BNy5nmug1RS3zX9fblliEnBImPRlnHgWy-H5sk1oaZ77YbMRBXUQ5NObiERoWegqOQriVPH5XD1aKX6-9kQbAoDE6dhNw9bHpmmepkHVslnNal0oLs9UimDyG0mvZTAe1DVJjBXPyPHrpewja1657Z8LUDuO5eKlqf1OKWzwYZsqI0utSc3sJ9Dh6JyoAGQ7CqzXtvgyUM0u4iarIdSiKz9nFu_gTAleIVO6PW5rKzpTlxwCIdVTI1E_NIFF_8xF0oZRf-0CJEug9mIjQv1iWqeE5D40e9Dv9s_6yrxACktmrBsz2741ykpgmQaB_HV4lJ-6dnKnhN77LfjVhdBYfEIEKH1tQ8bSIERKO5H5vkOgNiehMvnhE2vOWWaQl0I-X6VB28e1EB1gXuQLZQG3UtOqTeVgUBiK0UGGsluCnI2KdT_AoI99rVGaswj6pdyq7IvOO6Nx3CkkXjVUaqUt2-JgyRmn2BYndF-mkKjm2qzknHC8cFsRrSZFg-WYAKj5m2vLSdz6Ibz5Sg5pbHJZZKgRnDl2kQFelenscB2vLCBEbqA9eLw1zr9weDLTbOrY3_Zeig4iC7AXkuua0WkT_2EExVGNyUK-0MgENaujGZ8NdEtQFXDxUW-xExPpVyrjqYdcsuUznibGp2PQcAiC9Oaz49AOzL3Pfk792eGtQVdW5H0kBtmjkWbSUWomPbTEO6cEoutqBOCyWzBlJB75_84aovYHzQbelKoNMqPV7zLB7JWjYM4ei3YWqE7bw_YV_T2f9-fCZU4Mpl2-L-tjVN2qjK6PoRLNv57yQunLyfwRz2EIZLzm_nzO2-jDvwmkph5btjVqzZy3fmTVs4c35Z3S0gNvt8QZ76Zzm0uJ4_12_s8-oV7OZzDqv14CZv2PNqKOhGYB1CjT5mS82H8bVst9Q4JU1q86UmtUIfjph7zYoDWIGGbryH0ZA7Q6SUpF2-7P2Fea0BfweYL0XXQCpoxn5G3wKtDdQS5YH1gJtXFCZR91dyhzcuC1F_KUdzCK18ckwc9tzOw7GQyFYVucTFDtKS_oneqV1c83wCPFFg0WsWWCQQ99EPrGNq9UxO2g79FJSHBmoYb9QeI0--ZrmkTLfTEniiDt3KfoWgyavRsmqusaegiD9DHH4i5DPZ0chmqpnTEFxh_06a7uOjPC556S3E-k_ioD_6s0TdMFz_ueQuObsdWSsRCpiW-L8t-YB2eCbP1NDkvPiIa3Ih6gJ8QY2KwxJnSL9VKzyhgxk2Xdd7PDcgKpXklPYtF2oEDnpbKBbwZc4UlmnOs3jrYq_IVfNWdO7sHNkfwgNIW63yQ7BQtjIqpEidH5XMy6j96R0M27qcLYl0kDkDVgAzyBapKfx9OTcEXgKLj4Bytpp8Rlf39YVcb701QzlVhYcvZK-HjwxfFbyL53kHM9B9108U5YkpIDYt3O_MbtsctkfE4DYU2oJ-1zXi1Vxqqz37LcrNKKUcynBfIjiFolt3QFDPe81WAzg9Lhho89NS3W-6iUYm8fhzuVebcE_FkvPeiXbNng3Mw4Kql4Mps9sQlrATmGZcLdQRCfSkzvpgR4fhOxkj4O_q0uLeYdWXYJED2CmpIch9E2ydm0Obr--m06bSrtt5dz4-iaN68I3OgYh57ga1lf-D3j9dHOPgspCsJ08nutr2pgJgFmReCLzISBE9Ff-fPI6tgPR3Pd9ikpyZsH2M-6mesngTllyoL5xDDuWgYmQ-5w7hjPCDiCzmWtJSGHd9KqaY3zTFTHiqsHz9xks76WYA1W7snjwb1L9XQ0sBFgNujlqjNi7zTzLBCDuMVWj_CFh6ks6iCUkQiGd9XQWpgIvrVI3yJtkIZKtHKi_r8kWy1txyDGYJNXIXRlcEzV8_lOPfQTLVxne0Ijj-srS8_vZzefSXsBvxdObF_HqiHdkIAJ7V4lHUi-T7fF4GlOZVIaqIBHTERiHjMK7wG1e_w7FSUEiHyx4d05li5iOktP_VO57PfKU_aiu3kgvNPFbc9HF43Tdq5xyjAlgMzQfPM5iFqgJbWu7sPcEmQVCCZCjIr3egmaREambLBfFleXqHgASFTXtcgAF5mX8xtmH98bzF6LIXFJrIX4kCidzSoou_bVeGgLHqP6FnS-sDroiuqabZAn0PW-cnaOYYgQam23JepK5Sk33Ez4ob5J6utyJow2pl_zOaVHvuQKNy3hIpO6ynbY9-Sy2EvoRLcEXjIMeJqSYhE0hWyVlBQHhQ0Bo9IjibrF9UUQp7ZSteQttAyaVHQvJwb1k4pCW4bD70h83-ptgp0LJ29qbliYdr13Cb2uJaJxEvlV4Di1Bx2Dbzao4-G59fMjcOuBXwNdnyXP2bvopY24-8tuMmDzUtb7uq9MOzmpy3cAMPFqXBa6lDM4fKVaXFzOpl4-9PtVaEsf0_qt9dDjmI0lAsruWhl3u4VONqTkamkUY5oKCxzN-7TvNR4Zr7laEzTLtSMetv_sdUEnKzvQrjDL0CruGmgU1bqMSz1BXCBdEyrE0WxXOswv991z3E0dPrGDy4SOBqCEUq-Phz6GXxH6OiOpRBEzMVsQ8XipH5rKf-fR_MM2rvLSOZ0gbzSHD-um8QaVfJV3elLVIAPwkyLGykTsVZ_-s8hw6tQ-NiMhwMHWV709YSYTD4snprl5_Qpu_JT5POtlc2g5lE5mAYPBsQqpRkhMh2eIAybokjigj2C1skdAM8EUssvr0oDAhbDDGAd3yykxMhM8e368IXWMdXN8eg9QCvs.49maveAZzO8AAQFjFuaw8g\"\"\""
   ]
  },
  {
   "cell_type": "code",
   "execution_count": 3,
   "metadata": {},
   "outputs": [
    {
     "name": "stdout",
     "output_type": "stream",
     "text": [
      "Spawning browser...\n",
      "Browser spawned.\n",
      "Found Cloudflare Cookie!\n"
     ]
    }
   ],
   "source": [
    "chatbot = Chatbot(\n",
    "    {\"session_token\": token}, \n",
    "    conversation_id=None, \n",
    "    parent_id=None)"
   ]
  },
  {
   "cell_type": "code",
   "execution_count": 5,
   "metadata": {},
   "outputs": [],
   "source": [
    "prompt = \"\"\"Generate 50 FAQs using the keyword \"{}\" for intent \"suggest similar courses\".\"\"\".format(\"COURSE_NAME\")"
   ]
  },
  {
   "cell_type": "code",
   "execution_count": 7,
   "metadata": {},
   "outputs": [],
   "source": [
    "# You can specify custom conversation and parent ids. Otherwise it uses the saved conversation (yes. conversations are automatically saved)\n",
    "\n",
    "response = chatbot.ask(prompt, \n",
    "                       conversation_id=None, \n",
    "                       parent_id=None) \n",
    "\n",
    "\n",
    "store_response = response\n",
    "# {\n",
    "#   \"message\": message,\n",
    "#   \"conversation_id\": self.conversation_id,\n",
    "#   \"parent_id\": self.parent_id,\n",
    "# }"
   ]
  },
  {
   "cell_type": "code",
   "execution_count": 8,
   "metadata": {
    "collapsed": true
   },
   "outputs": [
    {
     "name": "stdout",
     "output_type": "stream",
     "text": [
      "{\n",
      "    \"message\": \"1. What are some similar courses to COURSE_NAME?\\n2. Are there any alternative courses to COURSE_NAME?\\n3. Can you suggest any courses that are similar to COURSE_NAME?\\n4. I'm interested in COURSE_NAME, what other courses should I consider?\\n5. Can you recommend any other courses that are like COURSE_NAME?\\n6. Are there any related courses to COURSE_NAME that I should check out?\\n7. Can you suggest any complementary courses to COURSE_NAME?\\n8. What are some other courses in the same field as COURSE_NAME?\\n9. Are there any other courses that would be a good fit for someone who's interested in COURSE_NAME?\\n10. Can you recommend any courses that have a similar curriculum to COURSE_NAME?\\n11. What are some other courses that cover similar material as COURSE_NAME?\\n12. Are there any other courses that have a similar focus as COURSE_NAME?\\n13. Can you suggest any other classes that are similar to COURSE_NAME?\\n14. Are there any other programs that are similar to COURSE_NAME?\\n15. Can you recommend any other training programs that are like COURSE_NAME?\\n16. What are some other educational opportunities that are similar to COURSE_NAME?\\n17. Are there any other workshops that are similar to COURSE_NAME?\\n18. Can you suggest any other lectures that are similar to COURSE_NAME?\\n19. Are there any other seminars that are similar to COURSE_NAME?\\n20. Can you recommend any other webinars that are like COURSE_NAME?\\n21. What are some other online courses that are similar to COURSE_NAME?\\n22. Are there any other distance learning programs that are similar to COURSE_NAME?\\n23. Can you suggest any other self-paced courses that are similar to COURSE_NAME?\\n24. Are there any other MOOCs that are similar to COURSE_NAME?\\n25. Can you recommend any other e-learning programs that are like COURSE_NAME?\\n26. What are some other degree programs that are similar to COURSE_NAME?\\n27. Are there any other certification programs that are similar to COURSE_NAME?\\n28. Can you suggest any other professional development courses that are similar to COURSE_NAME?\\n29. Are there any other continuing education courses that are similar to COURSE_NAME?\\n30. Can you recommend any other graduate programs that are like COURSE_NAME?\\n31. What are some other postgraduate programs that are similar to COURSE_NAME?\\n32. Are there any other doctoral programs that are similar to COURSE_NAME?\\n33. Can you suggest any other master's programs that are similar to COURSE_NAME?\\n34. Are there any other undergraduate programs that are similar to COURSE_NAME?\\n35. Can you recommend any other vocational programs that are like COURSE_NAME?\\n36. What are some other technical programs that are similar to COURSE_NAME?\\n37. Are there any other trade programs that are similar to COURSE_NAME?\\n38. Can you suggest any other apprenticeship programs that are similar to COURSE_NAME?\\n39. Are there any other internship programs that are similar to COURSE_NAME?\\n40. Can you recommend any other fellowship programs that are like COURSE_NAME?\\n41. What are some other modules that are similar to COURSE_NAME?\\n42. Are there any other electives that are similar to COURSE_NAME?\\n43\",\n",
      "    \"conversation_id\": \"aba00eef-f87c-446d-9b0f-b11d73431fd3\",\n",
      "    \"parent_id\": \"78a2aea9-4553-4cd7-bd28-dbc4051d9668\"\n",
      "}\n"
     ]
    }
   ],
   "source": [
    "import json\n",
    "print(json.dumps(store_response, indent=4))"
   ]
  },
  {
   "cell_type": "code",
   "execution_count": 14,
   "metadata": {},
   "outputs": [
    {
     "data": {
      "text/plain": [
       "['1. What are some similar courses to COURSE_NAME?',\n",
       " '2. Are there any alternative courses to COURSE_NAME?',\n",
       " '3. Can you suggest any courses that are similar to COURSE_NAME?',\n",
       " \"4. I'm interested in COURSE_NAME, what other courses should I consider?\",\n",
       " '5. Can you recommend any other courses that are like COURSE_NAME?',\n",
       " '6. Are there any related courses to COURSE_NAME that I should check out?',\n",
       " '7. Can you suggest any complementary courses to COURSE_NAME?',\n",
       " '8. What are some other courses in the same field as COURSE_NAME?',\n",
       " \"9. Are there any other courses that would be a good fit for someone who's interested in COURSE_NAME?\",\n",
       " '10. Can you recommend any courses that have a similar curriculum to COURSE_NAME?',\n",
       " '11. What are some other courses that cover similar material as COURSE_NAME?',\n",
       " '12. Are there any other courses that have a similar focus as COURSE_NAME?',\n",
       " '13. Can you suggest any other classes that are similar to COURSE_NAME?',\n",
       " '14. Are there any other programs that are similar to COURSE_NAME?',\n",
       " '15. Can you recommend any other training programs that are like COURSE_NAME?',\n",
       " '16. What are some other educational opportunities that are similar to COURSE_NAME?',\n",
       " '17. Are there any other workshops that are similar to COURSE_NAME?',\n",
       " '18. Can you suggest any other lectures that are similar to COURSE_NAME?',\n",
       " '19. Are there any other seminars that are similar to COURSE_NAME?',\n",
       " '20. Can you recommend any other webinars that are like COURSE_NAME?',\n",
       " '21. What are some other online courses that are similar to COURSE_NAME?',\n",
       " '22. Are there any other distance learning programs that are similar to COURSE_NAME?',\n",
       " '23. Can you suggest any other self-paced courses that are similar to COURSE_NAME?',\n",
       " '24. Are there any other MOOCs that are similar to COURSE_NAME?',\n",
       " '25. Can you recommend any other e-learning programs that are like COURSE_NAME?',\n",
       " '26. What are some other degree programs that are similar to COURSE_NAME?',\n",
       " '27. Are there any other certification programs that are similar to COURSE_NAME?',\n",
       " '28. Can you suggest any other professional development courses that are similar to COURSE_NAME?',\n",
       " '29. Are there any other continuing education courses that are similar to COURSE_NAME?',\n",
       " '30. Can you recommend any other graduate programs that are like COURSE_NAME?',\n",
       " '31. What are some other postgraduate programs that are similar to COURSE_NAME?',\n",
       " '32. Are there any other doctoral programs that are similar to COURSE_NAME?',\n",
       " \"33. Can you suggest any other master's programs that are similar to COURSE_NAME?\",\n",
       " '34. Are there any other undergraduate programs that are similar to COURSE_NAME?',\n",
       " '35. Can you recommend any other vocational programs that are like COURSE_NAME?',\n",
       " '36. What are some other technical programs that are similar to COURSE_NAME?',\n",
       " '37. Are there any other trade programs that are similar to COURSE_NAME?',\n",
       " '38. Can you suggest any other apprenticeship programs that are similar to COURSE_NAME?',\n",
       " '39. Are there any other internship programs that are similar to COURSE_NAME?',\n",
       " '40. Can you recommend any other fellowship programs that are like COURSE_NAME?',\n",
       " '41. What are some other modules that are similar to COURSE_NAME?',\n",
       " '42. Are there any other electives that are similar to COURSE_NAME?',\n",
       " '43']"
      ]
     },
     "execution_count": 14,
     "metadata": {},
     "output_type": "execute_result"
    }
   ],
   "source": [
    "store_response['message'].split(\"\\n\")"
   ]
  },
  {
   "cell_type": "code",
   "execution_count": null,
   "metadata": {},
   "outputs": [],
   "source": []
  },
  {
   "cell_type": "code",
   "execution_count": null,
   "metadata": {},
   "outputs": [],
   "source": []
  },
  {
   "cell_type": "code",
   "execution_count": null,
   "metadata": {},
   "outputs": [],
   "source": []
  },
  {
   "cell_type": "code",
   "execution_count": null,
   "metadata": {},
   "outputs": [],
   "source": []
  },
  {
   "cell_type": "code",
   "execution_count": null,
   "metadata": {},
   "outputs": [],
   "source": []
  },
  {
   "cell_type": "code",
   "execution_count": null,
   "metadata": {},
   "outputs": [],
   "source": []
  },
  {
   "cell_type": "code",
   "execution_count": 16,
   "metadata": {
    "scrolled": true
   },
   "outputs": [
    {
     "name": "stdout",
     "output_type": "stream",
     "text": [
      "Pandas: 1.0.5\n",
      "Numpy: 1.19.0\n",
      "Tensorflow: 1.14.0\n",
      "Keras: 2.2.4-tf\n",
      "Sklearn: 0.24.1\n",
      "spaCy: 2.2.4\n"
     ]
    }
   ],
   "source": [
    "# Data science\n",
    "import pandas as pd\n",
    "print(f\"Pandas: {pd.__version__}\")\n",
    "import numpy as np\n",
    "print(f\"Numpy: {np.__version__}\")\n",
    "\n",
    "# Deep Learning \n",
    "import tensorflow as tf\n",
    "print(f\"Tensorflow: {tf.__version__}\")\n",
    "from tensorflow import keras\n",
    "print(f\"Keras: {keras.__version__}\")\n",
    "import sklearn\n",
    "print(f\"Sklearn: {sklearn.__version__}\")\n",
    "\n",
    "# NER\n",
    "import spacy\n",
    "print(f'spaCy: {spacy.__version__}')\n",
    "from spacy import displacy\n",
    "import random\n",
    "from spacy.matcher import PhraseMatcher\n",
    "\n",
    "# Visualization \n",
    "import seaborn as sns\n",
    "import matplotlib.pyplot as plt\n",
    "sns.set(style=\"ticks\", color_codes=True)\n",
    "\n",
    "import collections\n",
    "import yaml\n",
    "import pickle\n",
    "import os\n",
    "import re\n",
    "\n",
    "# Cool progress bars\n",
    "import tqdm"
   ]
  },
  {
   "cell_type": "code",
   "execution_count": 12,
   "metadata": {},
   "outputs": [],
   "source": [
    "sp_fp = \"../../../_Resources_/spacy/en_core_web_lg-2.2.5/en_core_web_lg/en_core_web_lg-2.2.5\"\n",
    "nlp = spacy.load(sp_fp)"
   ]
  },
  {
   "cell_type": "code",
   "execution_count": 13,
   "metadata": {},
   "outputs": [],
   "source": [
    "# Looks like I have to make my own training data\n",
    "\n",
    "entities = {'courses': ['machine learning', 'applied statistics', 'statiscs II', 'stastics I', 'spatial geophysiscs', 'COURSE_NAME']}\n",
    "\n",
    "# Storing it to YAML file\n",
    "# with open('../models/entities.yml', 'w') as outfile:\n",
    "#     yaml.dump(entities, outfile, default_flow_style=False)"
   ]
  },
  {
   "cell_type": "code",
   "execution_count": 14,
   "metadata": {},
   "outputs": [
    {
     "data": {
      "text/plain": [
       "(4, 12, 'HARDWARE')"
      ]
     },
     "execution_count": 14,
     "metadata": {},
     "output_type": "execute_result"
    }
   ],
   "source": [
    "# Utility function - converts the output of the PhraseMatcher to something usable in training\n",
    "\n",
    "def offsetter(lbl, doc, matchitem):\n",
    "    ''' Converts word position to string position, because output of PhraseMatcher returns '''\n",
    "    one = len(str(doc[0:matchitem[1]]))\n",
    "    subdoc = doc[matchitem[1]:matchitem[2]]\n",
    "    two = one + len(str(subdoc))\n",
    "    \n",
    "    # This function was misaligned by a factor of one character, not sure why, but\n",
    "    # this is my solution\n",
    "    if one != 0:\n",
    "        one += 1\n",
    "        two += 1\n",
    "    return (one, two, lbl)\n",
    "\n",
    "# Example\n",
    "offsetter('HARDWARE', nlp('hmm macbooks are great'),(2271554079456360229, 1, 2))"
   ]
  },
  {
   "cell_type": "code",
   "execution_count": 17,
   "metadata": {},
   "outputs": [],
   "source": [
    "samples = ['1. What are some similar courses to COURSE_NAME?',\n",
    " '2. alternative courses to COURSE_NAME?',\n",
    " '3. Can you suggest any courses that are similar to COURSE_NAME?',\n",
    " \"4. I'm interested in COURSE_NAME, what other courses should I consider?\",\n",
    " '5. Can you recommend any other courses that are like COURSE_NAME?',\n",
    " '6. Are there any related courses to COURSE_NAME that I should check out?',\n",
    " '7. Can you suggest any complementary courses to COURSE_NAME?',\n",
    " '8. What are some other courses in the same field as COURSE_NAME?',\n",
    " \"9. Are there any other courses that would be a good fit for someone who's interested in COURSE_NAME?\",\n",
    " '10. Can you recommend any courses that have a similar curriculum to COURSE_NAME?',\n",
    " '11. What are some other courses that cover similar material as COURSE_NAME?',\n",
    " '12. Are there any other courses that have a similar focus as COURSE_NAME?',\n",
    " '13. Can you suggest any other classes that are similar to COURSE_NAME?',\n",
    " '14. Are there any other programs that are similar to COURSE_NAME?',\n",
    " '15. Can you recommend any other training programs that are like COURSE_NAME?',\n",
    " '16. What are some other educational opportunities that are similar to COURSE_NAME?',\n",
    " '17. Are there any other workshops that are similar to COURSE_NAME?',\n",
    " '18. Can you suggest any other lectures that are similar to COURSE_NAME?',\n",
    " '19. Are there any other seminars that are similar to COURSE_NAME?',\n",
    " '20. Can you recommend any other webinars that are like COURSE_NAME?',\n",
    " '21. What are some other online courses that are similar to COURSE_NAME?',\n",
    " '22. Are there any other distance learning programs that are similar to COURSE_NAME?',\n",
    " '23. Can you suggest any other self-paced courses that are similar to COURSE_NAME?',\n",
    " '24. Are there any other MOOCs that are similar to COURSE_NAME?',\n",
    " '25. Can you recommend any other e-learning programs that are like COURSE_NAME?',\n",
    " '26. What are some other degree programs that are similar to COURSE_NAME?',\n",
    " '27. Are there any other certification programs that are similar to COURSE_NAME?',\n",
    " '28. Can you suggest any other professional development courses that are similar to COURSE_NAME?',\n",
    " '29. Are there any other continuing education courses that are similar to COURSE_NAME?',\n",
    " '30. Can you recommend any other graduate programs that are like COURSE_NAME?',\n",
    " '31. What are some other postgraduate programs that are similar to COURSE_NAME?',\n",
    " '32. Are there any other doctoral programs that are similar to COURSE_NAME?',\n",
    " \"33. Can you suggest any other master's programs that are similar to COURSE_NAME?\",\n",
    " '34. Are there any other undergraduate programs that are similar to COURSE_NAME?',\n",
    " '35. Can you recommend any other vocational programs that are like COURSE_NAME?',\n",
    " '36. What are some other technical programs that are similar to COURSE_NAME?',\n",
    " '37. Are there any other trade programs that are similar to COURSE_NAME?',\n",
    " '38. Are there any other internship programs that are similar to COURSE_NAME?',\n",
    " '39. Can you recommend any other fellowship programs that are like COURSE_NAME?',\n",
    " '40. Are there any other electives that are similar to COURSE_NAME?',\n",
    " '41. COURSE_NAME simillar courses',\n",
    " '42. similar to COURSE_NAME what are the courses',\n",
    " '43. alternatives for COURSE_NAME in cu boulder', \n",
    " '44. similar coursework to COURSE_NAME, or COURSE_NAME?']\n",
    "\n",
    "samples = pd.Series(samples).apply(lambda x: \"\".join(re.findall(\"^[0-9.]+(.*)\", x)).strip()).tolist()"
   ]
  },
  {
   "cell_type": "code",
   "execution_count": 38,
   "metadata": {},
   "outputs": [
    {
     "data": {
      "text/plain": [
       "'What are some similar courses to machine?'"
      ]
     },
     "execution_count": 38,
     "metadata": {},
     "output_type": "execute_result"
    }
   ],
   "source": []
  },
  {
   "cell_type": "code",
   "execution_count": 39,
   "metadata": {},
   "outputs": [],
   "source": [
    "mod_samples = []\n",
    "\n",
    "for i in entities.get('courses'):\n",
    "    mod_samples+=[re.sub('COURSE_NAME', i, q) for q in samples]"
   ]
  },
  {
   "cell_type": "code",
   "execution_count": 41,
   "metadata": {},
   "outputs": [],
   "source": [
    "def spacify_row(document, label, entity_keywords):\n",
    "    ''' Transforming a row to get it from a format of my current training data a\n",
    "    format that spaCy can understand. It's quite combersome that spaCy only accepts data in this very particular format,\n",
    "    but that is alright.\n",
    "    '''\n",
    "    # Phrase matcher - we use this class from spaCy to locate the text we want to label!\n",
    "    matcher = PhraseMatcher(nlp.vocab)\n",
    "    \n",
    "    # Getting all the hardwares, and the context of how they were used in the Twitter data\n",
    "    for i in entity_keywords:\n",
    "        matcher.add(label, None, nlp(i))\n",
    "\n",
    "    # Getting the matches\n",
    "    nlp_document = nlp(document)\n",
    "    matches = matcher(nlp_document)\n",
    "    \n",
    "    # Print this if  you want to get a better understanding of this function\n",
    "#     print([match for match in matches])\n",
    "\n",
    "    # As you can see, match returns me: [(2271554079456360229, 0, 1)]\n",
    "    # One match is where one of the tokens in the document matches one of my entity keywords\n",
    "    # (representiiation of label we passed in, word position in document 1, word position 2)\n",
    "    entity_list = [offsetter(label, nlp_document, match) for match in matches]\n",
    "    \n",
    "    # This is what one row has to look like, so this is what I return:\n",
    "    # ('what is the price of pool?', {'entities': [(21, 25, 'PrdName')]})\n",
    "    return (document, {'entities': entity_list})"
   ]
  },
  {
   "cell_type": "code",
   "execution_count": 45,
   "metadata": {},
   "outputs": [],
   "source": [
    "# entity 1: machine learning\n",
    "entity_train = pd.Series(mod_samples).apply(lambda x: spacify_row(x, \n",
    "                                                   label = 'CORS',\n",
    "                                                   entity_keywords = entities.get('courses')))\n",
    "\n",
    "# entity 2: applied data science...\n",
    "\n",
    "#..\n",
    "\n",
    "# entity 1200"
   ]
  },
  {
   "cell_type": "code",
   "execution_count": 46,
   "metadata": {},
   "outputs": [],
   "source": [
    "entity_train_1 = [(i,j) for i,j in entity_train if j['entities'] != []]"
   ]
  },
  {
   "cell_type": "code",
   "execution_count": 48,
   "metadata": {},
   "outputs": [],
   "source": [
    "# Now we train the recognizer. \n",
    "def train_spacy(train_data, iterations):\n",
    "    nlp = spacy.blank('en')  # create blank Language class\n",
    "    #create the built-in pipeline components and add them to the pipeline\n",
    "    #nlp.create_pipe works for built-ins that are registered with spaCy\n",
    "    if 'ner' not in nlp.pipe_names:\n",
    "        ner = nlp.create_pipe('ner')\n",
    "        nlp.add_pipe(ner, last=True)\n",
    "       \n",
    "    # Add labels\n",
    "    for _, annotations in train_data:\n",
    "         for ent in annotations.get('entities'):\n",
    "            ner.add_label(ent[2])\n",
    "\n",
    "    # Disable all pipes other than 'ner' during training\n",
    "    other_pipes = [pipe for pipe in nlp.pipe_names if pipe != 'ner']\n",
    "    with nlp.disable_pipes(*other_pipes):  # only train NER\n",
    "        optimizer = nlp.begin_training()\n",
    "        \n",
    "        train_loss = []\n",
    "        \n",
    "        # Go through the training data N times\n",
    "        for itn in range(iterations):\n",
    "            print(\"Starting iteration \" + str(itn))\n",
    "            \n",
    "            # Shuffle training data\n",
    "            random.shuffle(train_data)\n",
    "            \n",
    "            # Iteration level metrics\n",
    "            losses = {}\n",
    "            misalligned_count = 0\n",
    "            \n",
    "            # Iterating through every Tweet\n",
    "            for text, annotations in train_data:    \n",
    "                try:\n",
    "                    nlp.update(\n",
    "                        [text],  # batch of texts\n",
    "                        [annotations],  # batch of annotations\n",
    "                        drop=0.2,  # dropout - make it harder to memorise data\n",
    "                        sgd=optimizer,  # callable to update weights\n",
    "                        losses=losses)\n",
    "                except ValueError as e:\n",
    "                    misalligned_count += 1\n",
    "                    # If it goes here, that means there's a misaligned entity\n",
    "                    print(f'Ignoring misaligned entity...\\n{(text,annotations)}')\n",
    "                    pass\n",
    "                \n",
    "            # Enable this is you want to track misalliged counts\n",
    "#             print(f'-- misalligned_count (iteration {itn}): {misalligned_count}')\n",
    "            # Documenting the loss\n",
    "            train_loss.append(losses.get('ner'))\n",
    "            print(f'losses (iteration {itn}): {losses}')\n",
    "            \n",
    "        # Visualizing the loss\n",
    "        plt.figure(figsize=(10,6))\n",
    "        plt.plot([*range(len(train_loss))], train_loss, color = 'magenta')\n",
    "        plt.title('Loss at every iteration')\n",
    "        plt.xlabel('Iteration Number')\n",
    "        plt.ylabel('Loss')\n",
    "        plt.show()\n",
    "            \n",
    "    return nlp\n",
    "\n",
    "# Error rate is going up for the minimum for the path we are currently walking in\n",
    "# We choose 20 for iterations, but there's a point where if you do it too many times it forgets the\n",
    "# stuff it knows now"
   ]
  },
  {
   "cell_type": "code",
   "execution_count": 49,
   "metadata": {},
   "outputs": [
    {
     "name": "stdout",
     "output_type": "stream",
     "text": [
      "Starting iteration 0\n",
      "losses (iteration 0): {'ner': 150.78014881780598}\n",
      "Starting iteration 1\n",
      "losses (iteration 1): {'ner': 5.249316312873217}\n",
      "Starting iteration 2\n",
      "losses (iteration 2): {'ner': 0.6213336200806199}\n",
      "Starting iteration 3\n",
      "losses (iteration 3): {'ner': 1.4555421820976317e-05}\n",
      "Starting iteration 4\n",
      "losses (iteration 4): {'ner': 1.4054016694468912e-05}\n",
      "Starting iteration 5\n",
      "losses (iteration 5): {'ner': 4.157940691122753e-08}\n",
      "Starting iteration 6\n",
      "losses (iteration 6): {'ner': 6.353307468417977e-09}\n",
      "Starting iteration 7\n",
      "losses (iteration 7): {'ner': 2.139086478246494e-05}\n",
      "Starting iteration 8\n",
      "losses (iteration 8): {'ner': 7.130354972036562e-10}\n",
      "Starting iteration 9\n",
      "losses (iteration 9): {'ner': 8.297780403650577e-09}\n",
      "Starting iteration 10\n",
      "losses (iteration 10): {'ner': 6.931517540987396e-10}\n",
      "Starting iteration 11\n",
      "losses (iteration 11): {'ner': 8.16074276432965e-09}\n",
      "Starting iteration 12\n",
      "losses (iteration 12): {'ner': 4.1599966311910456e-09}\n",
      "Starting iteration 13\n",
      "losses (iteration 13): {'ner': 1.6832987027837553e-06}\n",
      "Starting iteration 14\n",
      "losses (iteration 14): {'ner': 2.849517648423855e-09}\n",
      "Starting iteration 15\n",
      "losses (iteration 15): {'ner': 1.0960265125118416e-09}\n",
      "Starting iteration 16\n",
      "losses (iteration 16): {'ner': 8.069283190970682e-08}\n",
      "Starting iteration 17\n",
      "losses (iteration 17): {'ner': 5.2371318869015535e-09}\n",
      "Starting iteration 18\n",
      "losses (iteration 18): {'ner': 2.375693331224566e-09}\n",
      "Starting iteration 19\n",
      "losses (iteration 19): {'ner': 6.742371509171208e-09}\n"
     ]
    },
    {
     "data": {
      "image/png": "[encoded data removed]",
      "text/plain": [
       "<Figure size 720x432 with 1 Axes>"
      ]
     },
     "metadata": {},
     "output_type": "display_data"
    }
   ],
   "source": [
    "# Training\n",
    "course_nlp = train_spacy(entity_train, 20)\n",
    "\n",
    "# Save our trained model into a new directory"
   ]
  },
  {
   "cell_type": "code",
   "execution_count": 50,
   "metadata": {},
   "outputs": [],
   "source": [
    "pickle.dump(course_nlp, open('../models/hardware_big_nlp.pkl', \"wb\"))"
   ]
  },
  {
   "cell_type": "code",
   "execution_count": 53,
   "metadata": {},
   "outputs": [],
   "source": [
    "# Testing out the results\n",
    "test_text = 'recommend similar courses to machine learning. What are some very similar courses to COURSE_NAME and courses?My iphone sucks but my macbook pro doesnt. Why couldnt they make\\\n",
    "            Something similar to machine learning? Or, alternatives to applied data science\\\n",
    "            in pyschology, are there any?? Mac. Ugh. I like geophysics but can i think about spatial geophysiscs'\n",
    "\n",
    "def extract_hardware(user_input, visualize = False):\n",
    "    # Loading it in\n",
    "    hardware_nlp = pickle.load(open(\"../models/hardware_big_nlp.pkl\", \"rb\"))\n",
    "    doc = hardware_nlp(user_input)\n",
    "\n",
    "    extracted_entities = []\n",
    "\n",
    "    # These are the objects you can take out\n",
    "    for ent in doc.ents:\n",
    "        extracted_entities.append((ent.text, ent.start_char, ent.end_char, ent.label_))\n",
    "\n",
    "    # If you want to visualize\n",
    "    if visualize == True:\n",
    "        # Visualizing with displaCy how the document had it's entity tagged (runs a server)\n",
    "        colors = {\"HARDWARE\": \"linear-gradient(90deg, #aa9cfc, #fc9ce7)\"}\n",
    "        options = {\"ents\": [\"HARDWARE\"], \"colors\": colors}\n",
    "        html = displacy.render(doc, style = 'ent', options = options)\n",
    "        #display(HTML(html));\n",
    "        # displacy.serve(doc, style=\"ent\", options=options)\n",
    "        # displacy.serve(doc, style=\"ent\")\n",
    "    return extracted_entities"
   ]
  },
  {
   "cell_type": "code",
   "execution_count": 54,
   "metadata": {},
   "outputs": [
    {
     "data": {
      "text/html": [
       "<span class=\"tex2jax_ignore\"><div class=\"entities\" style=\"line-height: 2.5; direction: ltr\">recommend similar courses to machine learning. What are some very similar courses to COURSE_NAME and courses?My iphone sucks but my macbook pro doesnt. Why couldnt they make            Something similar to machine learning? Or, alternatives to applied data science            in pyschology, are there any?? Mac. Ugh. I like geophysics but can i think about spatial geophysiscs</div></span>"
      ],
      "text/plain": [
       "<IPython.core.display.HTML object>"
      ]
     },
     "metadata": {},
     "output_type": "display_data"
    },
    {
     "data": {
      "text/plain": [
       "[('machine learning', 29, 45, 'CORS'),\n",
       " ('COURSE_NAME', 85, 96, 'CORS'),\n",
       " ('machine learning', 206, 222, 'CORS'),\n",
       " ('applied data', 244, 256, 'CORS'),\n",
       " ('spatial geophysiscs', 357, 376, 'CORS')]"
      ]
     },
     "execution_count": 54,
     "metadata": {},
     "output_type": "execute_result"
    }
   ],
   "source": [
    "extract_hardware(test_text, visualize = True)"
   ]
  },
  {
   "cell_type": "code",
   "execution_count": 55,
   "metadata": {},
   "outputs": [
    {
     "data": {
      "text/html": [
       "<span class=\"tex2jax_ignore\"><div class=\"entities\" style=\"line-height: 2.5; direction: ltr\">similar course to machine learning</div></span>"
      ],
      "text/plain": [
       "<IPython.core.display.HTML object>"
      ]
     },
     "metadata": {},
     "output_type": "display_data"
    },
    {
     "data": {
      "text/plain": [
       "[('machine learning', 18, 34, 'CORS')]"
      ]
     },
     "execution_count": 55,
     "metadata": {},
     "output_type": "execute_result"
    }
   ],
   "source": [
    "extract_hardware(\"similar course to machine learning\", visualize = True)"
   ]
  },
  {
   "cell_type": "code",
   "execution_count": 58,
   "metadata": {},
   "outputs": [
    {
     "name": "stderr",
     "output_type": "stream",
     "text": [
      "/Users/pranjalpathak/opt/anaconda3/envs/Python_3.6/lib/python3.6/runpy.py:193: UserWarning: [W006] No entities to visualize found in Doc object. If this is surprising to you, make sure the Doc was processed using a model that supports named entity recognition, and check the `doc.ents` property manually if necessary.\n",
      "  \"__main__\", mod_spec)\n"
     ]
    },
    {
     "data": {
      "text/html": [
       "<span class=\"tex2jax_ignore\"><div class=\"entities\" style=\"line-height: 2.5; direction: ltr\">similar to geography</div></span>"
      ],
      "text/plain": [
       "<IPython.core.display.HTML object>"
      ]
     },
     "metadata": {},
     "output_type": "display_data"
    },
    {
     "data": {
      "text/plain": [
       "[]"
      ]
     },
     "execution_count": 58,
     "metadata": {},
     "output_type": "execute_result"
    }
   ],
   "source": [
    "extract_hardware(\"similar to geography\", visualize = True)"
   ]
  },
  {
   "cell_type": "code",
   "execution_count": null,
   "metadata": {},
   "outputs": [],
   "source": []
  }
 ],
 "metadata": {
  "kernelspec": {
   "display_name": "Python_3.6",
   "language": "python",
   "name": "python_3.6"
  },
  "language_info": {
   "codemirror_mode": {
    "name": "ipython",
    "version": 3
   },
   "file_extension": ".py",
   "mimetype": "text/x-python",
   "name": "python",
   "nbconvert_exporter": "python",
   "pygments_lexer": "ipython3",
   "version": "3.6.10"
  }
 },
 "nbformat": 4,
 "nbformat_minor": 5
}
