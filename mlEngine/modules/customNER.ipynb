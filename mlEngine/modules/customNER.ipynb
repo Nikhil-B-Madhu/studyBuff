{
 "cells": [
  {
   "cell_type": "markdown",
   "metadata": {},
   "source": [
    "# Building a customized NER for Course Recommender\n",
    "\n",
    "\n",
    "`Description`\n",
    "\n",
    "NER stands for Named Entity Recognition. It is a subtask of Natural Language Processing (NLP) that involves identifying and extracting named entities from unstructured text. Named entities are specific pieces of information that are mentioned in the text and refer to real-world objects such as people, places, organizations, and dates.\n",
    "\n",
    "The goal of NER is to automatically identify and classify these named entities in a given text. This can be useful in many applications, such as information extraction, question answering, and sentiment analysis. NER systems typically use machine learning algorithms, such as Conditional Random Fields (CRFs) or Recurrent Neural Networks (RNNs), to automatically identify and label named entities in text.\n",
    "\n",
    "In this notebook, we collect all the training data, prepare it for a NER model and train the model. The final output of this notebook would be a trained custom NER model that would extract Course Name related entities such as abbreviation, full-name etc.\n",
    "\n",
    "`Example`\n",
    "\n",
    "Input Q: \"*Im looking for all the items similar to applied data sci, are there any?*\"\n",
    "\n",
    "NER Model Output: \"applied data sci\"\n",
    "\n",
    "This output would be used to search for a matching index in ElasticSearch DB, and would return a UUID mapped to \"Applied Data Science\" course.\n",
    "\n",
    "\n",
    "`Citations`\n",
    "\n",
    "Used for generating training data:\n",
    "- Alexa API: https://developer.amazon.com/en-US/docs/alexa/alexa-smart-properties/alexa-for-residential-endpoint-api.html\n",
    "- ChatGPT Warpper: https://github.com/acheong08/ChatGPT"
   ]
  },
  {
   "cell_type": "markdown",
   "metadata": {},
   "source": [
    "---\n",
    "### Contents:\n",
    "\n",
    "1. Imports\n",
    "2. Motivation\n",
    "3. Directory Setup\n",
    "4. Dataset\n",
    "    - 4.1. Annotation Schemata\n",
    "    - 4.2. File Structure\n",
    "    - 4.3. Generating Data\n",
    "        - 4.3.1. Using chatGPT to generate Seed Questions\n",
    "        - 4.3.2. Using chatGPT to generate Utternace Templates\n",
    "        - 4.3.3. Using chatGPT to generate Course Acronyms, Abbrevaiations, short-names\n",
    "\n",
    "\n",
    "5. Preprocessing\n",
    "    - A. Gather Entities\n",
    "    - B. Fill entity information in utterance templates (final_utterances.json)\n",
    "    - C. Transforming filled-ready utterances into spaCy format (train_data.pkl)\n",
    "\n",
    "\n",
    "6. Model Training\n",
    "    - 6.1. Load training data\n",
    "    - 6.2. Load last trained model\n",
    "    - 6.3. Training\n",
    "\n",
    "\n",
    "7. Model Testing\n",
    "8. Deployment\n",
    "\n",
    "---"
   ]
  },
  {
   "cell_type": "markdown",
   "metadata": {},
   "source": [
    "# 1. Imports"
   ]
  },
  {
   "cell_type": "code",
   "execution_count": 1,
   "metadata": {},
   "outputs": [
    {
     "name": "stderr",
     "output_type": "stream",
     "text": [
      "/Users/pranjalpathak/opt/anaconda3/envs/Python_3.8/lib/python3.8/site-packages/fuzzywuzzy/fuzz.py:11: UserWarning: Using slow pure-python SequenceMatcher. Install python-Levenshtein to remove this warning\n",
      "  warnings.warn('Using slow pure-python SequenceMatcher. Install python-Levenshtein to remove this warning')\n"
     ]
    },
    {
     "name": "stdout",
     "output_type": "stream",
     "text": [
      "NLTK loaded.\n"
     ]
    },
    {
     "name": "stderr",
     "output_type": "stream",
     "text": [
      "2023-03-21 21:05:31.423142: I tensorflow/core/platform/cpu_feature_guard.cc:193] This TensorFlow binary is optimized with oneAPI Deep Neural Network Library (oneDNN) to use the following CPU instructions in performance-critical operations:  AVX2 FMA\n",
      "To enable them in other operations, rebuild TensorFlow with the appropriate compiler flags.\n"
     ]
    },
    {
     "name": "stdout",
     "output_type": "stream",
     "text": [
      "Spacy loaded.\n",
      "PyTorch loaded.\n"
     ]
    }
   ],
   "source": [
    "## Imports\n",
    "'''Python Version 3.8.0'''\n",
    "\n",
    "# Standard libs\n",
    "import os\n",
    "import sys\n",
    "import json\n",
    "import warnings\n",
    "import yaml\n",
    "import re\n",
    "import io\n",
    "from io import StringIO\n",
    "import inspect\n",
    "import shutil\n",
    "import random\n",
    "import ast\n",
    "import string\n",
    "import time\n",
    "import pickle\n",
    "import glob\n",
    "import traceback\n",
    "import multiprocessing\n",
    "import requests\n",
    "import logging\n",
    "from ast import literal_eval\n",
    "import math\n",
    "import pytz\n",
    "from itertools import chain\n",
    "from string import Template\n",
    "from datetime import datetime, timedelta\n",
    "from dateutil import parser\n",
    "import base64\n",
    "from collections import defaultdict, Counter, OrderedDict\n",
    "from contextlib import contextmanager\n",
    "import unicodedata\n",
    "from functools import reduce\n",
    "import itertools\n",
    "import tempfile\n",
    "from typing import Any, Dict, List, Callable, Optional, Tuple, NamedTuple, Union\n",
    "from functools import wraps\n",
    "\n",
    "# Required pkgs\n",
    "import numpy as np\n",
    "from numpy import array, argmax\n",
    "import pandas as pd\n",
    "import ntpath\n",
    "import tqdm\n",
    "\n",
    "# General text correction - fit text for you (ftfy) and others\n",
    "import ftfy\n",
    "from fuzzywuzzy import fuzz\n",
    "from spellchecker import SpellChecker\n",
    "\n",
    "# scikit-learn\n",
    "from sklearn.utils import shuffle\n",
    "from sklearn import preprocessing\n",
    "from sklearn.preprocessing import StandardScaler, LabelEncoder, OneHotEncoder\n",
    "from sklearn.feature_extraction.text import CountVectorizer, TfidfVectorizer\n",
    "\n",
    "# scipy\n",
    "from scipy import spatial, sparse\n",
    "\n",
    "# NLTK\n",
    "import nltk\n",
    "#nltk_model_data_path = \"/someppath/\"\n",
    "#nltk.data.path.append(nltk_model_data_path)\n",
    "from nltk import FreqDist, tokenize, sent_tokenize, word_tokenize, pos_tag\n",
    "from nltk.corpus import stopwords, PlaintextCorpusReader\n",
    "from nltk.tokenize import RegexpTokenizer\n",
    "from nltk.stem import WordNetLemmatizer\n",
    "from nltk.stem.lancaster import LancasterStemmer\n",
    "from nltk.stem.porter import *\n",
    "from nltk.translate.bleu_score import sentence_bleu\n",
    "print(\"NLTK loaded.\")\n",
    "\n",
    "# Spacy\n",
    "import spacy\n",
    "from spacy import displacy\n",
    "from spacy.matcher import PhraseMatcher, Matcher\n",
    "from spacy.util import minibatch, compounding\n",
    "from spacy.training.example import Example\n",
    "print(\"Spacy loaded.\")\n",
    "\n",
    "# Pytorch\n",
    "import torch\n",
    "from torch import optim, nn\n",
    "import torch.nn.functional as Functional\n",
    "from torch.utils.data import Dataset, DataLoader\n",
    "import transformers\n",
    "from transformers import AutoTokenizer\n",
    "from transformers import AutoModelWithLMHead\n",
    "from transformers import pipeline\n",
    "from transformers import AutoModel\n",
    "print(\"PyTorch loaded.\")\n",
    "\n",
    "# Plots\n",
    "import matplotlib.pyplot as plt\n",
    "import seaborn as sns\n",
    "import plotly.express as px\n",
    "import plotly.graph_objects as go\n",
    "from plotly import offline\n",
    "%matplotlib inline\n",
    "\n",
    "# Theme settings\n",
    "pd.set_option(\"display.max_columns\", 80)\n",
    "sns.set_context('talk')\n",
    "sns.set(rc={'figure.figsize':(15,10)})\n",
    "sns.set_style(\"darkgrid\")\n",
    "warnings.filterwarnings('ignore')"
   ]
  },
  {
   "cell_type": "markdown",
   "metadata": {},
   "source": [
    "# 2. Motivation"
   ]
  },
  {
   "cell_type": "markdown",
   "metadata": {},
   "source": [
    "Nltk, Spacy, BERTopic are some of the lanugage model classifier used to recognize entities in a given text. \n",
    "\n",
    "These entities could be general in nature such as location, phone number, company name which are easily detectable (using Part's of speech tagging and using a dependency parser on it) but for recongizing custom entitites such as finanical ones like `529 Account`, etc we need to train our own NER model, which identifies these keywords used.\n",
    "\n",
    "-\n",
    "\n",
    "<ins>Here's the complete pipeline for collecting `Dataset`:</ins>\n",
    "\n",
    " 1. Generate Seed Questions. These questions will serve as a primary phrase for the Search Engine.\n",
    "\n",
    "\n",
    " 2. Collect atleast 5 Seed Questions. These are the phrases our Search Engine can respond to. \n",
    "\n",
    "\n",
    " 3. Generate atleast 80 Utterance Templates for each Seed Question using a course-name placeholder `<COURSE_NAME>`. We will fill this placeholder with all the course-names, course-ids and abbreviations later. The dimension of this would be: $5 \\times 80 = 400 \\space records$\n",
    "\n",
    "\n",
    " 4. Collect Entities (Course Names, Course IDs, abbreviations, etc). We have a total of $6612 \\space courses$\n",
    "\n",
    "\n",
    " 5. Fill each SeedQ-Utterance template with all the courses. The dimension of this would come out to be: $5 \\times 80 \\times 6612 = 2644800 \\space records$\n",
    "\n",
    "\n",
    " 6. The total number of utterances we would have will be $26,44,800$ training datapoints, representing each course.\n",
    "\n",
    "\n",
    " 7. Annotate all the datapoints in one of the annotation schematas, viz. *BIL, BILOU, BILO.*\n",
    "\n",
    "\n",
    " 8. Train a NER model (CRF, HMarkowM, etc.)\n",
    " \n",
    " \n",
    " 9. Test the model."
   ]
  },
  {
   "cell_type": "markdown",
   "metadata": {
    "jp-MarkdownHeadingCollapsed": true,
    "tags": []
   },
   "source": [
    "# 3. Directory Setup"
   ]
  },
  {
   "cell_type": "code",
   "execution_count": 3,
   "metadata": {},
   "outputs": [],
   "source": [
    "root_dir = os.path.abspath(\"../../\")\n",
    "data_dir = os.path.join(root_dir, \"data\")\n",
    "ml_dir = os.path.join(root_dir, \"mlEngine\")\n",
    "models_dir = os.path.join(ml_dir, \"models\")\n",
    "output_dir = os.path.join(ml_dir, \"output\")\n",
    "\n",
    "nlp_resources_fp = os.path.join(models_dir, \"resources\")\n",
    "spacy_model_data_path = os.path.join(os.path.join(os.path.join(os.path.join(models_dir, \"spacy\"), \"en_core_web_lg-3.5.0\"), \"en_core_web_lg\"), \"en_core_web_lg-3.5.0\")\n",
    "sbert_model_fp = os.path.join(os.path.join(models_dir, \"sbert\"), \"all-distilroberta-v1\")\n",
    "\n",
    "# load spacy\n",
    "nlp = spacy.load(spacy_model_data_path)\n",
    "\n",
    "# print(os.path.join(os.path.dirname(__file__), '..'))\n",
    "# print(os.path.dirname(os.path.realpath(__file__)))\n",
    "# print(os.path.abspath(os.path.dirname(__file__)))"
   ]
  },
  {
   "cell_type": "markdown",
   "metadata": {},
   "source": [
    "# 4. Dataset\n",
    "\n",
    "\n",
    "`Steps:`\n",
    "\n",
    "1. Generate Seed Questions\n",
    "2. Generate atleast 80 Utterance Templates for each Seed Question using a course-name placeholder `<COURSE_NAME>`.\n",
    "\n",
    "\n",
    "First, we need to generate some Template Seed Questions. These will serve as a placeholder for generating real seed questions and corresponding utterances later on.\n",
    "\n",
    "- We decide different types of Seed Questions, and accordingly, different types of Utterances for templates.\n",
    "- Using public version of ChatGPT (GPT3.5, Jan 2023 Version) to generate this data\n",
    "- Shoutout to `acheong08` and his wrapper for chatGPT public API (https://github.com/acheong08/ChatGPT)\n",
    "\n",
    "`Seed Question` - Primary hypothetical question that is a generalized version that represent types of questions asked by a user.\n",
    "\n",
    "`Utterance` - Secondary questions that are usually gathered from user-base history and represent actual questions asked by users over time."
   ]
  },
  {
   "cell_type": "markdown",
   "metadata": {},
   "source": [
    "### 4.1. Annotation Schemata\n",
    "\n",
    "##### BIO scheme \n",
    "\n",
    "- B - Beginning, \n",
    "- I - Inside\n",
    "- O - Outside\n",
    "\n",
    "E.g.\n",
    "        \n",
    "        Text = \"I read about 529, and I wish to invest in a 529 Savings Account for my kids\"\n",
    "        Here entities are: '529',  '529 Savings Account'\n",
    "        Tagging output:\n",
    "            [ O O O B-529 O O O O O O O B-529 I-Savings I-Account O O O ]\n",
    "\n",
    "\n",
    "\n",
    "##### BILOU scheme \n",
    "\n",
    "- B is the Beginning, i.e. first token of a multitoken entity, \n",
    "- I stands for Inside, i.e. is the token other than the first one in a multitoken entity, \n",
    "- L stands for last, the last token in a multitoken entity, \n",
    "- O means outside represents non-entity tokens, \n",
    "- U means unit, a unit token entity (if present)\n",
    "\n",
    "\n",
    "E.g.\n",
    "\n",
    "     Text = \"I read about 529, and I wish to invest in a 529 Savings Account for my kids\"\n",
    "     Here entities are: '529',  '529 Savings Account'\n",
    "     Tagging output:\n",
    "           [ O O O U-529 O O O O O O O B-529 I-Savings L-Account O O O ]\n",
    "            \n",
    "\n",
    "BILOU makes more sense, is more robust, and is mostly applied across use-cases generally."
   ]
  },
  {
   "cell_type": "markdown",
   "metadata": {},
   "source": [
    "### 4.2. File Structure"
   ]
  },
  {
   "cell_type": "markdown",
   "metadata": {},
   "source": [
    "1. `types_of_seedQ.json`  - Types of Seed Questions stored in a flat file.\n",
    "\n",
    "\n",
    "2. `templates_sq_utterances.json` - Types of Utterance Questions stored in a flat file.\n",
    "\n",
    "\n",
    "3. `entities.yml` - All entities stored in a JSON format.\n",
    "\n",
    "\n",
    "4. `final_utterances.json` - All filled utterances with unique entity in a JSON format.\n",
    "\n",
    "\n",
    "5. `spacy_utterances.pkl` - All filled utterances with unique entity in a SPACY format (list of tuple).\n",
    "\n",
    "\n",
    "6. `train_data.pkl` - Format corrected utterances with unique entity in a SPACY format."
   ]
  },
  {
   "cell_type": "markdown",
   "metadata": {},
   "source": [
    "### 4.3. Generating Data"
   ]
  },
  {
   "cell_type": "code",
   "execution_count": 12,
   "metadata": {},
   "outputs": [],
   "source": [
    "from revChatGPT.V1 import Chatbot"
   ]
  },
  {
   "cell_type": "code",
   "execution_count": 5,
   "metadata": {},
   "outputs": [
    {
     "name": "stdout",
     "output_type": "stream",
     "text": [
      "Sample code for running chat-gpt.\n"
     ]
    }
   ],
   "source": [
    "# SAMPLE CODE\n",
    "\n",
    "\"\"\"\n",
    "from revChatGPT.V1 import Chatbot\n",
    "chatbot = Chatbot(config={\n",
    "  \"email\": \"<YOUR_CHATGPT_EMAIL>\",\n",
    "  \"password\": \"<YOUR_CHATGPT_PASSWORD>\",\n",
    "})\n",
    "prompt = \"how many beaches does portugal have?\"\n",
    "response = {}\n",
    "for data in chatbot.ask(prompt):\n",
    "    response[prompt] = data[\"message\"]\n",
    "print(response)\n",
    "\"\"\"\n",
    "\n",
    "#[output]: {'how many beaches does portugal have?': 'Portugal has a coastline of about 1,794 kilometers\n",
    "#(1,115 miles), and as a result, there are many beaches throughout the country. The exact number \n",
    "#of beaches in Portugal is difficult to determine, but it is estimated that there are more than 1,000 \n",
    "#beaches in the country, ranging from small secluded coves to long stretches of sandy beaches.'}\n",
    "\n",
    "print(\"Sample code for running chat-gpt.\")"
   ]
  },
  {
   "cell_type": "markdown",
   "metadata": {},
   "source": [
    "#### 4.3. 1. Using chatGPT to generate Seed Questions\n",
    "\n",
    "Executing chatGPT (GPT-3.5) to generate typical Seed Questions which will serves as primary Seed questions templates."
   ]
  },
  {
   "cell_type": "code",
   "execution_count": 7,
   "metadata": {
    "collapsed": true
   },
   "outputs": [
    {
     "name": "stdout",
     "output_type": "stream",
     "text": [
      "{\n",
      "    \"prompt\": \"Generate 70 template Seed Questions for building a University Course Lookup?\",\n",
      "    \"response\": [\n",
      "        \"1. What are the similar courses?\",\n",
      "        \"2. What are the alternative courses?\",\n",
      "        \"3. What are the prerequisite courses?\",\n",
      "        \"4. What are the related courses offered online?\",\n",
      "        \"5. What are the related courses from the same department?\",\n",
      "        \"6. What is the subject area of the course you are interested in?\",\n",
      "        \"7. What is the specific course title or topic you are searching for?\",\n",
      "        \"8. What is the level of the course you are looking for (e.g. introductory, intermediate, advanced)?\",\n",
      "        \"9. What is the focus or emphasis of the course (e.g. theory, practical application, research)?\",\n",
      "        \"10. What is the length of the course (e.g. full semester, mini-term, summer session)?\",\n",
      "        \"11. What is the method of delivery for the course (e.g. in-person, online, hybrid)?\",\n",
      "        \"12. What is the credit value of the course?\",\n",
      "        \"13. What are the prerequisites for the course?\",\n",
      "        \"14. What is the course schedule (e.g. days/times offered)?\",\n",
      "        \"15. What is the course format (e.g. lecture, seminar, lab)?\",\n",
      "        \"16. What is the teaching style of the course (e.g. discussion-based, project-based, lecture-based)?\",\n",
      "        \"17. What is the assessment method for the course (e.g. exams, papers, projects)?\",\n",
      "        \"18. What is the course textbook or reading material?\",\n",
      "        \"19. What are the learning objectives of the course?\",\n",
      "        \"20. What are the expected outcomes of the course?\",\n",
      "        \"21. What is the workload of the course?\",\n",
      "        \"22. What is the attendance policy for the course?\",\n",
      "        \"23. What are the collaboration and group work opportunities in the course?\",\n",
      "        \"24. What are the research and writing requirements of the course?\",\n",
      "        \"25. What are the internship or field work opportunities associated with the course?\",\n",
      "        \"26. What are the career or professional development opportunities associated with the course?\",\n",
      "        \"27. What are the prerequisites for the course?\",\n",
      "        \"28. What are the related courses in the same subject area?\",\n",
      "        \"29. What are the similar courses at the same level or credit value?\",\n",
      "        \"30. What are the related courses from the same instructor or department?\",\n",
      "        \"31. What are the related courses from other departments or schools?\",\n",
      "        \"32. What are the related courses at other universities or colleges?\",\n",
      "        \"33. What are the related courses offered online?\",\n",
      "        \"34. What are the related courses with a similar schedule or format?\",\n",
      "        \"35. What are the related courses with similar learning objectives or outcomes?\",\n",
      "        \"36. What are the related courses with similar assessment methods or workload?\",\n",
      "        \"37. What are the related courses with similar collaboration or research requirements?\",\n",
      "        \"38. What are the related courses with similar internship or career opportunities?\",\n",
      "        \"39. What are the related courses with similar textbook or reading material?\",\n",
      "        \"40. What are the related courses that fulfill the same or similar degree requirements?\",\n",
      "        \"41. What are the related courses that are part of the same or similar program or major?\",\n",
      "        \"42. What are the related courses that are part of the same or similar track or concentration?\",\n",
      "        \"43. What are the related courses that are prerequisites for other courses in the same or similar subject area?\",\n",
      "        \"44. What are the related courses that are recommended by other students or instructors?\",\n",
      "        \"45. What are the related courses that are highly rated by other students or instructors?\",\n",
      "        \"46. What are the related courses that have a similar learning environment or classroom culture?\",\n",
      "        \"47. What are the related courses that are offered in the same or similar semester or academic year?\",\n",
      "        \"48. What are the related courses that have similar or overlapping content areas?\",\n",
      "        \"49. What are the related courses that have been historically popular or well-received by students?\",\n",
      "        \"50. What are the related courses that have been recently updated or revised?\",\n",
      "        \"51. What are the related courses that have recently received funding or other resources?\",\n",
      "        \"52. What are the related courses that have recently been highlighted or promoted by the department or school?\",\n",
      "        \"53. What are the related courses that have been developed or taught by renowned or distinguished faculty members?\",\n",
      "        \"54. What are the learning objectives of the course?\",\n",
      "        \"55. What is the course schedule?\",\n",
      "        \"56. What is the course format (e.g. lecture, seminar, lab)?\",\n",
      "        \"57. What is the workload of the course?\",\n",
      "        \"58. What is the teaching style of the course (e.g. discussion-based, project-based, lecture-based)?\",\n",
      "        \"59. What is the assessment method for the course (e.g. exams, papers, projects)?\",\n",
      "        \"60. What is the course textbook or reading material?\",\n",
      "        \"61. What are the prerequisites for the course?\",\n",
      "        \"62. What are the attendance requirements for the course?\",\n",
      "        \"63. How will the course be graded?\",\n",
      "        \"64. How will the course prepare me for future courses in this subject area or related fields?\",\n",
      "        \"65. Are there any research or internship opportunities associated with the course?\",\n",
      "        \"66. What is the policy for late assignments or missed classes?\",\n",
      "        \"67. How will my progress be tracked throughout the course?\",\n",
      "        \"68. What is the policy for academic honesty or plagiarism in the course?\",\n",
      "        \"69. Are there any group projects or collaborative assignments in the course?\",\n",
      "        \"70. How can I access additional resources or support for the course?\"\n",
      "    ]\n",
      "}\n"
     ]
    }
   ],
   "source": [
    "# from revChatGPT.V1 import Chatbot\n",
    "# chatbot = Chatbot(config={\n",
    "#   \"email\": \"zenbird1965@gmail.com\",\n",
    "#   \"password\": \"Vinita@1992\"\n",
    "# })\n",
    "# prompt = \"Generate 4 template Seed Questions for building a University Course Lookup?\"\n",
    "# response = dict()\n",
    "# response[\"prompt\"] = prompt\n",
    "# for data in chatbot.ask(prompt):\n",
    "#     response[\"response\"] = data[\"message\"].split(\"\\n\")\n",
    "\n",
    "\n",
    "## Save these potential SQs\n",
    "# with open(os.path.join(os.path.join(ml_dir, \"data\"), \"types_of_seedQ.json\"), \"w\") as outfile:\n",
    "#     json.dump(response, outfile, indent=4, sort_keys=False)\n",
    "\n",
    "## Load potential SQs\n",
    "with open(os.path.join(os.path.join(ml_dir, \"data\"), \"types_of_seedQ.json\"), \"r\") as outfile:\n",
    "    all_seedq = json.loads(outfile.read())\n",
    "print(json.dumps(all_seedq, indent=4))"
   ]
  },
  {
   "cell_type": "markdown",
   "metadata": {},
   "source": [
    "- Here are some of the potential templates which a learner could ask on a Course Recommender Engine or a lookup interface\n",
    "\n",
    "\n",
    "- Not all Seed Question templates generated above are 100% precise or exhibit a open-environment engine.\n",
    "\n",
    "\n",
    "- Given the scale of the project, we decided to move with a closed-environment solution interface, with limited Seed Question templates for now.\n",
    "\n",
    "\n",
    "- For the inital first-cut, we chose five template seed questions for our use-case."
   ]
  },
  {
   "cell_type": "code",
   "execution_count": 8,
   "metadata": {},
   "outputs": [],
   "source": [
    "# Based on above, list of final user-defined template seed questions:\n",
    "\n",
    "template_seed_questions = [\n",
    "    \"What are the similar courses?\",\n",
    "    \"What are the alternative courses?\",\n",
    "    \"What are the prerequisite courses?\",\n",
    "    \"What are the related courses offered online?\",\n",
    "    \"What are the related courses from the same department?\"\n",
    "]"
   ]
  },
  {
   "cell_type": "markdown",
   "metadata": {},
   "source": [
    "#### 4.3. 2. Using chatGPT to generate Utternace Templates\n",
    "\n",
    "Executing chatGPT (GPT-3.5) to generate typical Utterances which will serves as primary Utterance templates. This will take some time ~ 20-45 mins"
   ]
  },
  {
   "cell_type": "code",
   "execution_count": 9,
   "metadata": {},
   "outputs": [
    {
     "name": "stdout",
     "output_type": "stream",
     "text": [
      "Total template utterances found:  400\n"
     ]
    }
   ],
   "source": [
    "# template_mapper = {}\n",
    "# for i, seedq in enumerate(template_seed_questions):\n",
    "#     # chatGPT prompt in formatted text - from domain understanding and previous collaboration with Open.AI team\n",
    "#     prompt = \"\"\"SQ: \\n ### \\n {} \\n ### \\n Generate 80 utterances for the SQ using '<COURSENAME>'\"\"\".format(seedq)\n",
    "#     response = []\n",
    "#     for data in chatbot.ask(prompt):\n",
    "#         response = data[\"message\"]\n",
    "#     utt_list = re.findall(\"\\\\n\\d.(.*)\", response, re.MULTILINE)\n",
    "#     template_mapper[\"template_%s\"%i] = {\n",
    "#         'template_id': i,\n",
    "#         'seedq': seedq,\n",
    "#         'utterances': utt_list}\n",
    "\n",
    "    \n",
    "## Save Template Utterances file:\n",
    "# with open(os.path.join(os.path.join(ml_dir, \"data\"), \"templates_sq_utterances.json\"), \"w\") as outfile:\n",
    "#     json.dump(template_mapper, outfile, indent=4, sort_keys=False)\n",
    "\n",
    "\n",
    "## Load Template Utterances file:\n",
    "with open(os.path.join(os.path.join(ml_dir, \"data\"), \"templates_sq_utterances.json\"), \"r\") as outfile:\n",
    "    template_mapper = json.loads(outfile.read())    \n",
    "print(\"Total template utterances found: \", sum([len(i['utterances']) for i in template_mapper.values()]))"
   ]
  },
  {
   "cell_type": "markdown",
   "metadata": {},
   "source": [
    "#### 4.3. 3. Using chatGPT to generate Course Acronyms, Abbrevaiations, short-names\n",
    "\n",
    "Executing chatGPT (GPT-3.5) to generate common abbreviations, acronyms for available coursenames."
   ]
  },
  {
   "cell_type": "code",
   "execution_count": 6,
   "metadata": {
    "scrolled": false
   },
   "outputs": [],
   "source": [
    "# st = time.time()\n",
    "# _failed = []\n",
    "# course_acr = []\n",
    "# for i in tqdm.tqdm(range(0, len(courseNames['course_name'].unique()), 10)):\n",
    "#     cns = courseNames['course_name'].unique()[i:i+10]\n",
    "#     # chatGPT prompt in formatted text - from domain understanding and previous collaboration with Open.AI team\n",
    "#     prompt = \"Course_Names: {} \\n\\n Generate Acronyms, abbreviations and short-forms for each in Course_Names and output only the generated terms in a Python List format.\".format(\" \\n\".join(cns))\n",
    "#     course_terms = []\n",
    "#     try:\n",
    "#         for data in chatbot.ask(prompt):\n",
    "#             response = data[\"message\"]\n",
    "#         print(response)\n",
    "#         course_terms = literal_eval(re.findall(r\"courses\\s+\\=\\s+(.*)\", response, re.MULTILINE)[0])\n",
    "#         if isinstance(course_terms, list) and len(course_terms) > 0 and course_terms[0].strip() != \"\":\n",
    "#             course_acr.append(course_terms)\n",
    "#         else:\n",
    "#             raise Exception('Failed to extract!')\n",
    "#     except Exception as e:\n",
    "#         _failed.append(course)\n",
    "#         print('ERROR :: CN: {} :: {}'.format(course, repr(e)))\n",
    "#     #course_acr[course] = course_terms\n",
    "#     time.sleep(1)\n",
    "# print(\"Total time taken mins: \", (time.time() - st)/60.0)"
   ]
  },
  {
   "cell_type": "code",
   "execution_count": 13,
   "metadata": {},
   "outputs": [],
   "source": [
    "# # Save Template Utterances file:\n",
    "# with open(os.path.join(os.path.join(ml_dir, \"data\"), \"templates_sq_utterances.json\"), \"w\") as outfile:\n",
    "#     json.dump(template_mapper, outfile, indent=4, sort_keys=False)\n",
    "\n",
    "\n",
    "# ## Load Template Utterances file:\n",
    "# with open(os.path.join(os.path.join(ml_dir, \"data\"), \"templates_sq_utterances.json\"), \"r\") as outfile:\n",
    "#     template_mapper = json.loads(outfile.read())    \n",
    "# print(\"Total template utterances found: \", sum([len(i['utterances']) for i in template_mapper.values()]))"
   ]
  },
  {
   "cell_type": "markdown",
   "metadata": {},
   "source": [
    "---"
   ]
  },
  {
   "cell_type": "markdown",
   "metadata": {},
   "source": [
    "# 5. Preprocessing\n",
    "\n",
    "Generating actual Utterances is a two-step process:\n",
    "\n",
    "- A. Gather Entities \n",
    "- B. Fill entity information in utterance templates (`final_utterances.json`)\n",
    "- C. Transforming filled-ready utterances into spaCy format (`train_data.pkl`)\n",
    "\n",
    "    format:\n",
    "\n",
    "        train_data\n",
    "                      ('what is the price of ball?', {'entities': [(21, 25, 'PrdName')]}), \n",
    "                      ('what is the price of jegging?', {'entities': [(21, 28, 'PrdName')]}), \n",
    "                      ('what is the price of t-shirt?', {'entities': [(21, 28, 'PrdName')]})]"
   ]
  },
  {
   "cell_type": "markdown",
   "metadata": {},
   "source": [
    "### 5. A. Gather Entities"
   ]
  },
  {
   "cell_type": "code",
   "execution_count": 64,
   "metadata": {
    "collapsed": true
   },
   "outputs": [
    {
     "data": {
      "text/html": [
       "<div>\n",
       "<style scoped>\n",
       "    .dataframe tbody tr th:only-of-type {\n",
       "        vertical-align: middle;\n",
       "    }\n",
       "\n",
       "    .dataframe tbody tr th {\n",
       "        vertical-align: top;\n",
       "    }\n",
       "\n",
       "    .dataframe thead th {\n",
       "        text-align: right;\n",
       "    }\n",
       "</style>\n",
       "<table border=\"1\" class=\"dataframe\">\n",
       "  <thead>\n",
       "    <tr style=\"text-align: right;\">\n",
       "      <th></th>\n",
       "      <th>courses_id</th>\n",
       "      <th>course_name</th>\n",
       "      <th>department_id</th>\n",
       "      <th>department_name</th>\n",
       "    </tr>\n",
       "  </thead>\n",
       "  <tbody>\n",
       "    <tr>\n",
       "      <th>0</th>\n",
       "      <td>ACCT 3220</td>\n",
       "      <td>Corporate Financial Reporting 1</td>\n",
       "      <td>ACCT</td>\n",
       "      <td>Department of Accounting</td>\n",
       "    </tr>\n",
       "    <tr>\n",
       "      <th>1</th>\n",
       "      <td>ACCT 3225</td>\n",
       "      <td>Corporate Financial Reporting</td>\n",
       "      <td>ACCT</td>\n",
       "      <td>Department of Accounting</td>\n",
       "    </tr>\n",
       "    <tr>\n",
       "      <th>2</th>\n",
       "      <td>ACCT 3230</td>\n",
       "      <td>Corporate Financial Reporting 2</td>\n",
       "      <td>ACCT</td>\n",
       "      <td>Department of Accounting</td>\n",
       "    </tr>\n",
       "    <tr>\n",
       "      <th>3</th>\n",
       "      <td>ACCT 3320</td>\n",
       "      <td>Cost Management</td>\n",
       "      <td>ACCT</td>\n",
       "      <td>Department of Accounting</td>\n",
       "    </tr>\n",
       "    <tr>\n",
       "      <th>4</th>\n",
       "      <td>ACCT 3440</td>\n",
       "      <td>Income Taxation of Individuals</td>\n",
       "      <td>ACCT</td>\n",
       "      <td>Department of Accounting</td>\n",
       "    </tr>\n",
       "    <tr>\n",
       "      <th>...</th>\n",
       "      <td>...</td>\n",
       "      <td>...</td>\n",
       "      <td>...</td>\n",
       "      <td>...</td>\n",
       "    </tr>\n",
       "    <tr>\n",
       "      <th>8857</th>\n",
       "      <td>WRTG 5050</td>\n",
       "      <td>Graduate Studies in Writing and Rhetoric</td>\n",
       "      <td>WRTG</td>\n",
       "      <td>Department of Writing and Rhetoric</td>\n",
       "    </tr>\n",
       "    <tr>\n",
       "      <th>8858</th>\n",
       "      <td>WRTG 5840</td>\n",
       "      <td>Independent Study-Writing &amp; Rhetoric</td>\n",
       "      <td>WRTG</td>\n",
       "      <td>Department of Writing and Rhetoric</td>\n",
       "    </tr>\n",
       "    <tr>\n",
       "      <th>8859</th>\n",
       "      <td>YIDD 1010</td>\n",
       "      <td>Beginning Yiddish 1</td>\n",
       "      <td>YIDD</td>\n",
       "      <td>Department of Yiddish Studies</td>\n",
       "    </tr>\n",
       "    <tr>\n",
       "      <th>8860</th>\n",
       "      <td>YIDD 1020</td>\n",
       "      <td>Beginning Yiddish 2</td>\n",
       "      <td>YIDD</td>\n",
       "      <td>Department of Yiddish Studies</td>\n",
       "    </tr>\n",
       "    <tr>\n",
       "      <th>8861</th>\n",
       "      <td>YIDD 2010</td>\n",
       "      <td>Intermediate Yiddish 1</td>\n",
       "      <td>YIDD</td>\n",
       "      <td>Department of Yiddish Studies</td>\n",
       "    </tr>\n",
       "  </tbody>\n",
       "</table>\n",
       "<p>8862 rows × 4 columns</p>\n",
       "</div>"
      ],
      "text/plain": [
       "     courses_id                               course_name department_id  \\\n",
       "0     ACCT 3220           Corporate Financial Reporting 1          ACCT   \n",
       "1     ACCT 3225             Corporate Financial Reporting          ACCT   \n",
       "2     ACCT 3230           Corporate Financial Reporting 2          ACCT   \n",
       "3     ACCT 3320                           Cost Management          ACCT   \n",
       "4     ACCT 3440            Income Taxation of Individuals          ACCT   \n",
       "...         ...                                       ...           ...   \n",
       "8857  WRTG 5050  Graduate Studies in Writing and Rhetoric          WRTG   \n",
       "8858  WRTG 5840      Independent Study-Writing & Rhetoric          WRTG   \n",
       "8859  YIDD 1010                       Beginning Yiddish 1          YIDD   \n",
       "8860  YIDD 1020                       Beginning Yiddish 2          YIDD   \n",
       "8861  YIDD 2010                    Intermediate Yiddish 1          YIDD   \n",
       "\n",
       "                         department_name  \n",
       "0               Department of Accounting  \n",
       "1               Department of Accounting  \n",
       "2               Department of Accounting  \n",
       "3               Department of Accounting  \n",
       "4               Department of Accounting  \n",
       "...                                  ...  \n",
       "8857  Department of Writing and Rhetoric  \n",
       "8858  Department of Writing and Rhetoric  \n",
       "8859       Department of Yiddish Studies  \n",
       "8860       Department of Yiddish Studies  \n",
       "8861       Department of Yiddish Studies  \n",
       "\n",
       "[8862 rows x 4 columns]"
      ]
     },
     "execution_count": 64,
     "metadata": {},
     "output_type": "execute_result"
    }
   ],
   "source": [
    "fn = \"courseNames_2023_02_12.csv\"\n",
    "fn_path = os.path.join(os.path.join(root_dir, \"data\"), fn)\n",
    "\n",
    "courseNames = pd.read_csv(fn_path)\n",
    "courseNames"
   ]
  },
  {
   "cell_type": "code",
   "execution_count": 29,
   "metadata": {},
   "outputs": [
    {
     "name": "stdout",
     "output_type": "stream",
     "text": [
      "Total unique `course ids` to look for:  8849\n",
      "Total unique `course names` to look for:  6612\n",
      "Total unique `department names` to look for:  168\n"
     ]
    }
   ],
   "source": [
    "# list of entities to fill in the Utterance Templates:\n",
    "\n",
    "ent_courseids = []\n",
    "ent_courseids = courseNames['courses_id'].unique().tolist()\n",
    "print(\"Total unique `course ids` to look for: \", len(ent_courseids))\n",
    "\n",
    "ent_coursenames = []\n",
    "ent_coursenames = courseNames['course_name'].unique().tolist() \n",
    "print(\"Total unique `course names` to look for: \", len(ent_coursenames))\n",
    "\n",
    "ent_depts = []\n",
    "ent_depts = courseNames['department_name'].unique().tolist()\n",
    "print(\"Total unique `department names` to look for: \", len(ent_depts))\n",
    "\n",
    "entities = {\n",
    "    'course_ids': ent_courseids,\n",
    "    'course_names': ent_coursenames,\n",
    "    'course_depts': ent_depts\n",
    "}\n",
    "\n",
    "\n",
    "# Storing it to YAML file\n",
    "with open(os.path.join(os.path.join(ml_dir, \"data\"), \"entities.yml\"), 'w') as outfile:\n",
    "    yaml.dump(entities, outfile, default_flow_style=False)"
   ]
  },
  {
   "cell_type": "code",
   "execution_count": 162,
   "metadata": {
    "collapsed": true
   },
   "outputs": [
    {
     "data": {
      "text/plain": [
       "['Corporate Financial Reporting 1',\n",
       " 'Corporate Financial Reporting',\n",
       " 'Corporate Financial Reporting 2',\n",
       " 'Cost Management',\n",
       " 'Income Taxation of Individuals',\n",
       " 'Accounting in a Global Economy',\n",
       " 'Advanced Financial Accounting',\n",
       " 'Financial Statement Analysis',\n",
       " 'Accounting Information Systems',\n",
       " 'Auditing and Assurance Services',\n",
       " 'Experimental Seminar: Financial Report for Complex Transactions',\n",
       " 'Senior Seminar - Accounting Ethics',\n",
       " 'Independent Study',\n",
       " 'Oil and Gas Accounting',\n",
       " 'Business Analytics',\n",
       " 'Income Taxation of Business Entities',\n",
       " 'Data Analytics for Accounting',\n",
       " 'International Accounting',\n",
       " 'Topics in Business',\n",
       " 'Integrated Reporting for Socially Responsible Strategies',\n",
       " 'Academic Internship in Accounting',\n",
       " 'Seminar: Managerial Accounting',\n",
       " 'Textual Analysis in Business',\n",
       " 'Current Issues in Professional Accounting--Accounting Ethics',\n",
       " 'Research and Writing in Income Taxation',\n",
       " 'Taxation of Partnerships',\n",
       " 'Taxation of Corporations',\n",
       " 'Advanced Auditing: Business Risk and Decision Analysis',\n",
       " 'Income Taxation',\n",
       " 'Federal Estate and Gift Tax',\n",
       " 'Estate Planning',\n",
       " 'US International Taxation',\n",
       " \"Master's Candidate for Degree\",\n",
       " \"Master's Thesis\",\n",
       " 'Doctoral Seminar: Introduction to Accounting Research',\n",
       " 'Doctoral Seminar: Accounting and Capital Markets I',\n",
       " 'Doctoral Seminar: Accounting and Capital Markets 2',\n",
       " 'Doctoral Seminar: Managerial Accounting Research',\n",
       " 'Doctoral Seminar: Accounting Theory',\n",
       " 'Doctoral Seminar: Accounting Research',\n",
       " 'Graduate Seminar',\n",
       " 'Doctoral Dissertation',\n",
       " 'Principles of Strategic Communication',\n",
       " 'Fundamentals of Grammar',\n",
       " 'Strategic Thinking in Advertising and Public Relations',\n",
       " 'Introduction to Research Methods and Insights',\n",
       " 'Strategic Communication Writing',\n",
       " 'Software and Design Applications',\n",
       " 'Intermediate Creative Concepts',\n",
       " 'Visual Design',\n",
       " 'Communication Platforms',\n",
       " 'Strategic Communication Research Methods',\n",
       " 'Account Management',\n",
       " 'Content Strategy and User Engagement',\n",
       " 'History of Advertising',\n",
       " 'Curiosity for Strategists',\n",
       " 'Qualitative Research Methods',\n",
       " 'Brand Solutions',\n",
       " 'Consumer Insights',\n",
       " 'User Experience & User Interface Design',\n",
       " 'Story Design I',\n",
       " 'Strategic Writing for Public Relations',\n",
       " 'Digital Storytelling for Public Relations',\n",
       " 'Public Relations Strategy and Implementation',\n",
       " 'International Public Relations',\n",
       " 'Crisis Communication in Public Relations',\n",
       " 'Social Media Strategies',\n",
       " 'Case Studies in Public Relations',\n",
       " 'Concept Design',\n",
       " 'Concept Design II',\n",
       " 'Video Design',\n",
       " 'Story Design II',\n",
       " 'Software Applications 2',\n",
       " 'Concepting',\n",
       " 'Software Applications 3',\n",
       " 'The Art and Strategy of Science Communication: Branding Climate Change',\n",
       " 'Field Study in Strategic Communication',\n",
       " 'Public Relations Event Planning',\n",
       " 'Strategic Health Communication',\n",
       " 'Brands and Culture',\n",
       " 'Advertising Media Planning',\n",
       " 'Sustainable Brand Practices: Ethics Cases in Advertising and PR',\n",
       " 'Strategic Communication Analytics and Metrics',\n",
       " 'Social Media Listening',\n",
       " 'Marketing Data Visualization',\n",
       " 'Search Advertising Strategies',\n",
       " 'Strategic Communication Campaigns',\n",
       " 'Advanced Ad Campaigns NSAC',\n",
       " 'Strategic Communication Capstone',\n",
       " 'Advanced PR Campaigns BATEMAN COMPETITION',\n",
       " 'Advertising and Society',\n",
       " 'Design for Social Innovation',\n",
       " 'Portfolio 1',\n",
       " 'Copywriting Seminar',\n",
       " 'Art Direction Seminar',\n",
       " 'Creative Track Portfolio Development I',\n",
       " 'Creative Track Portfolio Development II',\n",
       " 'Portfolio 2',\n",
       " 'Strategic Brand Management',\n",
       " 'Media Design Portfolio I',\n",
       " 'Media Design Portfolio II',\n",
       " 'Advertising Intensive',\n",
       " 'Undergraduate Independent Study',\n",
       " 'Special Topics',\n",
       " 'Internship',\n",
       " 'Foundations of Strategic Brand Design',\n",
       " 'Experience Design Foundations',\n",
       " 'Toward a Unified Theory of Brand Equity',\n",
       " 'UX and the Digital Delivery of Products and Services',\n",
       " 'Foundations of Critical Making',\n",
       " 'Introduction to Designing for Entrepreneurism',\n",
       " 'Immersive Media Design Through Critical Making',\n",
       " 'Access to Tools for Entrepreneurism by Design',\n",
       " 'Design Sprint',\n",
       " 'Book Lab',\n",
       " 'Entrepreneurship and Product Innovation by Design',\n",
       " 'Designing for Branded Experiences',\n",
       " 'Advanced Practices and Tools of Experience Design',\n",
       " 'Brand Design for Sustainable Futures',\n",
       " 'Experience Design and Narratives of Interaction',\n",
       " 'Parametric Product Design Through Critical Making',\n",
       " 'Physical Computing and the Design of Sustainable Change',\n",
       " 'Graduate Independent Study',\n",
       " 'Graduate Professional Project',\n",
       " 'Digital Advertising',\n",
       " 'Applications of Advanced Statistical Techniques in Advertising',\n",
       " 'ProSeminar in Mass Communication Theory 1',\n",
       " 'Research Design',\n",
       " 'ProSeminar in Mass Communication Theory II',\n",
       " 'Doctoral Professionalization Seminar',\n",
       " 'Seminar in Strategic Public Relations',\n",
       " 'Ethnography and Media',\n",
       " 'Mixed Research Methods in Mass Communication',\n",
       " 'Experimental Design in Mass Communication',\n",
       " 'Controls of Media and Information',\n",
       " 'Environmental Journalism and Science Communication',\n",
       " 'Media Sociology',\n",
       " 'Moral Psychology and Media Ethics',\n",
       " 'Media and Health Communication',\n",
       " 'Qualitative Methods in Mass Communication',\n",
       " 'Quantitative Research Methods',\n",
       " 'Advanced Statistical Analysis for Mass Communication',\n",
       " 'Text Analytics for Computational Mass Communication Research',\n",
       " 'Digital Games',\n",
       " 'Persuasion Theory',\n",
       " 'Introduction to Aerospace Engineering Sciences',\n",
       " 'Undergraduate Aerospace Seminar',\n",
       " 'Materials Science for Aerospace Engineers',\n",
       " 'Aerospace Computing and Engineering Applications',\n",
       " 'Gateway to Space',\n",
       " 'Introduction to Rocket Engineering',\n",
       " 'Pathway to Space',\n",
       " 'Aerospace 1: Introduction to Statics, Structures, and Materials',\n",
       " 'Aerospace 2: Introduction to Thermodynamics and Aerodynamics',\n",
       " 'Experimental and Computational Methods in Aerospace Engineering Sciences',\n",
       " 'Introduction to Statics, Structures, and Materials',\n",
       " 'Introduction to Thermodynamics and Aerodynamics',\n",
       " 'Introduction to Dynamics and Systems',\n",
       " 'Introduction to Aerospace Vehicle Design and Performance',\n",
       " 'Aerospace Sciences Lab I',\n",
       " 'Dynamics and Controls Lab',\n",
       " 'Aerospace Vehicle Design Lab',\n",
       " 'Introduction to Human Spaceflight',\n",
       " 'Introduction to Humans in Aviation',\n",
       " 'Aerodynamics',\n",
       " 'Structures',\n",
       " 'Thermodynamics and Heat Transfer',\n",
       " 'Aircraft Dynamics',\n",
       " 'Orbital Mechanics/Attitude Dynamics and Control',\n",
       " 'Aerospace Electronics and Communications',\n",
       " 'Aerospace Vehicles Dynamics and Controls Lab',\n",
       " 'Aerospace Sciences Lab II',\n",
       " 'Aerospace Engineering Cooperative Education',\n",
       " 'Foundations of Propulsion',\n",
       " 'Senior Projects 1: Design Synthesis',\n",
       " 'Senior Projects 2: Design Practicum',\n",
       " 'Aerospace Software',\n",
       " 'Microavionics: Introduction to PIC Microcontrollers for Aerospace Systems',\n",
       " 'Global Positioning Systems Applications',\n",
       " 'Automatic Control Systems',\n",
       " 'Vibration Analysis',\n",
       " 'Human Factors in Engineering and Design',\n",
       " 'Aircraft Design',\n",
       " 'Large Space Structures Design',\n",
       " 'Computer Analysis of Structures',\n",
       " 'Undergraduate Research',\n",
       " 'Introduction to Finite Elements',\n",
       " 'Spacecraft Attitude Dynamics and Control',\n",
       " 'Mechanics of Aerospace Structures',\n",
       " 'Linear Control Systems',\n",
       " 'Space Life Sciences',\n",
       " 'Graduate Projects I',\n",
       " 'Dynamics of Aerospace Structures',\n",
       " 'Stochastic Methods for Systems Engineering',\n",
       " 'Statistical Estimation for Dynamical Systems',\n",
       " 'Probability and Statistics for Aerospace Engineering Sciences',\n",
       " 'Space Flight Dynamics',\n",
       " 'Fundamentals of Fluid Dynamics',\n",
       " 'Analytical Astrodynamics',\n",
       " 'Rocket and Spacecraft Propulsion',\n",
       " 'Aircraft Propulsion',\n",
       " 'Introduction to Global Navigation Satellite Systems',\n",
       " 'System Engr and Design',\n",
       " 'Introduction to Aeroelasticity',\n",
       " 'Boundary Layers and Convection',\n",
       " 'Control of Aerospace Structures 1',\n",
       " 'Spacecraft Design',\n",
       " 'Fundamentals of Gas Dynamics',\n",
       " 'Space Habitat Design',\n",
       " 'Remote Sensing Instrumentation Design',\n",
       " 'Fundamentals of Systems Engineering',\n",
       " 'Remote Sensing Seminar',\n",
       " 'Composite Structures and Materials',\n",
       " 'Materials Science for Composite Manufacturing',\n",
       " 'Mathematics for Aerospace Engineering Sciences 1',\n",
       " 'Introduction to Atmospheric Radiative Transfer and Remote Sensing',\n",
       " 'Radar and Remote Sensing',\n",
       " 'Algorithmic Motion Planning',\n",
       " 'Decision Making under Uncertainty',\n",
       " 'Engineering Data Analysis Methods',\n",
       " 'Computational Fluid Dynamics Structured Grid',\n",
       " 'Small Scale Processes in Geophysical Fluids',\n",
       " 'Aerospace Environment',\n",
       " 'Math Methods in Dynamics',\n",
       " 'Numerical Methods in Engineering and Science',\n",
       " 'Neural Systems and Physiological Control',\n",
       " 'Mission Design and Development for Space Sciences',\n",
       " 'Bioastronautics Seminar',\n",
       " 'Designing for Defense',\n",
       " 'Engineering Research Internship',\n",
       " 'Interplanetary Mission Design',\n",
       " 'Special Topics Seminar',\n",
       " 'Advanced Spacecraft Dynamics and Control',\n",
       " 'Experimental Fluid Mechanics',\n",
       " 'High Speed Propulsion',\n",
       " 'Spacecraft Formation Flying',\n",
       " 'Space Vehicle Guidance and Control',\n",
       " 'Optimal Trajectories',\n",
       " 'Viscous Flow',\n",
       " 'Nonlinear Control Systems',\n",
       " 'Graduate Projects II',\n",
       " 'Turbulent Flows',\n",
       " 'Space Instrumentation',\n",
       " 'Data Assimilation & Inverse Methods for Earth & Geospace Observations',\n",
       " 'Advanced Astrodynamics',\n",
       " 'Molecular Gas Dynamics and DSMC',\n",
       " 'Satellite Geodesy',\n",
       " 'Statistical Orbit Determination',\n",
       " 'Optical Multi-Target Tracking',\n",
       " 'Advanced Global Navigation Satellite Systems: Software and Applications',\n",
       " 'Global Navigation Satellite System (GNSS) Receiver Architecture',\n",
       " 'Nonlinear Finite Element Methods',\n",
       " 'Spacecraft Life Support Systems',\n",
       " 'Human Operation of Aerospace Vehicles',\n",
       " 'Fundamentals of Spectroscopy for Optical Remote Sensing',\n",
       " 'Computational Fluid Dynamics',\n",
       " 'Remote Sensing Data Analysis',\n",
       " 'Lidar Remote Sensing',\n",
       " 'Advanced Finite Element Methods for Plates, Shells, and Solids',\n",
       " 'Uncertainty Quantification',\n",
       " 'Advanced Computational Fluid Dynamics',\n",
       " 'Computational Methods In Dynamics',\n",
       " 'Master of Engr Project',\n",
       " 'Heritage and Values I',\n",
       " 'Heritages and Values II',\n",
       " 'Air Force ROTC Leadership Laboratory',\n",
       " 'Team and Leadership Fundamentals 1',\n",
       " 'Team and Leadership Fundamentals 2',\n",
       " 'Leading People and Effective Communication 1',\n",
       " 'Leading People and Effective Communication 2',\n",
       " 'National Security, Leadership Responsibilities/Commissioning Preparation 1',\n",
       " 'National Security/Leadership Responsibilities/Commissioning Preparation 2',\n",
       " 'Principles of Anthropology 1',\n",
       " 'Principles of Anthropology 2',\n",
       " 'Exploring a Non-Western Culture: The Tamils',\n",
       " 'Exploring a Non-Western Culture: Tibet',\n",
       " 'Anthropology of Japan: Culture, Diversity, and Identity',\n",
       " 'The Caribbean in Post-Colonial Perspective',\n",
       " 'Exploring a Non-Western Culture: Pueblo Indians of the Southwest',\n",
       " 'Exploring Cultural Diversity in the U.S.',\n",
       " 'Exploring a Non-Western Culture: The Maya',\n",
       " 'Indigenous Imperialism on the Andes: The Inca Realm and its People',\n",
       " 'Civilization, The Early Years: Ancient Mesopotamia in the Second Millennium BC',\n",
       " 'Exploring a Non-Western Culture: The Aztecs',\n",
       " 'Exploring a Non-Western Culture: Regional Cultures of Africa',\n",
       " 'Exploring Global Cultural Diversity',\n",
       " 'Class and Consumption: Global Cultures of Inequality, Anxiety, and Shopping',\n",
       " 'Exploring Culture and Gender through Film',\n",
       " 'Maritime People: Fishers and Seafarers',\n",
       " 'Origins of Ancient Civilizations',\n",
       " 'Culture and Power',\n",
       " 'Introduction to Biological Anthropology 1',\n",
       " 'Human Biological Variation and Adaptation',\n",
       " 'Laboratory in Biological Anthropology 1',\n",
       " 'Laboratory in Human Biological Variation and Adaptation',\n",
       " 'Bones, Bodies, and Disease',\n",
       " 'Introduction to Cultural Anthropology',\n",
       " 'The Archaeology of Human History',\n",
       " 'Laboratory Course in Archaeological Methods',\n",
       " 'Environmental Anthropology',\n",
       " 'Primate Behavior',\n",
       " 'Modern Issues, Ancient Times',\n",
       " 'The Human Animal',\n",
       " 'Africa: Peoples and Societies in Change',\n",
       " 'Ethnography of Mexico and Central America',\n",
       " 'The Archaeology of Death',\n",
       " 'Peoples of the South Pacific',\n",
       " 'America: An Anthropological Perspective',\n",
       " 'Gender, Culture, and Sexuality',\n",
       " 'Elements of Religion',\n",
       " 'Our World Heritage: The Archaeology of Cultural and Digital Heritage',\n",
       " 'Exploring Culture and Media in Southeast Asia',\n",
       " 'Primates of Vietnam:  Conservation in a Rapidly Developing Country',\n",
       " 'Quantitative Methods in Anthropology',\n",
       " 'Explorations in Anthropology',\n",
       " 'Introduction to Museum Anthropology',\n",
       " 'Anthropology of Jews and Judaism',\n",
       " 'Nutrition and Anthropology',\n",
       " 'Methods in Biological Anthropology',\n",
       " 'Anthropological Genetics',\n",
       " 'Human Evolutionary Biology',\n",
       " 'Advanced Biological Anthropology',\n",
       " 'Evolution and the Human Life Cycle: A Primate Life History Perspective',\n",
       " 'Aegean Art and Archaeology',\n",
       " 'Advanced Osteology',\n",
       " 'Early Hominin Paleoecology',\n",
       " 'Primate Evolutionary Biology',\n",
       " 'Anthropological Perspectives: Contemporary Issues',\n",
       " 'Southwestern Archaeology',\n",
       " 'From Olmec to Aztec: The Archaeology of Mexico',\n",
       " 'Archaeology of the Maya and Their Neighbors',\n",
       " 'Landscape Archaeology',\n",
       " 'Geoarchaeology',\n",
       " 'Ceramics in Archaeology',\n",
       " 'Plains Archaeology',\n",
       " 'From Cloud People to the Land of the Sky: The Archaeology of Oaxaca',\n",
       " 'Human Ecology: Archaeological Aspects',\n",
       " 'Archaeological Method and Theory',\n",
       " 'Archaeological Field and Laboratory Research',\n",
       " 'Lithic Analysis and Replication',\n",
       " 'Research Methods in Archaeology I',\n",
       " 'The Archaeology of Inequality',\n",
       " 'Collections Research Practicum in Cultural Anthropology',\n",
       " 'Cross-Cultural Aspects of Socioeconomic Development',\n",
       " 'Globalization and Transnational Culture',\n",
       " 'Global Islams',\n",
       " 'Theoretical Foundations of Sociocultural Anthropology',\n",
       " 'Anthropology of Fishing',\n",
       " 'The Holocaust: An Anthropological Perspective',\n",
       " 'Anthropology of Neuroscience',\n",
       " 'Medical Anthropology',\n",
       " 'Kinship: Being and Belonging',\n",
       " 'Nationalism and Cultural Citizenship',\n",
       " 'Nomadic Peoples of East Africa',\n",
       " 'Anthropology of Tibet',\n",
       " 'Practicing Anthropology',\n",
       " 'Departmental Honors in Anthropology 1',\n",
       " 'Departmental Honors in Anthropology 2',\n",
       " 'Latin American Politics and Culture through Film and Text',\n",
       " 'Contemporary Cuban Culture: Race, Gender and Power',\n",
       " 'Peoples and Cultures of Brazil',\n",
       " 'Science, Technology and Society',\n",
       " 'Culture and Society in South Asia',\n",
       " 'Cultures of Expertise: Science, Power and Knowledge',\n",
       " 'Ethnography of Southeast Asia and Indonesia',\n",
       " 'Anthropology of Tourism',\n",
       " 'Language and Culture',\n",
       " 'Teaching Anthropology',\n",
       " 'Collections Research Practicum: Archaeology',\n",
       " 'Anthropology Internship',\n",
       " 'Human Ecology: Biological Aspects',\n",
       " 'Archaeological Theory',\n",
       " 'Research Methods in Archaeology 2',\n",
       " 'Epistemology in Archaeology',\n",
       " 'Archaeology and Contemporary Society',\n",
       " 'Core Course---Archaeology',\n",
       " 'Core Course-Cultural Anthropology',\n",
       " 'Advanced Seminar in Cultural Anthropology',\n",
       " 'Core Course---Biological Anthropology',\n",
       " 'Proseminar in Anthropology',\n",
       " 'Guided Study',\n",
       " 'Critical and Theoretical Issues in Museums',\n",
       " 'Linguistic Anthropology',\n",
       " 'Issues in Indigenous Languages',\n",
       " 'Seminar: Current Research Topics in Cultural Anthropology',\n",
       " 'Seminar: Contemporary Theory in Cultural  Anthropology',\n",
       " 'Seminar: Physical Anthropology',\n",
       " 'Seminar: Archaeology',\n",
       " 'Seminar: Archaeology of Selected Areas',\n",
       " 'Bridging Seminar',\n",
       " 'Seminar: Research Methods in Cultural Anthropology',\n",
       " 'Human Ecology: Cultural Aspects',\n",
       " 'Seminar: Ethnography and Cultural Theory',\n",
       " 'Independent Research',\n",
       " 'Pre-Calculus for Engineers',\n",
       " 'Precalculus Work Group',\n",
       " 'Calculus 1 with Algebra, Part A',\n",
       " 'Calculus 1 with Algebra, Part B',\n",
       " 'Calculus 1 for Engineers',\n",
       " 'Calculus 1 Work Group',\n",
       " 'Calculus 2 for Engineers',\n",
       " 'Calculus 2 Work Group',\n",
       " 'A Game for Calculus',\n",
       " 'Python for Mathematical and Statistical Applications',\n",
       " 'Calculus 3 for Statistics and Data Science',\n",
       " 'Calculus 3 for Engineers',\n",
       " 'Calculus 3 Work Group',\n",
       " 'Introduction to Differential Equations with Linear Algebra',\n",
       " 'Calculus 3 Computer Lab',\n",
       " 'Differential Equations Computer Lab',\n",
       " 'Open Topics in Lower Division Applied Mathematics',\n",
       " 'Java: Training, Mathematical Algorithms, and Mobile Apps',\n",
       " 'Chaos in Dynamical Systems',\n",
       " 'Scientific Computing in Matlab',\n",
       " 'Discrete Applied Mathematics',\n",
       " 'Matrix Methods and Applications',\n",
       " 'Advanced Engineering Calculus',\n",
       " 'Applied Probability',\n",
       " 'Introduction to Operations Research',\n",
       " 'Introduction to Dynamics on Networks',\n",
       " 'Methods in Applied Mathematics: Fourier Series and Boundary Value Problems',\n",
       " 'Methods in Applied Mathematics: Complex Variables and Applications',\n",
       " 'Computational Neuroscience',\n",
       " 'Modeling in Applied Mathematics',\n",
       " 'Modeling in Mathematical Biology',\n",
       " 'Undergraduate Applied Analysis 1',\n",
       " 'Undergraduate Applied Analysis 2',\n",
       " 'Theory of Machine Learning',\n",
       " 'Data Assimilation in High Dimensional Dynamical Systems',\n",
       " 'High-Dimensional Probability for Data Science',\n",
       " 'Stochastic Analysis for Finance',\n",
       " 'Markov Processes, Queues, and Monte Carlo Simulations',\n",
       " 'Random Graphs',\n",
       " 'Statistical Methods',\n",
       " 'Statistical Modeling',\n",
       " 'Numerical Methods and Scientific Computing',\n",
       " 'Numerical Differential Equations',\n",
       " 'Intermediate Numerical Analysis 1',\n",
       " 'Intermediate Numerical Analysis 2',\n",
       " 'Open Topics in Applied Mathematics',\n",
       " 'Reading and Research in Applied Mathematics',\n",
       " 'Seminar in Applied Mathematics',\n",
       " 'Methods in Applied Mathematics: Applications of Complex Variables',\n",
       " 'Applied Analysis 1',\n",
       " 'Applied Analysis 2',\n",
       " 'Methods in Applied Mathematics: Dynamical Systems and Differential Equations',\n",
       " 'Methods of Applied Mathematics: Partial Differential and Integral Equations',\n",
       " 'Methods of Applied Mathematics: Approximation Methods',\n",
       " 'Introduction to Statistical Learning',\n",
       " 'Numerical Analysis 1',\n",
       " 'Numerical Analysis 2',\n",
       " 'Numerical Linear Algebra',\n",
       " 'Randomized Algorithms',\n",
       " 'Advanced Partial Differential Equations',\n",
       " 'Mathematical Statistics',\n",
       " 'Introduction to Stochastic Processes',\n",
       " 'Measure-Theoretic Probability',\n",
       " 'Stochastic Differential Equations',\n",
       " 'Introduction to Numerical Partial Differential Equations',\n",
       " 'Multigrid Methods',\n",
       " \"Professional Master's Culminating Experience\",\n",
       " 'Mathematical Methods in Dynamical Systems',\n",
       " 'Nonlinear Waves and Integrable Equations',\n",
       " 'Topics in Applied Mathematics',\n",
       " 'Colloquium in Applied Mathematics',\n",
       " 'Seminar in Dynamical Systems',\n",
       " 'Nonlinear Waves Seminar',\n",
       " 'Mathematical Biology Seminar',\n",
       " 'Statistics, Optimization and Machine Learning Seminar',\n",
       " 'Seminar in Computational Mathematics',\n",
       " 'Beginning Arabic 1',\n",
       " 'Introduction to Arab and Islamic Civilizations',\n",
       " 'Beginning Arabic 2',\n",
       " 'Intermediate Arabic 1',\n",
       " 'Intermediate Arabic 2',\n",
       " 'Love, Loss and Longing in Classical Arabic Literature',\n",
       " 'The Muslim World, 600-1250',\n",
       " 'Advanced Arabic 1',\n",
       " 'Advanced Arabic 2',\n",
       " 'Arabian Nights, Arabian Days: Popular Literature in the Arab World and Beyond',\n",
       " 'The Making of Middle Eastern Identities: Arabs and Their ¿Others¿',\n",
       " 'Islamic Culture and the Iberian Peninsula',\n",
       " 'In the Footsteps of Travelers: Travel Writing in Arabic Lit',\n",
       " 'Art in Islamic Cultures',\n",
       " 'The Arabic Novel',\n",
       " 'Arabic Poetry',\n",
       " 'Representing Islam',\n",
       " 'Narrating the City: Literary Mappings of the Urban Landscape',\n",
       " 'Tradition, Authenticity, and Reform in Islam',\n",
       " 'Gender, Sexuality and Culture in the Modern Middle East',\n",
       " 'Advanced Readings in Arabic',\n",
       " 'Arabic Media',\n",
       " 'Engineering Drawing',\n",
       " 'Introduction to Architectural Engineering',\n",
       " 'Building Materials and Systems',\n",
       " 'Thermodynamics',\n",
       " 'Fluid Mechanics and Heat Transfer',\n",
       " 'Heat Transfer',\n",
       " 'Energy Efficient Buildings',\n",
       " 'Circuits for Architectural Engineers',\n",
       " 'Architectural Design Studio 1',\n",
       " 'Illumination Laboratory',\n",
       " 'Architectural (Interior) Lighting Design',\n",
       " 'Architectural Daylighting Design',\n",
       " 'Illumination I',\n",
       " 'Energy System Modeling and Control',\n",
       " 'Architectural Design Studio 2',\n",
       " 'HVAC System Design',\n",
       " 'Optical Design for Illumination and Solid State Lighting',\n",
       " 'Design of Masonry Structures',\n",
       " 'Architectural Engineering Design 1',\n",
       " 'Architectural Engineering Design 2',\n",
       " 'Lighting Design Capstone',\n",
       " 'Pre-construction Estimating and Scheduling',\n",
       " 'Advanced Lighting Design',\n",
       " 'Exterior Lighting Systems',\n",
       " 'Illumination 2',\n",
       " 'Luminous Radiative Transfer',\n",
       " 'Building Electrical Systems Design 1',\n",
       " 'Daylighting',\n",
       " 'Computer Graphics in Lighting Engineering',\n",
       " 'Construction Project Execution and Control',\n",
       " 'Adaptive Lighting Systems',\n",
       " 'Special Topics for Seniors/Grads',\n",
       " 'Sustainable Building Design',\n",
       " 'Compu Fluid Dynamics (CFD) Analysis for Built/Natural Envmnts',\n",
       " 'Building Energy Systems: Thermal, Electrical & Lighting Sys',\n",
       " 'Building Energy Audits',\n",
       " 'Data Science for Energy and Buildings',\n",
       " 'Advanced Solar Design',\n",
       " 'Distributed Electricity Generation',\n",
       " 'Thermal Analysis of Buildings',\n",
       " 'Computer Simulation of Building Energy Systems',\n",
       " 'Optimizing Grid Connected Systems',\n",
       " 'Architectural Lighting I',\n",
       " 'Architectural Lighting II',\n",
       " 'Architectural Lighting Capstone',\n",
       " 'Forensic Engineering',\n",
       " 'Embodied Carbon in Buildings',\n",
       " 'Architectural Engineering Special Topic',\n",
       " 'Independent Study in Architectural Engineering',\n",
       " \"Master's Report\",\n",
       " 'Studio 1: Foundations of Architecture',\n",
       " 'Architecture Materials and Methods',\n",
       " 'Studio 2: Intermediate Architecture',\n",
       " 'History and Theory of Architecture 1',\n",
       " 'History and Theory of Architecture 2',\n",
       " 'Architectural Appreciation and Design',\n",
       " 'Studio 3: Capstone in Architecture',\n",
       " 'Architecture Building Technology',\n",
       " 'Advanced Digital Postproduction',\n",
       " 'Film and Literature',\n",
       " 'Topics in Film Theory',\n",
       " 'Topics in Film Production',\n",
       " 'Film, Photography and Modernism',\n",
       " 'Directing/Acting for the Camera',\n",
       " 'Topics in International Cinema',\n",
       " 'Advanced Research Seminar',\n",
       " 'Advanced Analog Alchemy',\n",
       " 'Topics in Cinema Critical Studies',\n",
       " 'Advanced Screenwriting',\n",
       " 'Flow Visualization',\n",
       " 'Digital Post-Production',\n",
       " 'History of Avant-Garde Film',\n",
       " 'Cinema Production 2',\n",
       " 'Colloquium in Film Aesthetics',\n",
       " 'Image-makers Graduate Seminar',\n",
       " 'Graduate Studio Critique',\n",
       " 'Graduate Independent Study-Video',\n",
       " 'History of World Art 1',\n",
       " 'History of World Art 2',\n",
       " 'Global Art and Visual Culture',\n",
       " 'Trash and Treasure, Temples and Tombs: Art and Archaeology of the Ancient World',\n",
       " 'U.S. Art Across Cultures',\n",
       " 'Freshmen Seminar: Critical Introduction to Art History',\n",
       " 'Art and Archaeology of Ancient Egypt',\n",
       " 'Greek Art and Archaeology',\n",
       " 'Introduction to Roman Art and Architecture',\n",
       " 'Intro to Asian Art',\n",
       " 'Critical Thinking in Art History',\n",
       " 'Pompeii and the Cities of Vesuvius',\n",
       " 'Medieval Art Survey',\n",
       " 'Art in Contemporary Society',\n",
       " 'Art, Culture, and Gender Diversity, 1400--1600: Renaissance Art Out of the Canon',\n",
       " 'Modern Art and Design at the Bauhaus',\n",
       " 'Art in France: Revolution to 1870',\n",
       " 'Art in France: 1870-1970',\n",
       " 'Art in Spain: Goya to 1900',\n",
       " 'Art in Spain: 1900-1990',\n",
       " 'Modern Art Survey',\n",
       " 'American Art',\n",
       " 'Modern Architecture, 1780--1960',\n",
       " 'Contemporary Art',\n",
       " 'The Arts of China',\n",
       " 'The Arts of Japan',\n",
       " 'History of Media Arts',\n",
       " 'Foundations in Latin American Art',\n",
       " 'Special Topics in Art History',\n",
       " 'Art History Research Methods',\n",
       " 'Medieval Manuscripts',\n",
       " 'Romanesque and Gothic Art',\n",
       " 'Ancient Greek Sculpture',\n",
       " 'Ancient Italian Painting',\n",
       " 'Roman Sculpture',\n",
       " 'Greek Vase Painting',\n",
       " 'Greek Cities and Sanctuaries',\n",
       " 'Topics in Ancient and Classical Art and Archaeology',\n",
       " 'Medieval Art',\n",
       " 'Roman Architecture',\n",
       " 'Classical Archaeological Field Methods',\n",
       " 'Ancient Egyptian Art and Archaeology',\n",
       " 'Art and Archaeology of the Ancient Near East',\n",
       " 'Michelangelo (1475-1564)',\n",
       " 'Neoclassicism and Romanticism: 1760-1840',\n",
       " 'European Art from 1830 to 1886',\n",
       " 'Modern Art 1',\n",
       " 'Modern Art 2',\n",
       " 'The Arts of Colonial Mexico and Peru',\n",
       " 'Arts of India and Southeast Asia',\n",
       " 'Precolumbian Art of Mesoamerica',\n",
       " 'Twentieth-Century Architecture',\n",
       " 'United States Architecture',\n",
       " 'Contemporary Architecture',\n",
       " 'Critical Issues in Photography',\n",
       " 'Manet Seminar',\n",
       " 'Impressionism & Post-Impressionism',\n",
       " 'Romanticism & Realism',\n",
       " 'Post-Impressionism Seminar',\n",
       " 'The Idea of Art',\n",
       " 'The Intellectual Roots of Italian Renaissance Art',\n",
       " 'Italian Renaissance Art: Studies in the Exchange between Theory and Practice',\n",
       " 'Gender Studies in Early Modern Visual Culture',\n",
       " 'Independent Study---Art History',\n",
       " 'Capstone Seminar: Topics in Art History',\n",
       " 'Art Museum Internship',\n",
       " 'Art History Honors Thesis',\n",
       " 'Hellenistic Art and Archaeology',\n",
       " 'City of Athens',\n",
       " 'City of Rome',\n",
       " 'Graduate Independent Study---Art History',\n",
       " 'Visiting Scholars Seminar',\n",
       " 'Introduction to Critical Theory for Visual Studies',\n",
       " 'Power & Visuality After the Conquest',\n",
       " 'Visualizing Gender Before and After the Conquest',\n",
       " 'Seminar: Theories of Art History',\n",
       " 'Graduate Seminar: Open Topics in Art History',\n",
       " \"Master's Project (Art History)\",\n",
       " 'Expository Writing',\n",
       " 'College Writing and Research',\n",
       " 'SASC Coseminar: College Writing and Research',\n",
       " 'Writing in Arts and Sciences',\n",
       " 'Topics in Arts and Sciences',\n",
       " 'SASC Coseminar: Chemistry 1 & 2',\n",
       " 'SASC Coseminar: Introduction to EEB',\n",
       " 'SASC Coseminar: Economics',\n",
       " 'SASC Coseminar: Mathematics',\n",
       " 'Intro to STEM Research Method: In the Field and at the Bench',\n",
       " 'SASC Coseminar: Biology',\n",
       " 'MASP Natural Science Seminar',\n",
       " 'MASP Social Science Seminar',\n",
       " 'MASP Humanities Seminar',\n",
       " 'MASP Research Seminar',\n",
       " 'Health, Society, and Wellness in COVID-19 Times',\n",
       " 'Making the Self: Tools for Well-Being and Success in College',\n",
       " 'The University of Colorado Experience',\n",
       " 'SASC Coseminar: Calculus Work Group',\n",
       " 'Methods of Inquiry',\n",
       " 'Ways of Knowing: Constructions of Knowledge in the Academy and Beyond',\n",
       " 'Peer Counseling',\n",
       " 'SASC Coseminar: Organic Chemistry',\n",
       " 'SASC Coseminar: Physics 1 and 2',\n",
       " 'Social Engagement & Human Rights: The South Africa Model',\n",
       " 'Multicultural Perspective and Academic Discourse',\n",
       " 'Diversity Issues: Higher Education',\n",
       " 'Diversity Issues in Graduate Education',\n",
       " 'McNair Seminar: Research Design',\n",
       " 'Multimedia Applications in Foreign/Second Language Education',\n",
       " 'Arts and Sciences Special Topics',\n",
       " 'The McNair Seminar: Research Practices and Procedures',\n",
       " 'CU in DC Seminar',\n",
       " 'Senior Thesis for Individually Structured Major',\n",
       " 'McNair Practicum: Principles and Practices of University Teaching',\n",
       " 'CU in DC Internship',\n",
       " 'Graduate Seminar on Applied Behavior Science 1',\n",
       " 'Graduate Seminar on Applied Behavior Science 2',\n",
       " 'Printmaking for Non-Majors',\n",
       " 'Introduction to Studio Art',\n",
       " 'Drawing for Non-Majors',\n",
       " 'Introduction to Studio Art 2',\n",
       " 'Principles of Color',\n",
       " 'Photography for Non-Majors',\n",
       " 'Painting for Non-Majors',\n",
       " 'Sculpture for Non-Majors',\n",
       " 'Ceramics for Non-Majors',\n",
       " 'Participatory Objects (Sculpture and Post-Studio Practice)',\n",
       " 'Beginning Drawing',\n",
       " 'Ceramics 2: Handbuilding',\n",
       " 'Ceramics 2: Wheelthrowing',\n",
       " 'Colossal Objects (Sculpture and Post-Studio Practice)',\n",
       " 'Digital Art 1',\n",
       " 'Photography 1',\n",
       " 'Photography 2',\n",
       " 'Beginning Painting',\n",
       " 'Drawing for Sculpture (Sculpture and Post-Studio Practice)',\n",
       " 'Nothing Flat 1: Project a Week (Sculpture & Post-Studio Practice)',\n",
       " 'Beginning Relief',\n",
       " 'Fleeting and Found 1: Ephemeral Sculpture 1',\n",
       " 'Beginning Intaglio',\n",
       " 'Beginning Lithography',\n",
       " 'Beginning Screenprinting',\n",
       " 'Beginning Alternative Printmaking',\n",
       " 'Beginning Monotype',\n",
       " 'Basic Sculpture: Materials and Techniques',\n",
       " 'Visual Thinking (Sculpture and Post-Studio Practice)',\n",
       " 'Land and Environmental Art (Sculpture and Post-Studio Practice)',\n",
       " 'Figure Drawing',\n",
       " 'Art and Social Practice (Sculpture and Post-Studio Practice)',\n",
       " 'Special Topics in Studio Arts',\n",
       " 'Intermediate Drawing',\n",
       " 'Sculpture: Modules and Multiples 2',\n",
       " 'Ceramics 3',\n",
       " 'Special Topics - Non-Studio',\n",
       " 'Intervention, Exchange, and Duration (Sculpture & Post-Studio Practice)',\n",
       " 'Nothing Flat: Project a Week (Sculpture & Post-Studio Practice)',\n",
       " 'Photography 3',\n",
       " 'Figure Painting',\n",
       " 'Intermediate Painting',\n",
       " 'Picturing Sculpture',\n",
       " 'Nothing Flat 2: Project a Week (Sculpture and Post-Studio Practice)',\n",
       " 'Relief 1',\n",
       " 'Bend, Build, Burn:  Sculpture in Wood',\n",
       " 'Fleeting and Found 2: Ephemeral Sculpture 2',\n",
       " 'Intaglio 1',\n",
       " 'Lithography 1',\n",
       " 'Screen Printing 1',\n",
       " 'Alternative Printmaking 1',\n",
       " 'Collaboration: Art and Collective Action',\n",
       " 'Monotype 1',\n",
       " 'Beyond the Studio: Post-Studio Art Practice',\n",
       " 'Lost in Space: Installation Art',\n",
       " 'Experimental Structures (Sculpture and Post-Studio Practice)',\n",
       " 'Undergraduate Independent Study---Photography',\n",
       " 'Undergraduate Independent Study---Painting',\n",
       " 'Undergraduate Independent Study---Ceramics',\n",
       " 'Undergraduate Independent Study---Video',\n",
       " 'Advanced Drawing/Portfolio',\n",
       " 'Public Art',\n",
       " 'Writing Across the Arts: Culture Writing in the 21st c',\n",
       " 'Art Writing As Practice',\n",
       " 'Ceramics 4',\n",
       " 'Selected Topics in Contemporary Art',\n",
       " 'Special Topics in Ceramics',\n",
       " 'Special Topics-Non-Studio',\n",
       " 'Performance/Installation',\n",
       " 'BFA Seminar',\n",
       " 'Visiting Artist Program',\n",
       " 'Digital Art 2',\n",
       " 'Integrated Media',\n",
       " 'Metalsmithing 1',\n",
       " 'Photography 4',\n",
       " 'New Directions in Photography',\n",
       " 'New Directions in Digital Art',\n",
       " 'Advanced Painting/Portfolio',\n",
       " 'Beginning Video Production',\n",
       " 'Relief 2',\n",
       " 'History and Theory of Digital Art',\n",
       " 'Intaglio 2',\n",
       " 'Lithography 2',\n",
       " 'Screen Printing 2',\n",
       " 'Alternative Printmaking 2',\n",
       " 'Collaboration: Art & Collective Action',\n",
       " 'Art and Rural Environments Field School',\n",
       " 'Monotype 2',\n",
       " 'Sound Art Seminar',\n",
       " 'Advanced Sculpture Studio',\n",
       " 'String Instrument Building',\n",
       " 'Experimental Structures (Sculpture and Post Studio Practice)',\n",
       " 'Studio Critique',\n",
       " 'Art, Design, and Engineering: Thinking and Making',\n",
       " 'Graduate Ceramics',\n",
       " 'Graduate Art Seminar',\n",
       " 'Integrated Arts Studio',\n",
       " 'Graduate Integrated Arts',\n",
       " 'Graduate Photography',\n",
       " 'Graduate Painting',\n",
       " 'Graduate Beginning Video Production',\n",
       " 'Graduate Relief',\n",
       " 'Graduate Intermediate Video Production',\n",
       " 'Graduate Intaglio',\n",
       " 'Graduate Lithography',\n",
       " 'Graduate Screen Printing',\n",
       " 'Graduate Sculpture',\n",
       " 'Generative Art',\n",
       " 'Graduate Independent Study---Photography',\n",
       " 'Master of Fine Arts Creative Thesis',\n",
       " 'Origins of Contemporary Southeast Asia',\n",
       " 'Introduction to Tibetan Civilization',\n",
       " 'Gateway to Modern Asia: Exploring Regional Connections',\n",
       " 'Contemporary Southeast Asia: Environmental Politics',\n",
       " 'Sex and Gender in Asian Film and Literature',\n",
       " 'Discovering Urban China: Tradition, Modernity, Nostalgia',\n",
       " 'Advanced Language Co-Seminar Arts and Humanities',\n",
       " 'Advanced Language Co-Seminar Social Sciences',\n",
       " 'Politics of Memory and Heritage in Asia',\n",
       " 'Open Topics in Asian Studies',\n",
       " 'Wars of Liberation in Southeast Asia',\n",
       " 'Urban Asia: Tradition, Modernity, Challenges',\n",
       " 'Encounters: Tibet, the Himalayas, and the West',\n",
       " 'Senior Seminar in Asian Studies',\n",
       " 'Global Frontiers in Southeast Asia',\n",
       " 'Engage Asia: Internship in Asian Studies',\n",
       " 'The Solar System',\n",
       " 'Introductory Astronomy 1',\n",
       " 'Introductory Astronomy 2',\n",
       " 'Accelerated Introductory Astronomy 1',\n",
       " 'Accelerated Introductory Astronomy 2',\n",
       " 'Stars and Galaxies',\n",
       " 'Ancient Astronomies of the World',\n",
       " 'Modern Cosmology-Origin and Structure of the Universe',\n",
       " 'Space Astronomy and Exploration',\n",
       " 'Black Holes',\n",
       " 'The Search for Life in the Universe',\n",
       " 'The Sun and Society: Living with an Active Star',\n",
       " 'Fundamental Concepts in Astrophysics',\n",
       " 'Introduction to Scientific Programming',\n",
       " 'Extraterrestrial Life',\n",
       " 'Research Methods in Astronomy',\n",
       " 'Observations and Instrumentation 1',\n",
       " 'Observations and Instrumentation 2',\n",
       " 'Astronomical Instrumentation Laboratory',\n",
       " 'Formation & Dynamics of Planetary Systems',\n",
       " 'Planets and Their Atmospheres',\n",
       " 'Astrophysics 1 - Stellar and Interstellar',\n",
       " 'Cosmology and Relativity',\n",
       " 'Planets, Moons, and Rings',\n",
       " 'Solar and Space Physics',\n",
       " 'Introduction to Scientific Data Analysis and Computing',\n",
       " 'Astrophysics 2 - Galactic and Extragalactic',\n",
       " 'Cosmochemistry',\n",
       " 'Special Topics in Astrophysical and Planetary Sciences',\n",
       " 'Space Science: Practice and Policy',\n",
       " 'Atomic and Molecular Processes',\n",
       " 'Radiative and Dynamical Processes',\n",
       " 'Astrophysical and Space Plasmas',\n",
       " 'Introductory Plasma Physics',\n",
       " 'Introduction to Magnetospheres',\n",
       " 'Introduction to Fluid Dynamics',\n",
       " 'Fluid Instabilities, Waves, and Turbulence',\n",
       " 'Mathematical Methods',\n",
       " 'Observations, Data Analysis and Statistics',\n",
       " 'Radiative Processes in Planetary Atmospheres',\n",
       " 'Stellar Astrophysics',\n",
       " 'High-Energy Astrophysics',\n",
       " 'Galaxies',\n",
       " 'Stellar Atmospheres and Radiative Transfer',\n",
       " 'Interstellar Astrophysics',\n",
       " 'Astrophysical Instrumentation',\n",
       " 'Cosmology',\n",
       " 'Planetary Surfaces and Interiors',\n",
       " 'Planetary Atmospheres',\n",
       " 'Origin and Evolution of Planetary Systems',\n",
       " 'Topics in Planetary Science',\n",
       " 'Seminar in Planetary Science',\n",
       " 'Reading and Research in Astrophysical and Planetary Sciences',\n",
       " 'Seminar in Astrophysics',\n",
       " 'Earth and Planetary Physics 1',\n",
       " 'Earth and Planetary Physics 2',\n",
       " 'Earth and Planetary Physics 3',\n",
       " 'Seminar in Geophysics',\n",
       " 'Intermediate Plasma Physics',\n",
       " 'Design Foundations',\n",
       " 'Computational Foundations 1',\n",
       " 'Tools and Methods for Engineering Computing',\n",
       " 'The Meaning of Information Technology',\n",
       " 'Design Technologies: Toolkit',\n",
       " 'Design Technologies: Process',\n",
       " 'Introduction to Media Studies in the Humanities',\n",
       " 'Image',\n",
       " 'Web',\n",
       " 'Computational Foundations 2',\n",
       " 'Text',\n",
       " 'Special Topics in Creative Technology and Design',\n",
       " 'Introduction to Games and Play',\n",
       " 'Form',\n",
       " 'Motion Design',\n",
       " 'Creative Web Development',\n",
       " 'Universal Design for Digital Media',\n",
       " 'Creative Climate Communication',\n",
       " 'Sound',\n",
       " 'Object',\n",
       " 'Client Projects in Creative Technology and Design',\n",
       " 'Special Topics in Critical Perspectives in Technology',\n",
       " 'Material Studies and Practice',\n",
       " 'Research Methods and Professional Practice',\n",
       " 'Capstone Projects',\n",
       " 'Game Design',\n",
       " 'Neurohacking',\n",
       " 'Mobile Application Development',\n",
       " 'Experimental Typography',\n",
       " 'Game Development',\n",
       " 'Color',\n",
       " 'Big Data Architecture',\n",
       " 'Case Studies in Social Impact',\n",
       " 'Empathy and Technology',\n",
       " 'Aesthetics in Design',\n",
       " 'Mobile Application Development: Advanced Topics',\n",
       " 'Wearable Technologies',\n",
       " 'Advanced Special Topics in Creative Technology & Design',\n",
       " 'Advanced Special Topics: Critical Perspectives in Technology',\n",
       " 'Critical Technical Practice',\n",
       " 'Introduction to Virtual Reality',\n",
       " 'Web Front-End Development',\n",
       " 'Computer Animation',\n",
       " 'Interactive Machine Learning for Customizable and Expressive Interfaces',\n",
       " 'Managing Effectively in a Changing Telecommunications Environment',\n",
       " 'Global Development I',\n",
       " 'Global Development II',\n",
       " 'Technology for Social Impact Laboratory',\n",
       " 'Fieldwork Methods',\n",
       " 'Research Methods in Human-Robot Interaction',\n",
       " 'Creative Technologies',\n",
       " 'Professional Seminar: Business of Creativity',\n",
       " 'Design Methods',\n",
       " 'Design Studio',\n",
       " 'Advanced Special Topics in Creative Technology and Design',\n",
       " 'Startup Practicum',\n",
       " 'User-Experience Design 1',\n",
       " 'Design Thinking',\n",
       " 'Introduction to Programming',\n",
       " 'Creative Code',\n",
       " 'Creative Tech Studio',\n",
       " 'User-Experience Design 2',\n",
       " 'Front-End Development 2',\n",
       " 'Masters Level Independent Study',\n",
       " 'Professional Internship',\n",
       " 'Social Impact Practicum',\n",
       " 'Creative Industries Final Project',\n",
       " 'ATLAS Colloquium',\n",
       " 'ATLAS Graduate Research Methods',\n",
       " 'Doctoral Level Independent Study',\n",
       " 'Weather and the Atmosphere',\n",
       " 'Our Changing Environment: El Nino, Ozone, and Climate',\n",
       " 'Weather and the Atmosphere Laboratory',\n",
       " 'Introduction to Atmospheric Research',\n",
       " 'Special Topics in Atmospheric and Oceanic Sciences - Lower Division',\n",
       " 'Principles of Weather',\n",
       " 'Introduction to Oceanography',\n",
       " 'Aviation Meteorology',\n",
       " 'Analysis of Climate and Weather Observations',\n",
       " 'Air Chemistry and Pollution',\n",
       " 'Principles of Climate',\n",
       " 'Seminar in Atmospheric and Oceanic Sciences',\n",
       " 'Biogeochemical Oceanography',\n",
       " 'Descriptive Physical Oceanography',\n",
       " 'Special Topics in Atmospheric and Oceanic Sciences - Upper Division',\n",
       " 'Mountain Meteorology',\n",
       " 'Weather Analysis & Forecasting',\n",
       " 'Introduction to Atmospheric Physics',\n",
       " 'Atmospheric Dynamics',\n",
       " 'Physical Oceanography and Climate',\n",
       " 'Desert Meteorology and Climate',\n",
       " 'Physics and Chemistry of Clouds and Aerosols',\n",
       " 'Renewable Energy Meteorology',\n",
       " 'Ice Sheets and Climate',\n",
       " 'Policy Implications of Climate Controversies',\n",
       " 'Scientific Programming, Data Analysis and Visualization Laboratory',\n",
       " 'Remote Sensing Lab',\n",
       " 'Field Observations and Measurements Laboratory',\n",
       " 'Numerical Methods Laboratory',\n",
       " 'Climate Modeling Laboratory',\n",
       " 'Weather Modeling Laboratory',\n",
       " 'Mesoscale Meteorology',\n",
       " 'Synoptic Dynamic Meteorology',\n",
       " 'Honors Thesis',\n",
       " 'Critical Issues in Climate and the Environment',\n",
       " 'Atmospheric Thermodynamics and Dynamics',\n",
       " 'Introduction to Physical Oceanography',\n",
       " 'Dynamics of the Atmosphere and Oceans',\n",
       " 'Advanced Ocean Dynamics and Air-Sea Coupled ENSO Mechanisms',\n",
       " 'Atmospheric Chemistry',\n",
       " 'Advanced Atmospheric Chemistry',\n",
       " 'The Global Carbon Cycle',\n",
       " 'Special Topics in Atmospheric and Oceanic Sciences',\n",
       " 'Wind Energy Meteorology',\n",
       " 'Objective Analysis Data Laboratory',\n",
       " 'Modeling Weather and Climate',\n",
       " 'Weather Forecasting and Discussion',\n",
       " 'Scientific Writing',\n",
       " 'Colorado: History, Ecology, and Environment',\n",
       " 'Creating a Sustainable Future',\n",
       " 'Exploring Opportunities in the Natural and Environmental Sciences',\n",
       " 'BCOR Applied Semester Experience',\n",
       " 'A Path to Success: Introduction to the Biochemistry Major',\n",
       " 'Biotechnology and Society',\n",
       " 'Biochemistry Program for Research Exploration and Planning',\n",
       " 'Foundations of Biochemistry',\n",
       " 'Engineering RNA Aptamers',\n",
       " 'Literature-based Co-seminar for BCHM\\xa03100 CURE Laboratory Course',\n",
       " 'Organic Chemistry 2 for Biochemistry Majors',\n",
       " 'Quantitative Optical Imaging',\n",
       " ...]"
      ]
     },
     "execution_count": 162,
     "metadata": {},
     "output_type": "execute_result"
    }
   ],
   "source": [
    "entities['course_names']"
   ]
  },
  {
   "cell_type": "markdown",
   "metadata": {},
   "source": [
    "### 5. B. Fill entity information in utterance templates (final_utterances)"
   ]
  },
  {
   "cell_type": "code",
   "execution_count": 30,
   "metadata": {},
   "outputs": [
    {
     "name": "stdout",
     "output_type": "stream",
     "text": [
      "Total template utterances found:  100\n"
     ]
    }
   ],
   "source": [
    "# load template utterances to fill-in entities\n",
    "with open(os.path.join(os.path.join(ml_dir, \"data\"), \"templates_sq_utterances.json\"), \"r\") as outfile:\n",
    "    template_mapper = json.loads(outfile.read())    \n",
    "print(\"Total template utterances found: \", sum([len(i['utterances']) for i in template_mapper.values()]))"
   ]
  },
  {
   "cell_type": "code",
   "execution_count": 31,
   "metadata": {
    "collapsed": true
   },
   "outputs": [
    {
     "name": "stdout",
     "output_type": "stream",
     "text": [
      ">> Filling Utterances with 'course-id' entitites....\n"
     ]
    },
    {
     "name": "stderr",
     "output_type": "stream",
     "text": [
      "100%|█████████████████████████████████████| 8849/8849 [00:01<00:00, 8132.43it/s]\n"
     ]
    },
    {
     "name": "stdout",
     "output_type": "stream",
     "text": [
      ">> Filling Utterances with 'course-name' entitites....\n"
     ]
    },
    {
     "name": "stderr",
     "output_type": "stream",
     "text": [
      "100%|█████████████████████████████████████| 6612/6612 [00:00<00:00, 8469.15it/s]\n"
     ]
    },
    {
     "name": "stdout",
     "output_type": "stream",
     "text": [
      ">> Filling Utterances with 'course-department' entitites....\n"
     ]
    },
    {
     "name": "stderr",
     "output_type": "stream",
     "text": [
      "100%|██████████████████████████████████████| 168/168 [00:00<00:00, 26262.27it/s]\n"
     ]
    },
    {
     "name": "stdout",
     "output_type": "stream",
     "text": [
      "\n",
      "\n",
      "Total trainable utterances created:  1163775\n"
     ]
    }
   ],
   "source": [
    "print(\">> Filling Utterances with 'course-id' entitites....\")\n",
    "utt_courseids = []\n",
    "for ent in tqdm.tqdm(entities.get('course_ids')):\n",
    "    for template_id, template_values in template_mapper.items():\n",
    "        if template_id != 'template_3':\n",
    "            # course name utterance templates placeholder: \"<COURSE_NAME>\"\n",
    "            template_utterances = template_values.get(\"utterances\")\n",
    "            utt_courseids += [re.sub('<COURSE_NAME>', ent, utt) for utt in template_utterances]\n",
    "            \n",
    "print(\">> Filling Utterances with 'course-name' entitites....\")\n",
    "utt_coursenames = []\n",
    "for ent in tqdm.tqdm(entities.get('course_names')):\n",
    "    for template_id, template_values in template_mapper.items():\n",
    "        if template_id != 'template_3':\n",
    "            # course name utterance templates placeholder: \"<COURSE_NAME>\"\n",
    "            template_utterances = template_values.get(\"utterances\")\n",
    "            utt_coursenames += [re.sub('<COURSE_NAME>', ent, utt) for utt in template_utterances]\n",
    "\n",
    "print(\">> Filling Utterances with 'course-department' entitites....\")\n",
    "utt_coursedepts = []\n",
    "for dept in tqdm.tqdm(entities.get('course_depts')):\n",
    "    for template_id, template_values in template_mapper.items():\n",
    "        if template_id == 'template_3':\n",
    "            # department_name utterance templates \"<DEPT>\"\n",
    "            template_utterances = template_values.get(\"utterances\")\n",
    "            utt_coursedepts += [re.sub('<DEPT>', dept, utt) for utt in template_utterances]\n",
    "\n",
    "utterances = {\n",
    "    'utt_course_ids': utt_courseids,\n",
    "    'utt_course_names': utt_coursenames,\n",
    "    'utt_course_depts': utt_coursedepts\n",
    "}\n",
    "\n",
    "\n",
    "# Storing final <<filled>> utterances\n",
    "with open(os.path.join(os.path.join(ml_dir, \"data\"), \"final_utterances.json\"), \"w\") as outfile:\n",
    "    json.dump(utterances, outfile, indent=4, sort_keys=False)\n",
    "\n",
    "print(\"\\n\\nTotal trainable utterances created: \", sum([len(i) for i in utterances.values()]))"
   ]
  },
  {
   "cell_type": "markdown",
   "metadata": {},
   "source": [
    "### 5. C. Transforming filled utterances into spaCy Format (train_data)"
   ]
  },
  {
   "cell_type": "code",
   "execution_count": 113,
   "metadata": {
    "scrolled": false
   },
   "outputs": [],
   "source": [
    "def offsetter(lbl, doc, matchitem):\n",
    "    ''' \n",
    "        Utility function - converts the output of the PhraseMatcher to something usable in training. \n",
    "        Converts word position to string position, because output of PhraseMatcher returns \n",
    "    '''\n",
    "    one = len(str(doc[0:matchitem[1]]))\n",
    "    subdoc = doc[matchitem[1]:matchitem[2]]\n",
    "    two = one + len(str(subdoc))\n",
    "    # ::FIX:: Misaligned by a factor of one character\n",
    "    if one != 0:\n",
    "        one += 1\n",
    "        two += 1\n",
    "    return (one, two, lbl)\n",
    "\n",
    "def transform_utterances(utterances, label, entity_keywords):\n",
    "    ''' \n",
    "        Main function - converts text sentence into entity-text format Spacy can understand. \n",
    "    '''\n",
    "    # Phrase matcher - we use this class from spaCy to locate the text we want to label!\n",
    "    matcher = PhraseMatcher(nlp.vocab)\n",
    "\n",
    "    # Getting all the entities and their entity_label for classification\n",
    "    print(\">> Adding entity mapping: {} to Spacy Matcher Object\".format(label))\n",
    "    for i in entity_keywords:\n",
    "        matcher.add(label, None, nlp(i))\n",
    "    # Getting all the matches\n",
    "    entity_train = []\n",
    "    for document in tqdm.tqdm(utterances):\n",
    "        nlp_document = nlp(document)\n",
    "        matches = matcher(nlp_document)\n",
    "        entity_list = [offsetter(label, nlp_document, match) for match in matches]\n",
    "        entity_list = [entity_list[1] if len(entity_list) > 1 else entity_list[0]]   # only one instance\n",
    "        entity_train.append((document.lower(), {'entities': entity_list}))\n",
    "    return(entity_train)\n",
    "\n",
    "\n",
    "\n",
    "##########################################################################################\n",
    "#  Transforming utterances into annotation schemata for spaCy PhraseMatcher engine.\n",
    "##########################################################################################\n",
    "st = time.time()\n",
    "entity_train = []\n",
    "\n",
    "# formatting for ::COURSE_ID::\n",
    "st_ix=0\n",
    "entity_train += transform_utterances(utterances['utt_course_ids'], \n",
    "                                     label = 'COURSE_ID', \n",
    "                                     entity_keywords = entities.get('course_ids'))\n",
    "end_ix=st_ix+len(entity_train)\n",
    "print(\"Utterances: COURSE_ID --> \\tStart Index: {} --- End Index: {}\".format(st_ix, end_ix))\n",
    "\n",
    "\n",
    "# formatting for ::COURSE_NAME::\n",
    "st_ix=end_ix\n",
    "entity_train += transform_utterances(utterances['utt_course_names'], \n",
    "                                     label = 'COURSE_NAME', \n",
    "                                     entity_keywords = entities.get('course_names'))\n",
    "end_ix=st_ix+len(utterances['utt_course_names'])\n",
    "print(\"Utterances: COURSE_NAME --> \\tStart Index: {} --- End Index: {}\".format(st_ix, end_ix))\n",
    "\n",
    "\n",
    "# formatting for ::COURSE_DEPT::\n",
    "st_ix=end_ix\n",
    "entity_train += transform_utterances(utterances['utt_course_depts'], \n",
    "                                     label = 'COURSE_DEPT', \n",
    "                                     entity_keywords = entities.get('course_depts'))\n",
    "end_ix=st_ix+len(utterances['utt_course_depts'])\n",
    "print(\"Utterances: COURSE_DEPT --> \\tStart Index: {} --- End Index: {}\".format(st_ix, end_ix))\n",
    "\n",
    "\n",
    "####### save final formatted spacy utterances with enitity meta-data for training a NER model #######\n",
    "import pickle\n",
    "with open(os.path.join(os.path.join(ml_dir, \"data\"), \"train_data.pkl\"), \"wb\") as fp:\n",
    "    pickle.dump(entity_train, fp)\n",
    "print(\"Total Time taken (mins): \", (time.time() - st)/60)"
   ]
  },
  {
   "cell_type": "markdown",
   "metadata": {},
   "source": [
    "- This conversion takes about 2 hours on Mac M1 2018 model"
   ]
  },
  {
   "cell_type": "markdown",
   "metadata": {},
   "source": [
    "----"
   ]
  },
  {
   "cell_type": "markdown",
   "metadata": {},
   "source": [
    "# 6. Model Training\n",
    "\n",
    "- Load all the trainable utterances in spaCy format (completed in Step 5)\n",
    "- GPU requirements\n",
    "- Spacy trains a BiLSTM-CNN NER network.\n",
    "\n",
    "\n",
    "https://spacy.io/usage/training#quickstart"
   ]
  },
  {
   "cell_type": "markdown",
   "metadata": {},
   "source": [
    "### 6. 1. Load training data"
   ]
  },
  {
   "cell_type": "code",
   "execution_count": 114,
   "metadata": {},
   "outputs": [
    {
     "name": "stdout",
     "output_type": "stream",
     "text": [
      "**************************************************\n",
      "> Final Training Data stored: \t'/Volumes/Local Drive/StudyBuff/GITHUB/StudyBuff/mlEngine/data/train_data.pkl'\n",
      "> Total trainable utterances: \t1163775\n",
      "**************************************************\n"
     ]
    }
   ],
   "source": [
    "# load final training utterances :\n",
    "\n",
    "final_traindata_fp = os.path.join(os.path.join(ml_dir, \"data\"), \"train_data.pkl\")\n",
    "with open(final_traindata_fp, \"rb\") as fp:\n",
    "    train_data = pickle.load(fp)\n",
    "\n",
    "print(\"{}\\n> Final Training Data stored: \\t'{}'\\n> Total trainable utterances: \\t{}\\n{}\"\\\n",
    "      .format(\"*\"*50, final_traindata_fp, len(train_data), \"*\"*50))"
   ]
  },
  {
   "cell_type": "markdown",
   "metadata": {},
   "source": [
    "### 6. 2. Load last trained model"
   ]
  },
  {
   "cell_type": "code",
   "execution_count": 117,
   "metadata": {},
   "outputs": [],
   "source": [
    "def get_last_model_fp():\n",
    "    \"\"\"\n",
    "        For resuming model training, this returns the index till which the last model was trained, and model.\n",
    "    \"\"\"\n",
    "    model_save_path = ml_dir + '/models/spacy/courseNER'\n",
    "    if os.path.exists(model_save_path) and os.path.exists(model_save_path + \"/save_model\"):\n",
    "        last_save_fp = [fp for fp in os.listdir(model_save_path + \"/save_model\") if fp.startswith(\"course\")]\n",
    "        if len(last_save_fp) > 0:\n",
    "            last_save_fp = last_save_fp[0]\n",
    "            last_index = re.findall('.*idx\\_(.*?)\\_', last_save_fp)[0]\n",
    "            return last_index, os.path.join(os.path.join(ml_dir, \"models/spacy/courseNER/save_model\"), last_save_fp)\n",
    "        else:\n",
    "            raise Exception(\"Model Save Path is empty!!\")\n",
    "    else:\n",
    "        raise Exception(\"{} is empty!!\".format(model_save_path))"
   ]
  },
  {
   "cell_type": "markdown",
   "metadata": {},
   "source": [
    "### 6.3. Training\n",
    "\n",
    "\n",
    "### Approach 1\n",
    "\n",
    "- Using Spacy Version 2.X model training procedure"
   ]
  },
  {
   "cell_type": "markdown",
   "metadata": {},
   "source": [
    "### Starting Training (from a blank!)"
   ]
  },
  {
   "cell_type": "code",
   "execution_count": 134,
   "metadata": {},
   "outputs": [],
   "source": [
    "# :: settings ::\n",
    "\n",
    "# training data\n",
    "spacy_training_data = train_data\n",
    "\n",
    "# creating batches of training data\n",
    "batch_size = 20000\n",
    "\n",
    "# Go through the training data N times\n",
    "iterations = 1\n",
    "\n",
    "# Save output nlp model\n",
    "model_save_path = ml_dir + '/models/spacy/courseNER'\n",
    "\n",
    "# entity labels\n",
    "ent_labels = {'COURSE_ID', 'COURSE_NAME', 'COURSE_DEPT'}"
   ]
  },
  {
   "cell_type": "code",
   "execution_count": 135,
   "metadata": {
    "collapsed": true
   },
   "outputs": [
    {
     "name": "stdout",
     "output_type": "stream",
     "text": [
      "Created blank 'en' model\n",
      "Entities added to new 'ner'.\n",
      "Starting iteration 0\n",
      "Starting batch 0\n"
     ]
    },
    {
     "name": "stderr",
     "output_type": "stream",
     "text": [
      "100%|█████████████████████████████████████| 20000/20000 [07:10<00:00, 46.42it/s]\n"
     ]
    },
    {
     "name": "stdout",
     "output_type": "stream",
     "text": [
      "losses (batch 0): {'ner': 0.0011522860551893394}\n",
      "Checkpoint saved:  /Volumes/Local Drive/StudyBuff/GITHUB/StudyBuff/mlEngine/models/spacy/courseNER/save_model/course_nlp___idx_20000__2023_03_12__08_52_09_PM\n",
      "Starting batch 1\n"
     ]
    },
    {
     "name": "stderr",
     "output_type": "stream",
     "text": [
      "100%|█████████████████████████████████████| 20000/20000 [07:40<00:00, 43.48it/s]\n"
     ]
    },
    {
     "name": "stdout",
     "output_type": "stream",
     "text": [
      "losses (batch 0): {'ner': 4.44173424846049e-11}\n",
      "Checkpoint saved:  /Volumes/Local Drive/StudyBuff/GITHUB/StudyBuff/mlEngine/models/spacy/courseNER/save_model/course_nlp___idx_40000__2023_03_12__08_59_49_PM\n",
      "Starting batch 2\n"
     ]
    },
    {
     "name": "stderr",
     "output_type": "stream",
     "text": [
      "100%|█████████████████████████████████████| 20000/20000 [07:35<00:00, 43.92it/s]\n"
     ]
    },
    {
     "name": "stdout",
     "output_type": "stream",
     "text": [
      "losses (batch 0): {'ner': 1.7124945149932478}\n",
      "Checkpoint saved:  /Volumes/Local Drive/StudyBuff/GITHUB/StudyBuff/mlEngine/models/spacy/courseNER/save_model/course_nlp___idx_60000__2023_03_12__09_07_24_PM\n",
      "Starting batch 3\n"
     ]
    },
    {
     "name": "stderr",
     "output_type": "stream",
     "text": [
      "100%|█████████████████████████████████████| 20000/20000 [07:33<00:00, 44.13it/s]\n"
     ]
    },
    {
     "name": "stdout",
     "output_type": "stream",
     "text": [
      "losses (batch 0): {'ner': 3.36529670598296e-07}\n",
      "Checkpoint saved:  /Volumes/Local Drive/StudyBuff/GITHUB/StudyBuff/mlEngine/models/spacy/courseNER/save_model/course_nlp___idx_80000__2023_03_12__09_14_58_PM\n",
      "Starting batch 4\n"
     ]
    },
    {
     "name": "stderr",
     "output_type": "stream",
     "text": [
      "100%|█████████████████████████████████████| 20000/20000 [07:08<00:00, 46.70it/s]\n"
     ]
    },
    {
     "name": "stdout",
     "output_type": "stream",
     "text": [
      "losses (batch 0): {'ner': 0.00016741731633996478}\n",
      "Checkpoint saved:  /Volumes/Local Drive/StudyBuff/GITHUB/StudyBuff/mlEngine/models/spacy/courseNER/save_model/course_nlp___idx_100000__2023_03_12__09_22_06_PM\n",
      "Starting batch 5\n"
     ]
    },
    {
     "name": "stderr",
     "output_type": "stream",
     "text": [
      "100%|█████████████████████████████████████| 20000/20000 [06:51<00:00, 48.62it/s]\n"
     ]
    },
    {
     "name": "stdout",
     "output_type": "stream",
     "text": [
      "losses (batch 0): {'ner': 0.09158952561241537}\n",
      "Checkpoint saved:  /Volumes/Local Drive/StudyBuff/GITHUB/StudyBuff/mlEngine/models/spacy/courseNER/save_model/course_nlp___idx_120000__2023_03_12__09_28_58_PM\n",
      "Starting batch 6\n"
     ]
    },
    {
     "name": "stderr",
     "output_type": "stream",
     "text": [
      "100%|█████████████████████████████████████| 20000/20000 [06:52<00:00, 48.43it/s]\n"
     ]
    },
    {
     "name": "stdout",
     "output_type": "stream",
     "text": [
      "losses (batch 0): {'ner': 0.00027448927208816346}\n",
      "Checkpoint saved:  /Volumes/Local Drive/StudyBuff/GITHUB/StudyBuff/mlEngine/models/spacy/courseNER/save_model/course_nlp___idx_140000__2023_03_12__09_35_51_PM\n",
      "Starting batch 7\n"
     ]
    },
    {
     "name": "stderr",
     "output_type": "stream",
     "text": [
      "100%|█████████████████████████████████████| 20000/20000 [09:16<00:00, 35.93it/s]\n"
     ]
    },
    {
     "name": "stdout",
     "output_type": "stream",
     "text": [
      "losses (batch 0): {'ner': 8.574071013650673e-05}\n",
      "Checkpoint saved:  /Volumes/Local Drive/StudyBuff/GITHUB/StudyBuff/mlEngine/models/spacy/courseNER/save_model/course_nlp___idx_160000__2023_03_12__09_45_08_PM\n",
      "Starting batch 8\n"
     ]
    },
    {
     "name": "stderr",
     "output_type": "stream",
     "text": [
      "100%|█████████████████████████████████████| 20000/20000 [07:59<00:00, 41.74it/s]\n"
     ]
    },
    {
     "name": "stdout",
     "output_type": "stream",
     "text": [
      "losses (batch 0): {'ner': 7.169986759438631e-08}\n",
      "Checkpoint saved:  /Volumes/Local Drive/StudyBuff/GITHUB/StudyBuff/mlEngine/models/spacy/courseNER/save_model/course_nlp___idx_180000__2023_03_12__09_53_07_PM\n",
      "Starting batch 9\n"
     ]
    },
    {
     "name": "stderr",
     "output_type": "stream",
     "text": [
      "100%|█████████████████████████████████████| 20000/20000 [07:39<00:00, 43.49it/s]\n"
     ]
    },
    {
     "name": "stdout",
     "output_type": "stream",
     "text": [
      "losses (batch 0): {'ner': 1.5512575584529858e-10}\n",
      "Checkpoint saved:  /Volumes/Local Drive/StudyBuff/GITHUB/StudyBuff/mlEngine/models/spacy/courseNER/save_model/course_nlp___idx_200000__2023_03_12__10_00_47_PM\n",
      "Starting batch 10\n"
     ]
    },
    {
     "name": "stderr",
     "output_type": "stream",
     "text": [
      "100%|█████████████████████████████████████| 20000/20000 [07:15<00:00, 45.88it/s]\n"
     ]
    },
    {
     "name": "stdout",
     "output_type": "stream",
     "text": [
      "losses (batch 0): {'ner': 0.6207666446523413}\n",
      "Checkpoint saved:  /Volumes/Local Drive/StudyBuff/GITHUB/StudyBuff/mlEngine/models/spacy/courseNER/save_model/course_nlp___idx_220000__2023_03_12__10_08_03_PM\n",
      "Starting batch 11\n"
     ]
    },
    {
     "name": "stderr",
     "output_type": "stream",
     "text": [
      "100%|█████████████████████████████████████| 20000/20000 [07:00<00:00, 47.62it/s]\n"
     ]
    },
    {
     "name": "stdout",
     "output_type": "stream",
     "text": [
      "losses (batch 0): {'ner': 1.1306716034228251e-10}\n",
      "Checkpoint saved:  /Volumes/Local Drive/StudyBuff/GITHUB/StudyBuff/mlEngine/models/spacy/courseNER/save_model/course_nlp___idx_240000__2023_03_12__10_15_03_PM\n",
      "Starting batch 12\n"
     ]
    },
    {
     "name": "stderr",
     "output_type": "stream",
     "text": [
      "100%|█████████████████████████████████████| 20000/20000 [07:15<00:00, 45.98it/s]\n"
     ]
    },
    {
     "name": "stdout",
     "output_type": "stream",
     "text": [
      "losses (batch 0): {'ner': 7.889775711929529e-12}\n",
      "Checkpoint saved:  /Volumes/Local Drive/StudyBuff/GITHUB/StudyBuff/mlEngine/models/spacy/courseNER/save_model/course_nlp___idx_260000__2023_03_12__10_22_19_PM\n",
      "Starting batch 13\n"
     ]
    },
    {
     "name": "stderr",
     "output_type": "stream",
     "text": [
      "100%|█████████████████████████████████████| 20000/20000 [07:18<00:00, 45.58it/s]\n"
     ]
    },
    {
     "name": "stdout",
     "output_type": "stream",
     "text": [
      "losses (batch 0): {'ner': 4.200781175138023e-09}\n",
      "Checkpoint saved:  /Volumes/Local Drive/StudyBuff/GITHUB/StudyBuff/mlEngine/models/spacy/courseNER/save_model/course_nlp___idx_280000__2023_03_12__10_29_38_PM\n",
      "Starting batch 14\n"
     ]
    },
    {
     "name": "stderr",
     "output_type": "stream",
     "text": [
      "100%|█████████████████████████████████████| 20000/20000 [06:56<00:00, 48.02it/s]\n"
     ]
    },
    {
     "name": "stdout",
     "output_type": "stream",
     "text": [
      "losses (batch 0): {'ner': 1.0983175264145768}\n",
      "Checkpoint saved:  /Volumes/Local Drive/StudyBuff/GITHUB/StudyBuff/mlEngine/models/spacy/courseNER/save_model/course_nlp___idx_300000__2023_03_12__10_36_34_PM\n",
      "Starting batch 15\n"
     ]
    },
    {
     "name": "stderr",
     "output_type": "stream",
     "text": [
      "100%|█████████████████████████████████████| 20000/20000 [07:17<00:00, 45.69it/s]\n"
     ]
    },
    {
     "name": "stdout",
     "output_type": "stream",
     "text": [
      "losses (batch 0): {'ner': 1.281589856885915e-11}\n",
      "Checkpoint saved:  /Volumes/Local Drive/StudyBuff/GITHUB/StudyBuff/mlEngine/models/spacy/courseNER/save_model/course_nlp___idx_320000__2023_03_12__10_43_52_PM\n",
      "Starting batch 16\n"
     ]
    },
    {
     "name": "stderr",
     "output_type": "stream",
     "text": [
      "100%|█████████████████████████████████████| 20000/20000 [07:25<00:00, 44.89it/s]\n"
     ]
    },
    {
     "name": "stdout",
     "output_type": "stream",
     "text": [
      "losses (batch 0): {'ner': 1.5004229373085892e-08}\n",
      "Checkpoint saved:  /Volumes/Local Drive/StudyBuff/GITHUB/StudyBuff/mlEngine/models/spacy/courseNER/save_model/course_nlp___idx_340000__2023_03_12__10_51_18_PM\n",
      "Starting batch 17\n"
     ]
    },
    {
     "name": "stderr",
     "output_type": "stream",
     "text": [
      "100%|█████████████████████████████████████| 20000/20000 [07:26<00:00, 44.81it/s]\n"
     ]
    },
    {
     "name": "stdout",
     "output_type": "stream",
     "text": [
      "losses (batch 0): {'ner': 8.522081325107068e-08}\n",
      "Checkpoint saved:  /Volumes/Local Drive/StudyBuff/GITHUB/StudyBuff/mlEngine/models/spacy/courseNER/save_model/course_nlp___idx_360000__2023_03_12__10_58_44_PM\n",
      "Starting batch 18\n"
     ]
    },
    {
     "name": "stderr",
     "output_type": "stream",
     "text": [
      "100%|█████████████████████████████████████| 20000/20000 [07:28<00:00, 44.55it/s]\n"
     ]
    },
    {
     "name": "stdout",
     "output_type": "stream",
     "text": [
      "losses (batch 0): {'ner': 4.13890045061591e-09}\n",
      "Checkpoint saved:  /Volumes/Local Drive/StudyBuff/GITHUB/StudyBuff/mlEngine/models/spacy/courseNER/save_model/course_nlp___idx_380000__2023_03_12__11_06_14_PM\n",
      "Starting batch 19\n"
     ]
    },
    {
     "name": "stderr",
     "output_type": "stream",
     "text": [
      "100%|█████████████████████████████████████| 20000/20000 [08:18<00:00, 40.13it/s]\n"
     ]
    },
    {
     "name": "stdout",
     "output_type": "stream",
     "text": [
      "losses (batch 0): {'ner': 3.785327303917771e-11}\n",
      "Checkpoint saved:  /Volumes/Local Drive/StudyBuff/GITHUB/StudyBuff/mlEngine/models/spacy/courseNER/save_model/course_nlp___idx_400000__2023_03_12__11_14_32_PM\n",
      "Starting batch 20\n"
     ]
    },
    {
     "name": "stderr",
     "output_type": "stream",
     "text": [
      "100%|█████████████████████████████████████| 20000/20000 [07:49<00:00, 42.58it/s]\n"
     ]
    },
    {
     "name": "stdout",
     "output_type": "stream",
     "text": [
      "losses (batch 0): {'ner': 4.0826040527242665e-11}\n",
      "Checkpoint saved:  /Volumes/Local Drive/StudyBuff/GITHUB/StudyBuff/mlEngine/models/spacy/courseNER/save_model/course_nlp___idx_420000__2023_03_12__11_22_22_PM\n",
      "Starting batch 21\n"
     ]
    },
    {
     "name": "stderr",
     "output_type": "stream",
     "text": [
      "100%|█████████████████████████████████████| 20000/20000 [08:35<00:00, 38.80it/s]\n"
     ]
    },
    {
     "name": "stdout",
     "output_type": "stream",
     "text": [
      "losses (batch 0): {'ner': 5.803011383653137e-09}\n",
      "Checkpoint saved:  /Volumes/Local Drive/StudyBuff/GITHUB/StudyBuff/mlEngine/models/spacy/courseNER/save_model/course_nlp___idx_440000__2023_03_12__11_30_58_PM\n",
      "Starting batch 22\n"
     ]
    },
    {
     "name": "stderr",
     "output_type": "stream",
     "text": [
      "100%|█████████████████████████████████████| 20000/20000 [07:59<00:00, 41.68it/s]\n"
     ]
    },
    {
     "name": "stdout",
     "output_type": "stream",
     "text": [
      "losses (batch 0): {'ner': 1.9633946371497196e-11}\n",
      "Checkpoint saved:  /Volumes/Local Drive/StudyBuff/GITHUB/StudyBuff/mlEngine/models/spacy/courseNER/save_model/course_nlp___idx_460000__2023_03_12__11_38_58_PM\n",
      "Starting batch 23\n"
     ]
    },
    {
     "name": "stderr",
     "output_type": "stream",
     "text": [
      "100%|█████████████████████████████████████| 20000/20000 [08:10<00:00, 40.79it/s]\n"
     ]
    },
    {
     "name": "stdout",
     "output_type": "stream",
     "text": [
      "losses (batch 0): {'ner': 6.094224294877509e-11}\n",
      "Checkpoint saved:  /Volumes/Local Drive/StudyBuff/GITHUB/StudyBuff/mlEngine/models/spacy/courseNER/save_model/course_nlp___idx_480000__2023_03_12__11_47_09_PM\n",
      "Starting batch 24\n"
     ]
    },
    {
     "name": "stderr",
     "output_type": "stream",
     "text": [
      "100%|█████████████████████████████████████| 20000/20000 [08:08<00:00, 40.97it/s]\n"
     ]
    },
    {
     "name": "stdout",
     "output_type": "stream",
     "text": [
      "losses (batch 0): {'ner': 4.9595672374073345e-08}\n",
      "Checkpoint saved:  /Volumes/Local Drive/StudyBuff/GITHUB/StudyBuff/mlEngine/models/spacy/courseNER/save_model/course_nlp___idx_500000__2023_03_12__11_55_17_PM\n",
      "Starting batch 25\n"
     ]
    },
    {
     "name": "stderr",
     "output_type": "stream",
     "text": [
      "100%|█████████████████████████████████████| 20000/20000 [08:14<00:00, 40.42it/s]\n"
     ]
    },
    {
     "name": "stdout",
     "output_type": "stream",
     "text": [
      "losses (batch 0): {'ner': 1.8154811137724284e-12}\n",
      "Checkpoint saved:  /Volumes/Local Drive/StudyBuff/GITHUB/StudyBuff/mlEngine/models/spacy/courseNER/save_model/course_nlp___idx_520000__2023_03_13__12_03_32_AM\n",
      "Starting batch 26\n"
     ]
    },
    {
     "name": "stderr",
     "output_type": "stream",
     "text": [
      "100%|█████████████████████████████████████| 20000/20000 [08:07<00:00, 41.01it/s]\n"
     ]
    },
    {
     "name": "stdout",
     "output_type": "stream",
     "text": [
      "losses (batch 0): {'ner': 5.676625607413037e-12}\n",
      "Checkpoint saved:  /Volumes/Local Drive/StudyBuff/GITHUB/StudyBuff/mlEngine/models/spacy/courseNER/save_model/course_nlp___idx_540000__2023_03_13__12_11_40_AM\n",
      "Starting batch 27\n"
     ]
    },
    {
     "name": "stderr",
     "output_type": "stream",
     "text": [
      "100%|█████████████████████████████████████| 20000/20000 [07:30<00:00, 44.38it/s]\n"
     ]
    },
    {
     "name": "stdout",
     "output_type": "stream",
     "text": [
      "losses (batch 0): {'ner': 3.5859674111827864e-10}\n",
      "Checkpoint saved:  /Volumes/Local Drive/StudyBuff/GITHUB/StudyBuff/mlEngine/models/spacy/courseNER/save_model/course_nlp___idx_560000__2023_03_13__12_19_11_AM\n",
      "Starting batch 28\n"
     ]
    },
    {
     "name": "stderr",
     "output_type": "stream",
     "text": [
      "100%|█████████████████████████████████████| 20000/20000 [07:23<00:00, 45.07it/s]\n"
     ]
    },
    {
     "name": "stdout",
     "output_type": "stream",
     "text": [
      "losses (batch 0): {'ner': 1.0886868801398734e-10}\n",
      "Checkpoint saved:  /Volumes/Local Drive/StudyBuff/GITHUB/StudyBuff/mlEngine/models/spacy/courseNER/save_model/course_nlp___idx_580000__2023_03_13__12_26_35_AM\n",
      "Starting batch 29\n"
     ]
    },
    {
     "name": "stderr",
     "output_type": "stream",
     "text": [
      "100%|█████████████████████████████████████| 20000/20000 [07:14<00:00, 46.01it/s]\n"
     ]
    },
    {
     "name": "stdout",
     "output_type": "stream",
     "text": [
      "losses (batch 0): {'ner': 8.490055453941384e-12}\n",
      "Checkpoint saved:  /Volumes/Local Drive/StudyBuff/GITHUB/StudyBuff/mlEngine/models/spacy/courseNER/save_model/course_nlp___idx_600000__2023_03_13__12_33_50_AM\n",
      "Starting batch 30\n"
     ]
    },
    {
     "name": "stderr",
     "output_type": "stream",
     "text": [
      "100%|█████████████████████████████████████| 20000/20000 [07:10<00:00, 46.41it/s]\n"
     ]
    },
    {
     "name": "stdout",
     "output_type": "stream",
     "text": [
      "losses (batch 0): {'ner': 2.2211586332240325e-14}\n",
      "Checkpoint saved:  /Volumes/Local Drive/StudyBuff/GITHUB/StudyBuff/mlEngine/models/spacy/courseNER/save_model/course_nlp___idx_620000__2023_03_13__12_41_01_AM\n",
      "Starting batch 31\n"
     ]
    },
    {
     "name": "stderr",
     "output_type": "stream",
     "text": [
      "100%|█████████████████████████████████████| 20000/20000 [07:32<00:00, 44.20it/s]\n"
     ]
    },
    {
     "name": "stdout",
     "output_type": "stream",
     "text": [
      "losses (batch 0): {'ner': 9.777700222527163e-10}\n",
      "Checkpoint saved:  /Volumes/Local Drive/StudyBuff/GITHUB/StudyBuff/mlEngine/models/spacy/courseNER/save_model/course_nlp___idx_640000__2023_03_13__12_48_34_AM\n",
      "Starting batch 32\n"
     ]
    },
    {
     "name": "stderr",
     "output_type": "stream",
     "text": [
      "100%|█████████████████████████████████████| 20000/20000 [09:02<00:00, 36.88it/s]\n"
     ]
    },
    {
     "name": "stdout",
     "output_type": "stream",
     "text": [
      "losses (batch 0): {'ner': 4.4613527793501644e-12}\n",
      "Checkpoint saved:  /Volumes/Local Drive/StudyBuff/GITHUB/StudyBuff/mlEngine/models/spacy/courseNER/save_model/course_nlp___idx_660000__2023_03_13__12_57_36_AM\n",
      "Starting batch 33\n"
     ]
    },
    {
     "name": "stderr",
     "output_type": "stream",
     "text": [
      "100%|█████████████████████████████████████| 20000/20000 [08:27<00:00, 39.42it/s]\n"
     ]
    },
    {
     "name": "stdout",
     "output_type": "stream",
     "text": [
      "losses (batch 0): {'ner': 3.2577663508802168e-12}\n",
      "Checkpoint saved:  /Volumes/Local Drive/StudyBuff/GITHUB/StudyBuff/mlEngine/models/spacy/courseNER/save_model/course_nlp___idx_680000__2023_03_13__01_06_04_AM\n",
      "Starting batch 34\n"
     ]
    },
    {
     "name": "stderr",
     "output_type": "stream",
     "text": [
      "100%|█████████████████████████████████████| 20000/20000 [08:12<00:00, 40.62it/s]\n"
     ]
    },
    {
     "name": "stdout",
     "output_type": "stream",
     "text": [
      "losses (batch 0): {'ner': 3.473355495973487e-08}\n",
      "Checkpoint saved:  /Volumes/Local Drive/StudyBuff/GITHUB/StudyBuff/mlEngine/models/spacy/courseNER/save_model/course_nlp___idx_700000__2023_03_13__01_14_17_AM\n",
      "Starting batch 35\n"
     ]
    },
    {
     "name": "stderr",
     "output_type": "stream",
     "text": [
      "100%|█████████████████████████████████████| 20000/20000 [08:11<00:00, 40.72it/s]\n"
     ]
    },
    {
     "name": "stdout",
     "output_type": "stream",
     "text": [
      "losses (batch 0): {'ner': 5.117626606358133e-11}\n",
      "Checkpoint saved:  /Volumes/Local Drive/StudyBuff/GITHUB/StudyBuff/mlEngine/models/spacy/courseNER/save_model/course_nlp___idx_720000__2023_03_13__01_22_29_AM\n",
      "Starting batch 36\n"
     ]
    },
    {
     "name": "stderr",
     "output_type": "stream",
     "text": [
      "100%|█████████████████████████████████████| 20000/20000 [08:04<00:00, 41.32it/s]\n"
     ]
    },
    {
     "name": "stdout",
     "output_type": "stream",
     "text": [
      "losses (batch 0): {'ner': 1.8030126302770674e-11}\n",
      "Checkpoint saved:  /Volumes/Local Drive/StudyBuff/GITHUB/StudyBuff/mlEngine/models/spacy/courseNER/save_model/course_nlp___idx_740000__2023_03_13__01_30_33_AM\n",
      "Starting batch 37\n"
     ]
    },
    {
     "name": "stderr",
     "output_type": "stream",
     "text": [
      "100%|█████████████████████████████████████| 20000/20000 [08:19<00:00, 40.02it/s]\n"
     ]
    },
    {
     "name": "stdout",
     "output_type": "stream",
     "text": [
      "losses (batch 0): {'ner': 5.1211695026891874e-08}\n",
      "Checkpoint saved:  /Volumes/Local Drive/StudyBuff/GITHUB/StudyBuff/mlEngine/models/spacy/courseNER/save_model/course_nlp___idx_760000__2023_03_13__01_38_53_AM\n",
      "Starting batch 38\n"
     ]
    },
    {
     "name": "stderr",
     "output_type": "stream",
     "text": [
      "100%|█████████████████████████████████████| 20000/20000 [08:11<00:00, 40.66it/s]\n"
     ]
    },
    {
     "name": "stdout",
     "output_type": "stream",
     "text": [
      "losses (batch 0): {'ner': 0.001241947323965115}\n",
      "Checkpoint saved:  /Volumes/Local Drive/StudyBuff/GITHUB/StudyBuff/mlEngine/models/spacy/courseNER/save_model/course_nlp___idx_780000__2023_03_13__01_47_05_AM\n",
      "Starting batch 39\n"
     ]
    },
    {
     "name": "stderr",
     "output_type": "stream",
     "text": [
      "100%|█████████████████████████████████████| 20000/20000 [08:04<00:00, 41.25it/s]\n"
     ]
    },
    {
     "name": "stdout",
     "output_type": "stream",
     "text": [
      "losses (batch 0): {'ner': 4.369363009944641}\n",
      "Checkpoint saved:  /Volumes/Local Drive/StudyBuff/GITHUB/StudyBuff/mlEngine/models/spacy/courseNER/save_model/course_nlp___idx_800000__2023_03_13__01_55_11_AM\n",
      "Starting batch 40\n"
     ]
    },
    {
     "name": "stderr",
     "output_type": "stream",
     "text": [
      "100%|█████████████████████████████████████| 20000/20000 [08:14<00:00, 40.43it/s]\n"
     ]
    },
    {
     "name": "stdout",
     "output_type": "stream",
     "text": [
      "losses (batch 0): {'ner': 3.6899663703867268e-09}\n",
      "Checkpoint saved:  /Volumes/Local Drive/StudyBuff/GITHUB/StudyBuff/mlEngine/models/spacy/courseNER/save_model/course_nlp___idx_820000__2023_03_13__02_03_25_AM\n",
      "Starting batch 41\n"
     ]
    },
    {
     "name": "stderr",
     "output_type": "stream",
     "text": [
      "100%|█████████████████████████████████████| 20000/20000 [08:12<00:00, 40.60it/s]\n"
     ]
    },
    {
     "name": "stdout",
     "output_type": "stream",
     "text": [
      "losses (batch 0): {'ner': 9.574119935419682e-12}\n",
      "Checkpoint saved:  /Volumes/Local Drive/StudyBuff/GITHUB/StudyBuff/mlEngine/models/spacy/courseNER/save_model/course_nlp___idx_840000__2023_03_13__02_11_38_AM\n",
      "Starting batch 42\n"
     ]
    },
    {
     "name": "stderr",
     "output_type": "stream",
     "text": [
      "100%|█████████████████████████████████████| 20000/20000 [08:14<00:00, 40.43it/s]\n"
     ]
    },
    {
     "name": "stdout",
     "output_type": "stream",
     "text": [
      "losses (batch 0): {'ner': 1.7675414123374725e-11}\n",
      "Checkpoint saved:  /Volumes/Local Drive/StudyBuff/GITHUB/StudyBuff/mlEngine/models/spacy/courseNER/save_model/course_nlp___idx_860000__2023_03_13__02_19_53_AM\n",
      "Starting batch 43\n"
     ]
    },
    {
     "name": "stderr",
     "output_type": "stream",
     "text": [
      "100%|█████████████████████████████████████| 20000/20000 [07:56<00:00, 41.96it/s]\n"
     ]
    },
    {
     "name": "stdout",
     "output_type": "stream",
     "text": [
      "losses (batch 0): {'ner': 0.005381361921084251}\n",
      "Checkpoint saved:  /Volumes/Local Drive/StudyBuff/GITHUB/StudyBuff/mlEngine/models/spacy/courseNER/save_model/course_nlp___idx_880000__2023_03_13__02_27_50_AM\n",
      "Starting batch 44\n"
     ]
    },
    {
     "name": "stderr",
     "output_type": "stream",
     "text": [
      "100%|█████████████████████████████████████| 20000/20000 [07:37<00:00, 43.76it/s]\n"
     ]
    },
    {
     "name": "stdout",
     "output_type": "stream",
     "text": [
      "losses (batch 0): {'ner': 1.1359907934368949e-14}\n",
      "Checkpoint saved:  /Volumes/Local Drive/StudyBuff/GITHUB/StudyBuff/mlEngine/models/spacy/courseNER/save_model/course_nlp___idx_900000__2023_03_13__02_35_27_AM\n",
      "Starting batch 45\n"
     ]
    },
    {
     "name": "stderr",
     "output_type": "stream",
     "text": [
      "100%|█████████████████████████████████████| 20000/20000 [07:47<00:00, 42.79it/s]\n"
     ]
    },
    {
     "name": "stdout",
     "output_type": "stream",
     "text": [
      "losses (batch 0): {'ner': 1.9643157453528164e-07}\n",
      "Checkpoint saved:  /Volumes/Local Drive/StudyBuff/GITHUB/StudyBuff/mlEngine/models/spacy/courseNER/save_model/course_nlp___idx_920000__2023_03_13__02_43_14_AM\n",
      "Starting batch 46\n"
     ]
    },
    {
     "name": "stderr",
     "output_type": "stream",
     "text": [
      "100%|█████████████████████████████████████| 20000/20000 [07:44<00:00, 43.10it/s]\n"
     ]
    },
    {
     "name": "stdout",
     "output_type": "stream",
     "text": [
      "losses (batch 0): {'ner': 0.21277058573153854}\n",
      "Checkpoint saved:  /Volumes/Local Drive/StudyBuff/GITHUB/StudyBuff/mlEngine/models/spacy/courseNER/save_model/course_nlp___idx_940000__2023_03_13__02_50_59_AM\n",
      "Starting batch 47\n"
     ]
    },
    {
     "name": "stderr",
     "output_type": "stream",
     "text": [
      "100%|█████████████████████████████████████| 20000/20000 [07:47<00:00, 42.81it/s]\n"
     ]
    },
    {
     "name": "stdout",
     "output_type": "stream",
     "text": [
      "losses (batch 0): {'ner': 1.0447375905777197e-11}\n",
      "Checkpoint saved:  /Volumes/Local Drive/StudyBuff/GITHUB/StudyBuff/mlEngine/models/spacy/courseNER/save_model/course_nlp___idx_960000__2023_03_13__02_58_46_AM\n",
      "Starting batch 48\n"
     ]
    },
    {
     "name": "stderr",
     "output_type": "stream",
     "text": [
      "100%|█████████████████████████████████████| 20000/20000 [07:20<00:00, 45.45it/s]\n"
     ]
    },
    {
     "name": "stdout",
     "output_type": "stream",
     "text": [
      "losses (batch 0): {'ner': 0.3854139149971855}\n",
      "Checkpoint saved:  /Volumes/Local Drive/StudyBuff/GITHUB/StudyBuff/mlEngine/models/spacy/courseNER/save_model/course_nlp___idx_980000__2023_03_13__03_06_06_AM\n",
      "Starting batch 49\n"
     ]
    },
    {
     "name": "stderr",
     "output_type": "stream",
     "text": [
      "100%|█████████████████████████████████████| 20000/20000 [06:53<00:00, 48.31it/s]\n"
     ]
    },
    {
     "name": "stdout",
     "output_type": "stream",
     "text": [
      "losses (batch 0): {'ner': 5.193737095010222e-09}\n",
      "Checkpoint saved:  /Volumes/Local Drive/StudyBuff/GITHUB/StudyBuff/mlEngine/models/spacy/courseNER/save_model/course_nlp___idx_1000000__2023_03_13__03_13_00_AM\n",
      "Starting batch 50\n"
     ]
    },
    {
     "name": "stderr",
     "output_type": "stream",
     "text": [
      "100%|█████████████████████████████████████| 20000/20000 [06:52<00:00, 48.50it/s]\n"
     ]
    },
    {
     "name": "stdout",
     "output_type": "stream",
     "text": [
      "losses (batch 0): {'ner': 0.00343869592358187}\n",
      "Checkpoint saved:  /Volumes/Local Drive/StudyBuff/GITHUB/StudyBuff/mlEngine/models/spacy/courseNER/save_model/course_nlp___idx_1020000__2023_03_13__03_19_53_AM\n",
      "Starting batch 51\n"
     ]
    },
    {
     "name": "stderr",
     "output_type": "stream",
     "text": [
      "100%|█████████████████████████████████████| 20000/20000 [07:08<00:00, 46.63it/s]\n"
     ]
    },
    {
     "name": "stdout",
     "output_type": "stream",
     "text": [
      "losses (batch 0): {'ner': 2.0750193312309054e-08}\n",
      "Checkpoint saved:  /Volumes/Local Drive/StudyBuff/GITHUB/StudyBuff/mlEngine/models/spacy/courseNER/save_model/course_nlp___idx_1040000__2023_03_13__03_27_02_AM\n",
      "Starting batch 52\n"
     ]
    },
    {
     "name": "stderr",
     "output_type": "stream",
     "text": [
      "100%|█████████████████████████████████████| 20000/20000 [06:57<00:00, 47.89it/s]\n"
     ]
    },
    {
     "name": "stdout",
     "output_type": "stream",
     "text": [
      "losses (batch 0): {'ner': 8.386687217060689e-11}\n",
      "Checkpoint saved:  /Volumes/Local Drive/StudyBuff/GITHUB/StudyBuff/mlEngine/models/spacy/courseNER/save_model/course_nlp___idx_1060000__2023_03_13__03_33_59_AM\n",
      "Starting batch 53\n"
     ]
    },
    {
     "name": "stderr",
     "output_type": "stream",
     "text": [
      "100%|█████████████████████████████████████| 20000/20000 [07:00<00:00, 47.60it/s]\n"
     ]
    },
    {
     "name": "stdout",
     "output_type": "stream",
     "text": [
      "losses (batch 0): {'ner': 5.728863521447128e-05}\n",
      "Checkpoint saved:  /Volumes/Local Drive/StudyBuff/GITHUB/StudyBuff/mlEngine/models/spacy/courseNER/save_model/course_nlp___idx_1080000__2023_03_13__03_41_00_AM\n",
      "Starting batch 54\n"
     ]
    },
    {
     "name": "stderr",
     "output_type": "stream",
     "text": [
      "100%|█████████████████████████████████████| 20000/20000 [06:58<00:00, 47.83it/s]\n"
     ]
    },
    {
     "name": "stdout",
     "output_type": "stream",
     "text": [
      "losses (batch 0): {'ner': 8.490393066797541e-14}\n",
      "Checkpoint saved:  /Volumes/Local Drive/StudyBuff/GITHUB/StudyBuff/mlEngine/models/spacy/courseNER/save_model/course_nlp___idx_1100000__2023_03_13__03_47_58_AM\n",
      "Starting batch 55\n"
     ]
    },
    {
     "name": "stderr",
     "output_type": "stream",
     "text": [
      "100%|█████████████████████████████████████| 20000/20000 [06:57<00:00, 47.95it/s]\n"
     ]
    },
    {
     "name": "stdout",
     "output_type": "stream",
     "text": [
      "losses (batch 0): {'ner': 4.7826526435821634e-06}\n",
      "Checkpoint saved:  /Volumes/Local Drive/StudyBuff/GITHUB/StudyBuff/mlEngine/models/spacy/courseNER/save_model/course_nlp___idx_1120000__2023_03_13__03_54_55_AM\n",
      "Starting batch 56\n"
     ]
    },
    {
     "name": "stderr",
     "output_type": "stream",
     "text": [
      "100%|█████████████████████████████████████| 20000/20000 [06:58<00:00, 47.79it/s]\n"
     ]
    },
    {
     "name": "stdout",
     "output_type": "stream",
     "text": [
      "losses (batch 0): {'ner': 1.0748202758613659e-10}\n",
      "Checkpoint saved:  /Volumes/Local Drive/StudyBuff/GITHUB/StudyBuff/mlEngine/models/spacy/courseNER/save_model/course_nlp___idx_1140000__2023_03_13__04_01_54_AM\n",
      "Starting batch 57\n"
     ]
    },
    {
     "name": "stderr",
     "output_type": "stream",
     "text": [
      "100%|█████████████████████████████████████| 20000/20000 [06:57<00:00, 47.93it/s]\n"
     ]
    },
    {
     "name": "stdout",
     "output_type": "stream",
     "text": [
      "losses (batch 0): {'ner': 4.527683219529453e-11}\n",
      "Checkpoint saved:  /Volumes/Local Drive/StudyBuff/GITHUB/StudyBuff/mlEngine/models/spacy/courseNER/save_model/course_nlp___idx_1160000__2023_03_13__04_08_51_AM\n",
      "Starting batch 58\n"
     ]
    },
    {
     "name": "stderr",
     "output_type": "stream",
     "text": [
      "100%|███████████████████████████████████████| 3775/3775 [01:19<00:00, 47.69it/s]\n"
     ]
    },
    {
     "name": "stdout",
     "output_type": "stream",
     "text": [
      "losses (batch 0): {'ner': 1.027524067243855e-08}\n",
      "Checkpoint saved:  /Volumes/Local Drive/StudyBuff/GITHUB/StudyBuff/mlEngine/models/spacy/courseNER/save_model/course_nlp___idx_1163775__2023_03_13__04_10_10_AM\n"
     ]
    },
    {
     "data": {
      "image/png": "[encoded data removed]",
      "text/plain": [
       "<Figure size 1000x600 with 1 Axes>"
      ]
     },
     "metadata": {},
     "output_type": "display_data"
    },
    {
     "name": "stdout",
     "output_type": "stream",
     "text": [
      "Training complete. Time (mins):  445.24331254959105\n"
     ]
    }
   ],
   "source": [
    "# ************************************************************************\n",
    "# *********     FROM BLANK MODEL:\n",
    "# *********     Train the recognizer with Stochastic GD\n",
    "# ************************************************************************\n",
    "\n",
    "st = time.time()\n",
    "\n",
    "# create blank Language class\n",
    "spacy.prefer_gpu()\n",
    "nlp = spacy.blank('en')  \n",
    "print(\"Created blank 'en' model\")\n",
    "\n",
    "# create the built-in pipeline components and add them to the pipeline\n",
    "if 'ner' not in nlp.pipe_names:\n",
    "    ner = nlp.add_pipe(\"ner\", last=True)\n",
    "else:\n",
    "    ner = nlp.get_pipe('ner')\n",
    "    \n",
    "# Add labels\n",
    "for ent_type in ent_labels:\n",
    "    ner.add_label(ent_type)\n",
    "print(\"Entities added to new 'ner'.\")\n",
    "\n",
    "# Disable all pipes other than 'ner' during training\n",
    "other_pipes = [pipe for pipe in nlp.pipe_names if pipe != 'ner']\n",
    "\n",
    "# only train NER pipe\n",
    "with nlp.disable_pipes(*other_pipes):  \n",
    "    optimizer = nlp.begin_training()\n",
    "    train_loss = []\n",
    "    idx_done = 0\n",
    "    for itn in range(iterations):\n",
    "        print(\"Starting iteration \" + str(itn))\n",
    "        \n",
    "        # Iteration level metrics\n",
    "        losses = {}\n",
    "        misalligned_count = 0\n",
    "        \n",
    "        # Shuffle training data\n",
    "        random.shuffle(spacy_training_data)\n",
    "\n",
    "        #batches = minibatch(spacy_training_data, size=compounding(4., 32., 1.001))\n",
    "        batches = minibatch(spacy_training_data, size=batch_size)\n",
    "\n",
    "        batch_no = 0\n",
    "        for batch in batches:\n",
    "            print(\"Starting batch \" + str(batch_no))\n",
    "            for text, annotations in tqdm.tqdm(batch):\n",
    "                doc = nlp.make_doc(text)\n",
    "                example = Example.from_dict(doc, annotations)\n",
    "                # Update the model weights\n",
    "                losses = nlp.update([example], drop=0.35, sgd=optimizer)\n",
    "                idx_done+=1\n",
    "                \n",
    "            # Documenting the loss\n",
    "            train_loss.append(losses.get('ner'))\n",
    "            print(f'losses (batch {itn}): {losses}')\n",
    "            batch_no+=1\n",
    "\n",
    "            # !CHECKPOINT!\n",
    "            # Save our trained model into a new directory\n",
    "            save_fp = model_save_path + \"/save_model/\"\n",
    "            if not os.path.isdir(save_fp):\n",
    "                os.makedirs(save_fp)\n",
    "            else:\n",
    "                shutil.rmtree(save_fp)\n",
    "                os.makedirs(save_fp)\n",
    "            now = datetime.now()\n",
    "            fn = \"course_nlp___idx_{}__{}\".format(str(idx_done), str(now.strftime(\"%Y_%m_%d__%I_%M_%S_%p\")))\n",
    "            nlp.to_disk(save_fp + fn)\n",
    "            \n",
    "            print(\"Checkpoint saved: \", str(save_fp + fn))\n",
    "        \n",
    "    # Visualizing the loss\n",
    "    plt.figure(figsize=(10,6))\n",
    "    plt.plot([*range(len(train_loss))], train_loss, color = 'magenta')\n",
    "    plt.title('Loss at every iteration')\n",
    "    plt.xlabel('Batch Number')\n",
    "    plt.ylabel('Loss')\n",
    "    plt.show()\n",
    "\n",
    "print(\"Training complete. Time (mins): \", (time.time() - st)/60)"
   ]
  },
  {
   "cell_type": "markdown",
   "metadata": {},
   "source": [
    "### Resuming Training!"
   ]
  },
  {
   "cell_type": "code",
   "execution_count": 122,
   "metadata": {},
   "outputs": [],
   "source": [
    "# SET\n",
    "\n",
    "\n",
    "SET_TRAIN_SIZE = 1000000\n",
    "SET_BATCH_SIZE = 100000"
   ]
  },
  {
   "cell_type": "code",
   "execution_count": 123,
   "metadata": {},
   "outputs": [],
   "source": [
    "# :: settings ::\n",
    "\n",
    "last_index, last_save_model_fp = get_last_model_fp()\n",
    "\n",
    "# id done till now, need to resume from ??\n",
    "idx_done_tillnow = int(last_index)\n",
    "train_begin, train_end =  idx_done_tillnow, idx_done_tillnow + SET_TRAIN_SIZE + 1\n",
    "\n",
    "# training data\n",
    "spacy_training_data = train_data[train_begin: train_end]\n",
    "\n",
    "# creating batches of training data\n",
    "batch_size = SET_BATCH_SIZE\n",
    "\n",
    "# Go through the training data N times\n",
    "iterations = 1\n",
    "\n",
    "# Save output nlp model\n",
    "model_save_path = ml_dir + '/models/spacy/courseNER'\n",
    "\n",
    "# entity labels\n",
    "ent_labels = {'COURSE_ID', 'COURSE_NAME', 'COURSE_DEPT'}"
   ]
  },
  {
   "cell_type": "code",
   "execution_count": 124,
   "metadata": {},
   "outputs": [],
   "source": [
    "# ************************************************************************\n",
    "# *********     RESUME TRAINING!\n",
    "# *********     \n",
    "# ************************************************************************\n",
    "\n",
    "st = time.time()\n",
    "\n",
    "# load last save nlp model\n",
    "spacy.prefer_gpu()\n",
    "nlp = spacy.load(last_save_model_fp)\n",
    "ner = nlp.get_pipe('ner')\n",
    "print(\"Loaded last saved model from \", last_save_model_fp)\n",
    "\n",
    "# Disable all pipes other than 'ner' during training\n",
    "other_pipes = [pipe for pipe in nlp.pipe_names if pipe != 'ner']\n",
    "\n",
    "# only train NER pipe\n",
    "with nlp.disable_pipes(*other_pipes):\n",
    "    train_loss = []\n",
    "    idx_done = idx_done_tillnow\n",
    "    for itn in range(iterations):\n",
    "        print(\"Starting iteration \" + str(itn))\n",
    "        \n",
    "        # Iteration level metrics\n",
    "        losses = {}\n",
    "        misalligned_count = 0\n",
    "        \n",
    "        # Shuffle training data\n",
    "        random.shuffle(spacy_training_data)\n",
    "\n",
    "        #batches = minibatch(spacy_training_data, size=compounding(4., 32., 1.001))\n",
    "        batches = minibatch(spacy_training_data, size=batch_size)\n",
    "\n",
    "        batch_no = 0\n",
    "        for batch in batches:\n",
    "            print(\"Starting batch \" + str(batch_no))\n",
    "            for text, annotations in tqdm.tqdm(batch):\n",
    "                # create Example\n",
    "                doc = nlp.make_doc(text)\n",
    "                example = Example.from_dict(doc, annotations)\n",
    "                # Update the model\n",
    "                nlp.update([example], sgd=optimizer, drop=0.35, losses=losses)\n",
    "                # print('Losses', losses)\n",
    "                idx_done+=1\n",
    "          \n",
    "            # Documenting the loss\n",
    "            train_loss.append(losses.get('ner'))\n",
    "            print(f'losses (batch {itn}): {losses}')\n",
    "            batch_no+=1\n",
    "\n",
    "            # CHECKPOINT:\n",
    "            # Save our trained model into a new directory\n",
    "            save_fp = model_save_path + \"/save_model/\"\n",
    "            if not os.path.isdir(save_fp):\n",
    "                os.makedirs(save_fp)\n",
    "            else:\n",
    "                shutil.rmtree(save_fp)\n",
    "                os.makedirs(save_fp)\n",
    "            now = datetime.now()\n",
    "            fn = \"course_nlp___idx_{}__{}\".format(str(idx_done), str(now.strftime(\"%Y_%m_%d__%I_%M_%S_%p\")))\n",
    "            nlp.to_disk(save_fp + fn)\n",
    "            print(\"Checkpoint saved: \", str(save_fp + fn))\n",
    "        \n",
    "    # Visualizing the loss\n",
    "    plt.figure(figsize=(10,6))\n",
    "    plt.plot([*range(len(train_loss))], train_loss, color = 'magenta')\n",
    "    plt.title('Loss at every iteration')\n",
    "    plt.xlabel('Batch Number')\n",
    "    plt.ylabel('Loss')\n",
    "    plt.show()\n",
    "\n",
    "print(\"Training complete. Time (mins): \", (time.time() - st)/60)"
   ]
  },
  {
   "cell_type": "markdown",
   "metadata": {},
   "source": [
    "---"
   ]
  },
  {
   "cell_type": "markdown",
   "metadata": {},
   "source": [
    "### Approach 2\n",
    "\n",
    "- Using Spacy Version 3.X model training procedure"
   ]
  },
  {
   "cell_type": "code",
   "execution_count": 125,
   "metadata": {},
   "outputs": [],
   "source": [
    "# l=set()\n",
    "# # Add labels\n",
    "# for _, annotations in train_data:\n",
    "#      for ent in annotations.get('entities'):\n",
    "#         l.add(ent[2])\n",
    "\n",
    "# # Step 3:\n",
    "# # Save training data in Spacy readable format DocBin\n",
    "# # error fix: https://github.com/explosion/spaCy/discussions/10255\n",
    "\n",
    "# # will make 51 \"train_{idx}.spacy\" DocBin files\n",
    "# chunk_size = 100000  \n",
    "# # saves failed attempts\n",
    "# c, failed, empty = 0, [], []\n",
    "# for idx in range(0, len(train_data), chunk_size):\n",
    "#     training_lst = train_data[idx: idx + chunk_size]\n",
    "#     db = DocBin()\n",
    "#     for text, annot in tqdm.tqdm(training_lst): # data in previous format\n",
    "#         try:\n",
    "#             # create doc object from text\n",
    "#             doc = nlp.make_doc(text)\n",
    "#             ents = []\n",
    "#             for start, end, label in annot[\"entities\"]:\n",
    "#                 span = doc.char_span(start, end, label=label, alignment_mode=\"contract\")\n",
    "#                 if span is None:\n",
    "#                     empty.append((c, text, annot))\n",
    "#                 else:\n",
    "#                     ents.append(span)\n",
    "#             doc.ents = ents # label the text with the ents\n",
    "#             db.add(doc)\n",
    "#         except Exception as e:\n",
    "#             failed.append((c, text, annot))\n",
    "#         c+=1\n",
    "\n",
    "#     # save the docbin object\n",
    "#     db.to_disk(os.path.join(os.path.join(os.path.join(ml_dir, \"data\"), \"train_ner\"), \"train_{}.spacy\".format(idx)))\n",
    "\n",
    "# print(\"Number of total empty spans found:\", len(empty))\n",
    "# print(\"Number of total failed attempts: \", len(failed))"
   ]
  },
  {
   "cell_type": "code",
   "execution_count": 126,
   "metadata": {},
   "outputs": [],
   "source": [
    "# Step 4: \n",
    "# download config file from: https://spacy.io/usage/training#quickstart \n",
    "# and store it in \"../data/\""
   ]
  },
  {
   "cell_type": "code",
   "execution_count": 127,
   "metadata": {},
   "outputs": [],
   "source": [
    "# # Step 5:\n",
    "# # Complete the cofig file using original nlp file\n",
    "\n",
    "# !python -m spacy init fill-config ../data/base_config.cfg ../data/config.cfg"
   ]
  },
  {
   "cell_type": "code",
   "execution_count": 128,
   "metadata": {},
   "outputs": [],
   "source": [
    "# # Step 6:\n",
    "# # Train model\n",
    "\n",
    "# st = time.time()\n",
    "# !python -m spacy train ../data/config.cfg --output ../models/spacy/customNER2 --paths.train ../data/train_ner --paths.dev ../data/train_ner --verbose\n",
    "# print(\"Total time taken (mins): \", (time.time()-st)/60)"
   ]
  },
  {
   "cell_type": "markdown",
   "metadata": {},
   "source": [
    "----"
   ]
  },
  {
   "cell_type": "markdown",
   "metadata": {},
   "source": [
    "# 7. Model Testing"
   ]
  },
  {
   "cell_type": "code",
   "execution_count": 10,
   "metadata": {},
   "outputs": [],
   "source": [
    "def extract_ents(course_nlp, query, visualize = False):\n",
    "    \n",
    "    # preprocessing for query\n",
    "    query = str(query).strip()\n",
    "    query = ftfy.fix_text(query)\n",
    "    query = re.sub(r\"([\\s\\n\\t\\r]+)\", \" \", query).strip()\n",
    "    query = re.sub(r\"[\\$|\\#\\@\\*\\%]+\\d+[\\$|\\#\\@\\*\\%]+\", \" \", query)\n",
    "    query = re.sub(r\"[\\/,\\@,\\#,\\\\,\\{,\\},\\(,\\),\\[,\\],\\$,\\%,\\^,\\&,\\*,\\<,\\>]\", \" \", query)\n",
    "    query = re.sub(r\"[\\,,\\;,\\:,\\-]\", \" \", query)\n",
    "    query = re.sub(r\"[\\!,\\?,\\.]\", \" \", query)\n",
    "    query = str(query).strip().lower()\n",
    "    \n",
    "    doc = course_nlp(query)    \n",
    "    extracted_entities = []\n",
    "    for ent in doc.ents:\n",
    "        extracted_entities.append((ent.text, ent.start_char, ent.end_char, ent.label_))\n",
    "    # if visualize\n",
    "    if visualize == True:\n",
    "        colors = {\"COURSE_ID\": \"linear-gradient(90deg, #aa9cfc, #fc9ce7)\",\n",
    "                  \"COURSE_NAME\": \"linear-gradient(90deg, #85C1E9, #85C1E8)\",\n",
    "                  \"COURSE_DEPT\": \"linear-gradient(90deg, #85C1F9, #85C1F9)\"}\n",
    "        options = {\"ents\": [\"COURSE_ID\", \"COURSE_NAME\", \"COURSE_DEPT\"], \"colors\": colors}\n",
    "        html = displacy.render(doc, style = 'ent', options = options)\n",
    "    return extracted_entities"
   ]
  },
  {
   "cell_type": "code",
   "execution_count": 83,
   "metadata": {},
   "outputs": [],
   "source": [
    "# Get the latest trained model\n",
    "\n",
    "spacy_model = '/Volumes/Local Drive/StudyBuff/GITHUB/StudyBuff/mlEngine/models/spacy/trained_ner_model_v1.0'\n",
    "course_nlp = spacy.load(spacy_model)"
   ]
  },
  {
   "cell_type": "code",
   "execution_count": 84,
   "metadata": {},
   "outputs": [
    {
     "data": {
      "text/html": [
       "<span class=\"tex2jax_ignore\"><div class=\"entities\" style=\"line-height: 2.5; direction: ltr\">courses like \n",
       "<mark class=\"entity\" style=\"background: linear-gradient(90deg, #aa9cfc, #fc9ce7); padding: 0.45em 0.6em; margin: 0 0.25em; line-height: 1; border-radius: 0.35em;\">\n",
       "    acct 3320\n",
       "    <span style=\"font-size: 0.8em; font-weight: bold; line-height: 1; border-radius: 0.35em; vertical-align: middle; margin-left: 0.5rem\">COURSE_ID</span>\n",
       "</mark>\n",
       "</div></span>"
      ],
      "text/plain": [
       "<IPython.core.display.HTML object>"
      ]
     },
     "metadata": {},
     "output_type": "display_data"
    },
    {
     "data": {
      "text/plain": [
       "[('acct 3320', 13, 22, 'COURSE_ID')]"
      ]
     },
     "execution_count": 84,
     "metadata": {},
     "output_type": "execute_result"
    }
   ],
   "source": [
    "query = \"courses like ACCT 3320\"\n",
    "\n",
    "extract_ents(course_nlp, query.strip().lower(), visualize = True)"
   ]
  },
  {
   "cell_type": "code",
   "execution_count": 13,
   "metadata": {},
   "outputs": [
    {
     "data": {
      "text/html": [
       "<span class=\"tex2jax_ignore\"><div class=\"entities\" style=\"line-height: 2.5; direction: ltr\">similar courses to \n",
       "<mark class=\"entity\" style=\"background: linear-gradient(90deg, #85C1E9, #85C1E8); padding: 0.45em 0.6em; margin: 0 0.25em; line-height: 1; border-radius: 0.35em;\">\n",
       "    big data architecture\n",
       "    <span style=\"font-size: 0.8em; font-weight: bold; line-height: 1; border-radius: 0.35em; vertical-align: middle; margin-left: 0.5rem\">COURSE_NAME</span>\n",
       "</mark>\n",
       "??</div></span>"
      ],
      "text/plain": [
       "<IPython.core.display.HTML object>"
      ]
     },
     "metadata": {},
     "output_type": "display_data"
    },
    {
     "data": {
      "text/plain": [
       "[('big data architecture', 19, 40, 'COURSE_NAME')]"
      ]
     },
     "execution_count": 13,
     "metadata": {},
     "output_type": "execute_result"
    }
   ],
   "source": [
    "query = \"similar courses to Big Data Architecture??\"\n",
    "\n",
    "extract_ents(course_nlp, query.strip().lower(), visualize = True)"
   ]
  },
  {
   "cell_type": "markdown",
   "metadata": {},
   "source": [
    "---"
   ]
  },
  {
   "cell_type": "markdown",
   "metadata": {},
   "source": [
    "# 8. Deployment"
   ]
  },
  {
   "cell_type": "code",
   "execution_count": 58,
   "metadata": {},
   "outputs": [
    {
     "data": {
      "text/plain": [
       "[('machine learning', 23, 39, 'COURSE_NAME')]"
      ]
     },
     "execution_count": 58,
     "metadata": {},
     "output_type": "execute_result"
    }
   ],
   "source": [
    "# simple queries work like charm!\n",
    "ner_model.run(\"recommend courses like machine learning\")"
   ]
  },
  {
   "cell_type": "code",
   "execution_count": 59,
   "metadata": {},
   "outputs": [
    {
     "data": {
      "text/plain": [
       "[('applied psychology', 32, 50, 'COURSE_NAME')]"
      ]
     },
     "execution_count": 59,
     "metadata": {},
     "output_type": "execute_result"
    }
   ],
   "source": [
    "# covers all courses\n",
    "ner_model.run(\"what are the courses similar to Applied Psychology!!\")"
   ]
  },
  {
   "cell_type": "code",
   "execution_count": 60,
   "metadata": {},
   "outputs": [
    {
     "data": {
      "text/plain": [
       "[('big data architec', 48, 65, 'COURSE_NAME')]"
      ]
     },
     "execution_count": 60,
     "metadata": {},
     "output_type": "execute_result"
    }
   ],
   "source": [
    "# ignores spelling mistakes!\n",
    "ner_model.run(\"Hey! Provide me a list of coursework related to Big Data Architec??\")"
   ]
  },
  {
   "cell_type": "code",
   "execution_count": 74,
   "metadata": {},
   "outputs": [
    {
     "data": {
      "text/plain": [
       "[('textual analysis in business', 20, 48, 'COURSE_NAME')]"
      ]
     },
     "execution_count": 74,
     "metadata": {},
     "output_type": "execute_result"
    }
   ],
   "source": [
    "# ignores noise!\n",
    "ner_model.run(\"Okay, recommend for Textual analysis in business, what are some good choices?\")"
   ]
  },
  {
   "cell_type": "code",
   "execution_count": null,
   "metadata": {},
   "outputs": [],
   "source": [
    "Feminist Methodology\t"
   ]
  },
  {
   "cell_type": "code",
   "execution_count": 80,
   "metadata": {},
   "outputs": [
    {
     "data": {
      "text/plain": [
       "[(\"department of women's and gender studies\", 16, 56, 'COURSE_DEPT')]"
      ]
     },
     "execution_count": 80,
     "metadata": {},
     "output_type": "execute_result"
    }
   ],
   "source": [
    "# ignores noise!\n",
    "ner_model.run(\"coursework from Department of Women's and Gender Studies?\")"
   ]
  },
  {
   "cell_type": "code",
   "execution_count": 81,
   "metadata": {},
   "outputs": [
    {
     "data": {
      "text/plain": [
       "[('wgst 6190', 15, 24, 'COURSE_ID')]"
      ]
     },
     "execution_count": 81,
     "metadata": {},
     "output_type": "execute_result"
    }
   ],
   "source": [
    "\"\"\"\n",
    "WGST 6190\tFeminist Methodology\tWGST\tDepartment of Women's and Gender Studies\n",
    "\"\"\"\n",
    "\n",
    "# covers course IDs as well!\n",
    "ner_model.run(\"coursework for WGST 6190\")"
   ]
  },
  {
   "cell_type": "markdown",
   "metadata": {},
   "source": [
    "----\n",
    "\n",
    "X-X\n",
    "\n",
    "----"
   ]
  }
 ],
 "metadata": {
  "kernelspec": {
   "display_name": "Python_3.8",
   "language": "python",
   "name": "python_3.8"
  },
  "language_info": {
   "codemirror_mode": {
    "name": "ipython",
    "version": 3
   },
   "file_extension": ".py",
   "mimetype": "text/x-python",
   "name": "python",
   "nbconvert_exporter": "python",
   "pygments_lexer": "ipython3",
   "version": "3.8.0"
  }
 },
 "nbformat": 4,
 "nbformat_minor": 5
}
