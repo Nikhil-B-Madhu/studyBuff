{
 "cells": [
  {
   "cell_type": "markdown",
   "metadata": {},
   "source": [
    "# Building a customized NER for Course Recommender\n",
    "\n",
    "\n",
    "`Description`\n",
    "\n",
    "NER stands for Named Entity Recognition. It is a subtask of Natural Language Processing (NLP) that involves identifying and extracting named entities from unstructured text. Named entities are specific pieces of information that are mentioned in the text and refer to real-world objects such as people, places, organizations, and dates.\n",
    "\n",
    "The goal of NER is to automatically identify and classify these named entities in a given text. This can be useful in many applications, such as information extraction, question answering, and sentiment analysis. NER systems typically use machine learning algorithms, such as Conditional Random Fields (CRFs) or Recurrent Neural Networks (RNNs), to automatically identify and label named entities in text.\n",
    "\n",
    "In this notebook, we collect all the training data, prepare it for a NER model and train the model. The final output of this notebook would be a trained custom NER model that would extract Course Name related entities such as abbreviation, full-name etc.\n",
    "\n",
    "E.g.\n",
    "\n",
    "`Input Q`: \"*Im looking for all the items similar to applied data sci, are there any?*\"\n",
    "\n",
    "`NER Model Output`: \"applied data sci\"\n",
    "\n",
    "This output would be used to search for a matching index in ElasticSearch DB, and would return a UUID mapped to \"Applied Data Science\" course."
   ]
  },
  {
   "cell_type": "markdown",
   "metadata": {},
   "source": [
    "---\n",
    "Contents:\n",
    "\n",
    "---"
   ]
  },
  {
   "cell_type": "markdown",
   "metadata": {},
   "source": [
    "# Citations"
   ]
  },
  {
   "cell_type": "markdown",
   "metadata": {},
   "source": [
    "Used for generating training data:\n",
    "- Alexa API: https://developer.amazon.com/en-US/docs/alexa/alexa-smart-properties/alexa-for-residential-endpoint-api.html\n",
    "- ChatGPT Warpper: https://github.com/acheong08/ChatGPT"
   ]
  },
  {
   "cell_type": "markdown",
   "metadata": {},
   "source": [
    "# Imports"
   ]
  },
  {
   "cell_type": "code",
   "execution_count": 2,
   "metadata": {},
   "outputs": [
    {
     "name": "stdout",
     "output_type": "stream",
     "text": [
      "NLTK loaded.\n",
      "Spacy loaded.\n",
      "PyTorch loaded.\n"
     ]
    }
   ],
   "source": [
    "## Imports\n",
    "'''Python Version 3.8.0'''\n",
    "\n",
    "# Standard libs\n",
    "import os\n",
    "import sys\n",
    "import json\n",
    "import warnings\n",
    "import yaml\n",
    "import re\n",
    "import io\n",
    "from io import StringIO\n",
    "import inspect\n",
    "import shutil\n",
    "import random\n",
    "import ast\n",
    "import string\n",
    "import time\n",
    "import pickle\n",
    "import glob\n",
    "import traceback\n",
    "import multiprocessing\n",
    "import requests\n",
    "import logging\n",
    "from ast import literal_eval\n",
    "import math\n",
    "import pytz\n",
    "from itertools import chain\n",
    "from string import Template\n",
    "from datetime import datetime, timedelta\n",
    "from dateutil import parser\n",
    "import base64\n",
    "from collections import defaultdict, Counter, OrderedDict\n",
    "from contextlib import contextmanager\n",
    "import unicodedata\n",
    "from functools import reduce\n",
    "import itertools\n",
    "import tempfile\n",
    "from typing import Any, Dict, List, Callable, Optional, Tuple, NamedTuple, Union\n",
    "from functools import wraps\n",
    "\n",
    "# Required pkgs\n",
    "import numpy as np\n",
    "from numpy import array, argmax\n",
    "import pandas as pd\n",
    "import ntpath\n",
    "import tqdm\n",
    "\n",
    "# General text correction - fit text for you (ftfy) and others\n",
    "import ftfy\n",
    "from fuzzywuzzy import fuzz\n",
    "from spellchecker import SpellChecker\n",
    "\n",
    "# scikit-learn\n",
    "from sklearn.utils import shuffle\n",
    "from sklearn import preprocessing\n",
    "from sklearn.preprocessing import StandardScaler, LabelEncoder, OneHotEncoder\n",
    "from sklearn.feature_extraction.text import CountVectorizer, TfidfVectorizer\n",
    "\n",
    "# scipy\n",
    "from scipy import spatial, sparse\n",
    "\n",
    "# NLTK\n",
    "import nltk\n",
    "#nltk_model_data_path = \"/someppath/\"\n",
    "#nltk.data.path.append(nltk_model_data_path)\n",
    "from nltk import FreqDist, tokenize, sent_tokenize, word_tokenize, pos_tag\n",
    "from nltk.corpus import stopwords, PlaintextCorpusReader\n",
    "from nltk.tokenize import RegexpTokenizer\n",
    "from nltk.stem import WordNetLemmatizer\n",
    "from nltk.stem.lancaster import LancasterStemmer\n",
    "from nltk.stem.porter import *\n",
    "from nltk.translate.bleu_score import sentence_bleu\n",
    "print(\"NLTK loaded.\")\n",
    "\n",
    "# Spacy\n",
    "import spacy\n",
    "from spacy import displacy\n",
    "from spacy.matcher import PhraseMatcher, Matcher\n",
    "print(\"Spacy loaded.\")\n",
    "\n",
    "# Pytorch\n",
    "import torch\n",
    "from torch import optim, nn\n",
    "import torch.nn.functional as Functional\n",
    "from torch.utils.data import Dataset, DataLoader\n",
    "import transformers\n",
    "from transformers import AutoTokenizer\n",
    "from transformers import AutoModelWithLMHead\n",
    "from transformers import pipeline\n",
    "from transformers import AutoModel\n",
    "print(\"PyTorch loaded.\")\n",
    "\n",
    "# Plots\n",
    "import matplotlib.pyplot as plt\n",
    "import seaborn as sns\n",
    "import plotly.express as px\n",
    "import plotly.graph_objects as go\n",
    "from plotly import offline\n",
    "%matplotlib inline\n",
    "\n",
    "# Theme settings\n",
    "pd.set_option(\"display.max_columns\", 80)\n",
    "sns.set_context('talk')\n",
    "sns.set(rc={'figure.figsize':(15,10)})\n",
    "sns.set_style(\"darkgrid\")\n",
    "warnings.filterwarnings('ignore')"
   ]
  },
  {
   "cell_type": "markdown",
   "metadata": {},
   "source": [
    "# Motivation"
   ]
  },
  {
   "cell_type": "markdown",
   "metadata": {},
   "source": [
    "Nltk, Spacy, BERTopic are some of the lanugage model classifier used to recognize entities in a given text. \n",
    "\n",
    "These entities could be general in nature such as location, phone number, company name which are easily detectable (using Part's of speech tagging and using a dependency parser on it) but for recongizing custom entitites such as finanical ones like `529 Account`, etc we need to train our own NER model, which identifies these keywords used.\n",
    "\n",
    "-\n",
    "\n",
    "<ins>Here's the complete pipeline for collecting `Dataset`:</ins>\n",
    "\n",
    " 1. Generate Seed Questions. These questions will serve as a primary phrase for the Search Engine.\n",
    "\n",
    "\n",
    " 2. Collect atleast 5 Seed Questions. These are the phrases our Search Engine can respond to. \n",
    "\n",
    "\n",
    " 3. Generate atleast 80 Utterance Templates for each Seed Question using a course-name placeholder `<COURSE_NAME>`. We will fill this placeholder with all the course-names, course-ids and abbreviations later. The dimension of this would be: $5 \\times 80 = 400 \\space records$\n",
    "\n",
    "\n",
    " 4. Collect Entities (Course Names, Course IDs, abbreviations, etc). We have a total of $6612 \\space courses$\n",
    "\n",
    "\n",
    " 5. Fill each SeedQ-Utterance template with all the courses. The dimension of this would come out to be: $5 \\times 80 \\times 6612 = 2644800 \\space records$\n",
    "\n",
    "\n",
    " 6. The total number of utterances we would have will be $26,44,800$ training datapoints, representing each course.\n",
    "\n",
    "\n",
    " 7. Annotate all the datapoints in one of the annotation schematas, viz. *BIL, BILOU, BILO.*\n",
    "\n",
    "\n",
    " 8. Train a NER model (CRF, HMarkowM, etc.)\n",
    " \n",
    " \n",
    " 9. Test the model."
   ]
  },
  {
   "cell_type": "markdown",
   "metadata": {
    "jp-MarkdownHeadingCollapsed": true,
    "tags": []
   },
   "source": [
    "# Directory Setup"
   ]
  },
  {
   "cell_type": "code",
   "execution_count": 3,
   "metadata": {},
   "outputs": [],
   "source": [
    "root_dir = os.path.abspath(\"../../\")\n",
    "data_dir = os.path.join(root_dir, \"data\")\n",
    "ml_dir = os.path.join(root_dir, \"mlEngine\")\n",
    "models_dir = os.path.join(ml_dir, \"models\")\n",
    "output_dir = os.path.join(ml_dir, \"output\")\n",
    "\n",
    "nlp_resources_fp = os.path.join(models_dir, \"resources\")\n",
    "spacy_model_data_path = os.path.join(os.path.join(os.path.join(os.path.join(models_dir, \"spacy\"), \"en_core_web_lg-3.5.0\"), \"en_core_web_lg\"), \"en_core_web_lg-3.5.0\")\n",
    "sbert_model_fp = os.path.join(os.path.join(models_dir, \"sbert\"), \"all-distilroberta-v1\")\n",
    "\n",
    "# load spacy\n",
    "nlp = spacy.load(spacy_model_data_path)\n",
    "\n",
    "# print(os.path.join(os.path.dirname(__file__), '..'))\n",
    "# print(os.path.dirname(os.path.realpath(__file__)))\n",
    "# print(os.path.abspath(os.path.dirname(__file__)))"
   ]
  },
  {
   "cell_type": "markdown",
   "metadata": {},
   "source": [
    "# Dataset\n",
    "\n",
    "\n",
    "`Steps:`\n",
    "\n",
    "1. Generate Seed Questions\n",
    "2. Generate atleast 80 Utterance Templates for each Seed Question using a course-name placeholder `<COURSE_NAME>`.\n",
    "\n",
    "\n",
    "First, we need to generate some Template Seed Questions. These will serve as a placeholder for generating real seed questions and corresponding utterances later on.\n",
    "\n",
    "- We decide different types of Seed Questions, and accordingly, different types of Utterances for templates.\n",
    "- Using public version of ChatGPT (GPT3.5, Jan 2023 Version) to generate this data\n",
    "- Shoutout to `acheong08` and his wrapper for chatGPT public API (https://github.com/acheong08/ChatGPT)\n",
    "\n",
    "`Seed Question` - Primary hypothetical question that is a generalized version that represent types of questions asked by a user.\n",
    "\n",
    "`Utterance` - Secondary questions that are usually gathered from user-base history and represent actual questions asked by users over time."
   ]
  },
  {
   "cell_type": "markdown",
   "metadata": {},
   "source": [
    "### Annotation Schemata\n",
    "\n",
    "##### BIO scheme \n",
    "\n",
    "- B - Beginning, \n",
    "- I - Inside\n",
    "- O - Outside\n",
    "\n",
    "E.g.\n",
    "        \n",
    "        Text = \"I read about 529, and I wish to invest in a 529 Savings Account for my kids\"\n",
    "        Here entities are: '529',  '529 Savings Account'\n",
    "        Tagging output:\n",
    "            [ O O O B-529 O O O O O O O B-529 I-Savings I-Account O O O ]\n",
    "\n",
    "\n",
    "\n",
    "##### BILOU scheme \n",
    "\n",
    "- B is the Beginning, i.e. first token of a multitoken entity, \n",
    "- I stands for Inside, i.e. is the token other than the first one in a multitoken entity, \n",
    "- L stands for last, the last token in a multitoken entity, \n",
    "- O means outside represents non-entity tokens, \n",
    "- U means unit, a unit token entity (if present)\n",
    "\n",
    "\n",
    "E.g.\n",
    "\n",
    "     Text = \"I read about 529, and I wish to invest in a 529 Savings Account for my kids\"\n",
    "     Here entities are: '529',  '529 Savings Account'\n",
    "     Tagging output:\n",
    "           [ O O O U-529 O O O O O O O B-529 I-Savings L-Account O O O ]\n",
    "            \n",
    "\n",
    "BILOU makes more sense, is more robust, and is mostly applied across use-cases generally."
   ]
  },
  {
   "cell_type": "markdown",
   "metadata": {},
   "source": [
    "### Files"
   ]
  },
  {
   "cell_type": "markdown",
   "metadata": {},
   "source": [
    "1. `types_of_seedQ.json`  - Types of Seed Questions stored in a flat file.\n",
    "\n",
    "\n",
    "2. `templates_sq_utterances.json` - Types of Utterance Questions stored in a flat file.\n",
    "\n",
    "\n",
    "3. `entities.yml` - All entities stored in a JSON format.\n",
    "\n",
    "\n",
    "4. `final_utterances.json` - All filled utterances with unique entity in a JSON format.\n",
    "\n",
    "\n",
    "5. `spacy_utterances.pkl` - All filled utterances with unique entity in a SPACY format (list of tuple).\n",
    "\n",
    "\n",
    "6. `train_data.pkl` - Format corrected utterances with unique entity in a SPACY format."
   ]
  },
  {
   "cell_type": "markdown",
   "metadata": {},
   "source": [
    "### Generating Template Data"
   ]
  },
  {
   "cell_type": "code",
   "execution_count": 5,
   "metadata": {},
   "outputs": [],
   "source": [
    "from revChatGPT.V1 import Chatbot"
   ]
  },
  {
   "cell_type": "code",
   "execution_count": 6,
   "metadata": {},
   "outputs": [
    {
     "name": "stdout",
     "output_type": "stream",
     "text": [
      "Sample code for running chat-gpt.\n"
     ]
    }
   ],
   "source": [
    "# SAMPLE CODE\n",
    "\n",
    "\"\"\"\n",
    "from revChatGPT.V1 import Chatbot\n",
    "chatbot = Chatbot(config={\n",
    "  \"email\": \"<YOUR_CHATGPT_EMAIL>\",\n",
    "  \"password\": \"<YOUR_CHATGPT_PASSWORD>\",\n",
    "})\n",
    "prompt = \"how many beaches does portugal have?\"\n",
    "response = {}\n",
    "for data in chatbot.ask(prompt):\n",
    "    response[prompt] = data[\"message\"]\n",
    "print(response)\n",
    "\"\"\"\n",
    "\n",
    "#[output]: {'how many beaches does portugal have?': 'Portugal has a coastline of about 1,794 kilometers\n",
    "#(1,115 miles), and as a result, there are many beaches throughout the country. The exact number \n",
    "#of beaches in Portugal is difficult to determine, but it is estimated that there are more than 1,000 \n",
    "#beaches in the country, ranging from small secluded coves to long stretches of sandy beaches.'}\n",
    "\n",
    "print(\"Sample code for running chat-gpt.\")"
   ]
  },
  {
   "cell_type": "markdown",
   "metadata": {},
   "source": [
    "#### 1. Using chatGPT to generate Seed Questions\n",
    "\n",
    "Executing chatGPT (GPT-3.5) to generate typical Seed Questions which will serves as primary Seed questions templates."
   ]
  },
  {
   "cell_type": "code",
   "execution_count": 7,
   "metadata": {
    "collapsed": true
   },
   "outputs": [
    {
     "name": "stdout",
     "output_type": "stream",
     "text": [
      "{\n",
      "    \"prompt\": \"Generate 70 template Seed Questions for building a University Course Lookup?\",\n",
      "    \"response\": [\n",
      "        \"1. What are the similar courses?\",\n",
      "        \"2. What are the alternative courses?\",\n",
      "        \"3. What are the prerequisite courses?\",\n",
      "        \"4. What are the related courses offered online?\",\n",
      "        \"5. What are the related courses from the same department?\",\n",
      "        \"6. What is the subject area of the course you are interested in?\",\n",
      "        \"7. What is the specific course title or topic you are searching for?\",\n",
      "        \"8. What is the level of the course you are looking for (e.g. introductory, intermediate, advanced)?\",\n",
      "        \"9. What is the focus or emphasis of the course (e.g. theory, practical application, research)?\",\n",
      "        \"10. What is the length of the course (e.g. full semester, mini-term, summer session)?\",\n",
      "        \"11. What is the method of delivery for the course (e.g. in-person, online, hybrid)?\",\n",
      "        \"12. What is the credit value of the course?\",\n",
      "        \"13. What are the prerequisites for the course?\",\n",
      "        \"14. What is the course schedule (e.g. days/times offered)?\",\n",
      "        \"15. What is the course format (e.g. lecture, seminar, lab)?\",\n",
      "        \"16. What is the teaching style of the course (e.g. discussion-based, project-based, lecture-based)?\",\n",
      "        \"17. What is the assessment method for the course (e.g. exams, papers, projects)?\",\n",
      "        \"18. What is the course textbook or reading material?\",\n",
      "        \"19. What are the learning objectives of the course?\",\n",
      "        \"20. What are the expected outcomes of the course?\",\n",
      "        \"21. What is the workload of the course?\",\n",
      "        \"22. What is the attendance policy for the course?\",\n",
      "        \"23. What are the collaboration and group work opportunities in the course?\",\n",
      "        \"24. What are the research and writing requirements of the course?\",\n",
      "        \"25. What are the internship or field work opportunities associated with the course?\",\n",
      "        \"26. What are the career or professional development opportunities associated with the course?\",\n",
      "        \"27. What are the prerequisites for the course?\",\n",
      "        \"28. What are the related courses in the same subject area?\",\n",
      "        \"29. What are the similar courses at the same level or credit value?\",\n",
      "        \"30. What are the related courses from the same instructor or department?\",\n",
      "        \"31. What are the related courses from other departments or schools?\",\n",
      "        \"32. What are the related courses at other universities or colleges?\",\n",
      "        \"33. What are the related courses offered online?\",\n",
      "        \"34. What are the related courses with a similar schedule or format?\",\n",
      "        \"35. What are the related courses with similar learning objectives or outcomes?\",\n",
      "        \"36. What are the related courses with similar assessment methods or workload?\",\n",
      "        \"37. What are the related courses with similar collaboration or research requirements?\",\n",
      "        \"38. What are the related courses with similar internship or career opportunities?\",\n",
      "        \"39. What are the related courses with similar textbook or reading material?\",\n",
      "        \"40. What are the related courses that fulfill the same or similar degree requirements?\",\n",
      "        \"41. What are the related courses that are part of the same or similar program or major?\",\n",
      "        \"42. What are the related courses that are part of the same or similar track or concentration?\",\n",
      "        \"43. What are the related courses that are prerequisites for other courses in the same or similar subject area?\",\n",
      "        \"44. What are the related courses that are recommended by other students or instructors?\",\n",
      "        \"45. What are the related courses that are highly rated by other students or instructors?\",\n",
      "        \"46. What are the related courses that have a similar learning environment or classroom culture?\",\n",
      "        \"47. What are the related courses that are offered in the same or similar semester or academic year?\",\n",
      "        \"48. What are the related courses that have similar or overlapping content areas?\",\n",
      "        \"49. What are the related courses that have been historically popular or well-received by students?\",\n",
      "        \"50. What are the related courses that have been recently updated or revised?\",\n",
      "        \"51. What are the related courses that have recently received funding or other resources?\",\n",
      "        \"52. What are the related courses that have recently been highlighted or promoted by the department or school?\",\n",
      "        \"53. What are the related courses that have been developed or taught by renowned or distinguished faculty members?\",\n",
      "        \"54. What are the learning objectives of the course?\",\n",
      "        \"55. What is the course schedule?\",\n",
      "        \"56. What is the course format (e.g. lecture, seminar, lab)?\",\n",
      "        \"57. What is the workload of the course?\",\n",
      "        \"58. What is the teaching style of the course (e.g. discussion-based, project-based, lecture-based)?\",\n",
      "        \"59. What is the assessment method for the course (e.g. exams, papers, projects)?\",\n",
      "        \"60. What is the course textbook or reading material?\",\n",
      "        \"61. What are the prerequisites for the course?\",\n",
      "        \"62. What are the attendance requirements for the course?\",\n",
      "        \"63. How will the course be graded?\",\n",
      "        \"64. How will the course prepare me for future courses in this subject area or related fields?\",\n",
      "        \"65. Are there any research or internship opportunities associated with the course?\",\n",
      "        \"66. What is the policy for late assignments or missed classes?\",\n",
      "        \"67. How will my progress be tracked throughout the course?\",\n",
      "        \"68. What is the policy for academic honesty or plagiarism in the course?\",\n",
      "        \"69. Are there any group projects or collaborative assignments in the course?\",\n",
      "        \"70. How can I access additional resources or support for the course?\"\n",
      "    ]\n",
      "}\n"
     ]
    }
   ],
   "source": [
    "# from revChatGPT.V1 import Chatbot\n",
    "# chatbot = Chatbot(config={\n",
    "#   \"email\": \"zenbird1965@gmail.com\",\n",
    "#   \"password\": \"Vinita@1992\"\n",
    "# })\n",
    "# prompt = \"Generate 4 template Seed Questions for building a University Course Lookup?\"\n",
    "# response = dict()\n",
    "# response[\"prompt\"] = prompt\n",
    "# for data in chatbot.ask(prompt):\n",
    "#     response[\"response\"] = data[\"message\"].split(\"\\n\")\n",
    "\n",
    "\n",
    "## Save these potential SQs\n",
    "# with open(os.path.join(os.path.join(ml_dir, \"data\"), \"types_of_seedQ.json\"), \"w\") as outfile:\n",
    "#     json.dump(response, outfile, indent=4, sort_keys=False)\n",
    "\n",
    "## Load potential SQs\n",
    "with open(os.path.join(os.path.join(ml_dir, \"data\"), \"types_of_seedQ.json\"), \"r\") as outfile:\n",
    "    all_seedq = json.loads(outfile.read())\n",
    "print(json.dumps(all_seedq, indent=4))"
   ]
  },
  {
   "cell_type": "markdown",
   "metadata": {},
   "source": [
    "- Here are some of the potential templates which a learner could ask on a Course Recommender Engine or a lookup interface\n",
    "\n",
    "\n",
    "- Not all Seed Question templates generated above are 100% precise or exhibit a open-environment engine.\n",
    "\n",
    "\n",
    "- Given the scale of the project, we decided to move with a closed-environment solution interface, with limited Seed Question templates for now.\n",
    "\n",
    "\n",
    "- For the inital first-cut, we chose five template seed questions for our use-case."
   ]
  },
  {
   "cell_type": "code",
   "execution_count": 8,
   "metadata": {},
   "outputs": [],
   "source": [
    "# Based on above, list of final user-defined template seed questions:\n",
    "\n",
    "template_seed_questions = [\n",
    "    \"What are the similar courses?\",\n",
    "    \"What are the alternative courses?\",\n",
    "    \"What are the prerequisite courses?\",\n",
    "    \"What are the related courses offered online?\",\n",
    "    \"What are the related courses from the same department?\"\n",
    "]"
   ]
  },
  {
   "cell_type": "markdown",
   "metadata": {},
   "source": [
    "#### 2. Using chatGPT to generate Utternace Templates\n",
    "\n",
    "Executing chatGPT (GPT-3.5) to generate typical Utterances which will serves as primary Utterance templates. This will take some time ~ 20-45 mins"
   ]
  },
  {
   "cell_type": "code",
   "execution_count": 9,
   "metadata": {},
   "outputs": [
    {
     "name": "stdout",
     "output_type": "stream",
     "text": [
      "Total template utterances found:  400\n"
     ]
    }
   ],
   "source": [
    "# template_mapper = {}\n",
    "# for i, seedq in enumerate(template_seed_questions):\n",
    "#     # chatGPT prompt in formatted text - from domain understanding and previous collaboration with Open.AI team\n",
    "#     prompt = \"\"\"SQ: \\n ### \\n {} \\n ### \\n Generate 80 utterances for the SQ using '<COURSENAME>'\"\"\".format(seedq)\n",
    "#     response = []\n",
    "#     for data in chatbot.ask(prompt):\n",
    "#         response = data[\"message\"]\n",
    "#     utt_list = re.findall(\"\\\\n\\d.(.*)\", response, re.MULTILINE)\n",
    "#     template_mapper[\"template_%s\"%i] = {\n",
    "#         'template_id': i,\n",
    "#         'seedq': seedq,\n",
    "#         'utterances': utt_list}\n",
    "\n",
    "    \n",
    "## Save Template Utterances file:\n",
    "# with open(os.path.join(os.path.join(ml_dir, \"data\"), \"templates_sq_utterances.json\"), \"w\") as outfile:\n",
    "#     json.dump(template_mapper, outfile, indent=4, sort_keys=False)\n",
    "\n",
    "\n",
    "## Load Template Utterances file:\n",
    "with open(os.path.join(os.path.join(ml_dir, \"data\"), \"templates_sq_utterances.json\"), \"r\") as outfile:\n",
    "    template_mapper = json.loads(outfile.read())    \n",
    "print(\"Total template utterances found: \", sum([len(i['utterances']) for i in template_mapper.values()]))"
   ]
  },
  {
   "cell_type": "markdown",
   "metadata": {},
   "source": [
    "#### 3. Using chatGPT to generate Course Acronyms, Abbrevaiations, short-names\n",
    "\n",
    "Executing chatGPT (GPT-3.5) to generate common abbreviations, acronyms for available coursenames."
   ]
  },
  {
   "cell_type": "code",
   "execution_count": 14,
   "metadata": {
    "scrolled": false
   },
   "outputs": [],
   "source": [
    "# st = time.time()\n",
    "# _failed = []\n",
    "# course_acr = []\n",
    "# for i in tqdm.tqdm(range(0, len(courseNames['course_name'].unique()), 10)):\n",
    "#     cns = courseNames['course_name'].unique()[i:i+10]\n",
    "#     # chatGPT prompt in formatted text - from domain understanding and previous collaboration with Open.AI team\n",
    "#     prompt = \"Course_Names: {} \\n\\n Generate Acronyms, abbreviations and short-forms for each in Course_Names and output only the generated terms in a Python List format.\".format(\" \\n\".join(cns))\n",
    "#     course_terms = []\n",
    "#     try:\n",
    "#         for data in chatbot.ask(prompt):\n",
    "#             response = data[\"message\"]\n",
    "#         print(response)\n",
    "#         course_terms = literal_eval(re.findall(r\"courses\\s+\\=\\s+(.*)\", response, re.MULTILINE)[0])\n",
    "#         if isinstance(course_terms, list) and len(course_terms) > 0 and course_terms[0].strip() != \"\":\n",
    "#             course_acr.append(course_terms)\n",
    "#         else:\n",
    "#             raise Exception('Failed to extract!')\n",
    "#     except Exception as e:\n",
    "#         _failed.append(course)\n",
    "#         print('ERROR :: CN: {} :: {}'.format(course, repr(e)))\n",
    "#     #course_acr[course] = course_terms\n",
    "#     time.sleep(1)\n",
    "# print(\"Total time taken mins: \", (time.time() - st)/60.0)"
   ]
  },
  {
   "cell_type": "code",
   "execution_count": 15,
   "metadata": {},
   "outputs": [],
   "source": [
    "# # Save Template Utterances file:\n",
    "# with open(os.path.join(os.path.join(ml_dir, \"data\"), \"templates_sq_utterances.json\"), \"w\") as outfile:\n",
    "#     json.dump(template_mapper, outfile, indent=4, sort_keys=False)\n",
    "\n",
    "\n",
    "# ## Load Template Utterances file:\n",
    "# with open(os.path.join(os.path.join(ml_dir, \"data\"), \"templates_sq_utterances.json\"), \"r\") as outfile:\n",
    "#     template_mapper = json.loads(outfile.read())    \n",
    "# print(\"Total template utterances found: \", sum([len(i['utterances']) for i in template_mapper.values()]))"
   ]
  },
  {
   "cell_type": "markdown",
   "metadata": {},
   "source": [
    "---"
   ]
  },
  {
   "cell_type": "markdown",
   "metadata": {},
   "source": [
    "# Preprocessing\n",
    "\n",
    "Generating actual Utterances:\n",
    "- A. Gather Entities \n",
    "- B. Fill entity information in all utterances (`final_utterances.json`)\n",
    "- C. Convert filled utterances to Spacy format (`spacy_utterances.pkl`)"
   ]
  },
  {
   "cell_type": "markdown",
   "metadata": {},
   "source": [
    "### A. Load Entities"
   ]
  },
  {
   "cell_type": "code",
   "execution_count": 169,
   "metadata": {},
   "outputs": [
    {
     "data": {
      "text/html": [
       "<div>\n",
       "<style scoped>\n",
       "    .dataframe tbody tr th:only-of-type {\n",
       "        vertical-align: middle;\n",
       "    }\n",
       "\n",
       "    .dataframe tbody tr th {\n",
       "        vertical-align: top;\n",
       "    }\n",
       "\n",
       "    .dataframe thead th {\n",
       "        text-align: right;\n",
       "    }\n",
       "</style>\n",
       "<table border=\"1\" class=\"dataframe\">\n",
       "  <thead>\n",
       "    <tr style=\"text-align: right;\">\n",
       "      <th></th>\n",
       "      <th>courses_id</th>\n",
       "      <th>course_name</th>\n",
       "      <th>department_id</th>\n",
       "      <th>department_name</th>\n",
       "    </tr>\n",
       "  </thead>\n",
       "  <tbody>\n",
       "    <tr>\n",
       "      <th>0</th>\n",
       "      <td>ACCT 3220</td>\n",
       "      <td>Corporate Financial Reporting 1</td>\n",
       "      <td>ACCT</td>\n",
       "      <td>Department of Accounting</td>\n",
       "    </tr>\n",
       "    <tr>\n",
       "      <th>1</th>\n",
       "      <td>ACCT 3225</td>\n",
       "      <td>Corporate Financial Reporting</td>\n",
       "      <td>ACCT</td>\n",
       "      <td>Department of Accounting</td>\n",
       "    </tr>\n",
       "    <tr>\n",
       "      <th>2</th>\n",
       "      <td>ACCT 3230</td>\n",
       "      <td>Corporate Financial Reporting 2</td>\n",
       "      <td>ACCT</td>\n",
       "      <td>Department of Accounting</td>\n",
       "    </tr>\n",
       "    <tr>\n",
       "      <th>3</th>\n",
       "      <td>ACCT 3320</td>\n",
       "      <td>Cost Management</td>\n",
       "      <td>ACCT</td>\n",
       "      <td>Department of Accounting</td>\n",
       "    </tr>\n",
       "    <tr>\n",
       "      <th>4</th>\n",
       "      <td>ACCT 3440</td>\n",
       "      <td>Income Taxation of Individuals</td>\n",
       "      <td>ACCT</td>\n",
       "      <td>Department of Accounting</td>\n",
       "    </tr>\n",
       "    <tr>\n",
       "      <th>...</th>\n",
       "      <td>...</td>\n",
       "      <td>...</td>\n",
       "      <td>...</td>\n",
       "      <td>...</td>\n",
       "    </tr>\n",
       "    <tr>\n",
       "      <th>8857</th>\n",
       "      <td>WRTG 5050</td>\n",
       "      <td>Graduate Studies in Writing and Rhetoric</td>\n",
       "      <td>WRTG</td>\n",
       "      <td>Department of Writing and Rhetoric</td>\n",
       "    </tr>\n",
       "    <tr>\n",
       "      <th>8858</th>\n",
       "      <td>WRTG 5840</td>\n",
       "      <td>Independent Study-Writing &amp; Rhetoric</td>\n",
       "      <td>WRTG</td>\n",
       "      <td>Department of Writing and Rhetoric</td>\n",
       "    </tr>\n",
       "    <tr>\n",
       "      <th>8859</th>\n",
       "      <td>YIDD 1010</td>\n",
       "      <td>Beginning Yiddish 1</td>\n",
       "      <td>YIDD</td>\n",
       "      <td>Department of Yiddish Studies</td>\n",
       "    </tr>\n",
       "    <tr>\n",
       "      <th>8860</th>\n",
       "      <td>YIDD 1020</td>\n",
       "      <td>Beginning Yiddish 2</td>\n",
       "      <td>YIDD</td>\n",
       "      <td>Department of Yiddish Studies</td>\n",
       "    </tr>\n",
       "    <tr>\n",
       "      <th>8861</th>\n",
       "      <td>YIDD 2010</td>\n",
       "      <td>Intermediate Yiddish 1</td>\n",
       "      <td>YIDD</td>\n",
       "      <td>Department of Yiddish Studies</td>\n",
       "    </tr>\n",
       "  </tbody>\n",
       "</table>\n",
       "<p>8862 rows × 4 columns</p>\n",
       "</div>"
      ],
      "text/plain": [
       "     courses_id                               course_name department_id  \\\n",
       "0     ACCT 3220           Corporate Financial Reporting 1          ACCT   \n",
       "1     ACCT 3225             Corporate Financial Reporting          ACCT   \n",
       "2     ACCT 3230           Corporate Financial Reporting 2          ACCT   \n",
       "3     ACCT 3320                           Cost Management          ACCT   \n",
       "4     ACCT 3440            Income Taxation of Individuals          ACCT   \n",
       "...         ...                                       ...           ...   \n",
       "8857  WRTG 5050  Graduate Studies in Writing and Rhetoric          WRTG   \n",
       "8858  WRTG 5840      Independent Study-Writing & Rhetoric          WRTG   \n",
       "8859  YIDD 1010                       Beginning Yiddish 1          YIDD   \n",
       "8860  YIDD 1020                       Beginning Yiddish 2          YIDD   \n",
       "8861  YIDD 2010                    Intermediate Yiddish 1          YIDD   \n",
       "\n",
       "                         department_name  \n",
       "0               Department of Accounting  \n",
       "1               Department of Accounting  \n",
       "2               Department of Accounting  \n",
       "3               Department of Accounting  \n",
       "4               Department of Accounting  \n",
       "...                                  ...  \n",
       "8857  Department of Writing and Rhetoric  \n",
       "8858  Department of Writing and Rhetoric  \n",
       "8859       Department of Yiddish Studies  \n",
       "8860       Department of Yiddish Studies  \n",
       "8861       Department of Yiddish Studies  \n",
       "\n",
       "[8862 rows x 4 columns]"
      ]
     },
     "execution_count": 169,
     "metadata": {},
     "output_type": "execute_result"
    }
   ],
   "source": [
    "fn = \"courseNames_2023_02_12.csv\"\n",
    "fn_path = os.path.join(os.path.join(root_dir, \"data\"), fn)\n",
    "\n",
    "courseNames = pd.read_csv(fn_path)\n",
    "courseNames"
   ]
  },
  {
   "cell_type": "code",
   "execution_count": 170,
   "metadata": {},
   "outputs": [
    {
     "name": "stdout",
     "output_type": "stream",
     "text": [
      "Total unique `course ids` to look for:  8849\n",
      "Total unique `course names` to look for:  6612\n",
      "Total unique `department names` to look for:  168\n"
     ]
    }
   ],
   "source": [
    "# list of entities to fill in the Utterance Templates:\n",
    "\n",
    "ent_courseids = []\n",
    "ent_courseids = courseNames['courses_id'].unique().tolist()\n",
    "print(\"Total unique `course ids` to look for: \", len(ent_courseids))\n",
    "\n",
    "ent_coursenames = []\n",
    "ent_coursenames = courseNames['course_name'].unique().tolist() \n",
    "print(\"Total unique `course names` to look for: \", len(ent_coursenames))\n",
    "\n",
    "ent_depts = []\n",
    "ent_depts = courseNames['department_name'].unique().tolist()\n",
    "print(\"Total unique `department names` to look for: \", len(ent_depts))\n",
    "\n",
    "entities = {\n",
    "    'course_ids': ent_courseids,\n",
    "    'course_names': ent_coursenames,\n",
    "    'course_depts': ent_depts\n",
    "}\n",
    "\n",
    "\n",
    "# Storing it to YAML file\n",
    "with open(os.path.join(os.path.join(ml_dir, \"data\"), \"entities.yml\"), 'w') as outfile:\n",
    "    yaml.dump(entities, outfile, default_flow_style=False)"
   ]
  },
  {
   "cell_type": "markdown",
   "metadata": {},
   "source": [
    "### B. Fill entities in Utterance Templates"
   ]
  },
  {
   "cell_type": "code",
   "execution_count": 172,
   "metadata": {},
   "outputs": [
    {
     "name": "stdout",
     "output_type": "stream",
     "text": [
      "Total template utterances found:  400\n",
      ">> Filling Utterances with 'course-id' entitites....\n"
     ]
    },
    {
     "name": "stderr",
     "output_type": "stream",
     "text": [
      "100%|█████████████████████████████████████| 8849/8849 [00:04<00:00, 1791.79it/s]\n"
     ]
    },
    {
     "name": "stdout",
     "output_type": "stream",
     "text": [
      ">> Filling Utterances with 'course-name' entitites....\n"
     ]
    },
    {
     "name": "stderr",
     "output_type": "stream",
     "text": [
      "100%|█████████████████████████████████████| 6612/6612 [00:03<00:00, 1722.70it/s]\n"
     ]
    },
    {
     "name": "stdout",
     "output_type": "stream",
     "text": [
      ">> Filling Utterances with 'course-department' entitites....\n"
     ]
    },
    {
     "name": "stderr",
     "output_type": "stream",
     "text": [
      "100%|███████████████████████████████████████| 168/168 [00:00<00:00, 4195.15it/s]\n"
     ]
    }
   ],
   "source": [
    "# load template utterances to fill-in entities\n",
    "with open(os.path.join(os.path.join(ml_dir, \"data\"), \"templates_sq_utterances.json\"), \"r\") as outfile:\n",
    "    template_mapper = json.loads(outfile.read())    \n",
    "print(\"Total template utterances found: \", sum([len(i['utterances']) for i in template_mapper.values()]))\n",
    "\n",
    "\n",
    "print(\">> Filling Utterances with 'course-id' entitites....\")\n",
    "utt_courseids = []\n",
    "for ent in tqdm.tqdm(entities.get('course_ids')):\n",
    "    for template_id, template_values in template_mapper.items():\n",
    "        if template_id != 'template_4':\n",
    "            # course name utterance templates placeholder: \"<COURSE_NAME>\"\n",
    "            template_utterances = template_values.get(\"utterances\")\n",
    "            utt_courseids += [re.sub('<COURSE_NAME>', ent, utt) for utt in template_utterances]\n",
    "            \n",
    "print(\">> Filling Utterances with 'course-name' entitites....\")\n",
    "utt_coursenames = []\n",
    "for ent in tqdm.tqdm(entities.get('course_names')):\n",
    "    for template_id, template_values in template_mapper.items():\n",
    "        if template_id != 'template_4':\n",
    "            # course name utterance templates placeholder: \"<COURSE_NAME>\"\n",
    "            template_utterances = template_values.get(\"utterances\")\n",
    "            utt_coursenames += [re.sub('<COURSE_NAME>', ent, utt) for utt in template_utterances]\n",
    "\n",
    "print(\">> Filling Utterances with 'course-department' entitites....\")\n",
    "utt_coursedepts = []\n",
    "for dept in tqdm.tqdm(entities.get('course_depts')):\n",
    "    for template_id, template_values in template_mapper.items():\n",
    "        if template_id == 'template_4':\n",
    "            # department_name utterance templates \"<DEPT>\"\n",
    "            template_utterances = template_values.get(\"utterances\")\n",
    "            utt_coursedepts += [re.sub('<DEPT>', dept, utt) for utt in template_utterances]\n",
    "\n",
    "utterances = {\n",
    "    'utt_course_ids': utt_courseids,\n",
    "    'utt_course_names': utt_coursenames,\n",
    "    'utt_course_depts': utt_coursedepts\n",
    "}\n",
    "\n",
    "\n",
    "# Storing final <<filled>> utterances\n",
    "with open(os.path.join(os.path.join(ml_dir, \"data\"), \"final_utterances.json\"), \"w\") as outfile:\n",
    "    json.dump(utterances, outfile, indent=4, sort_keys=False)        "
   ]
  },
  {
   "cell_type": "markdown",
   "metadata": {},
   "source": [
    "### C. Transforming filled utterances into spaCy Format"
   ]
  },
  {
   "cell_type": "code",
   "execution_count": 275,
   "metadata": {},
   "outputs": [
    {
     "name": "stdout",
     "output_type": "stream",
     "text": [
      ">> Adding COURSE_ID to Spacy Matcher Object\n",
      ">> Transforming utterances...\n"
     ]
    },
    {
     "name": "stderr",
     "output_type": "stream",
     "text": [
      "100%|██████████████████████████████| 2831680/2831680 [6:25:47<00:00, 122.33it/s]\n"
     ]
    },
    {
     "name": "stdout",
     "output_type": "stream",
     "text": [
      ">> Adding COURSE_NAME to Spacy Matcher Object\n",
      ">> Transforming utterances...\n"
     ]
    },
    {
     "name": "stderr",
     "output_type": "stream",
     "text": [
      "100%|██████████████████████████████| 2115840/2115840 [12:18:23<00:00, 47.76it/s]\n"
     ]
    },
    {
     "name": "stdout",
     "output_type": "stream",
     "text": [
      ">> Adding COURSE_DEPT to Spacy Matcher Object\n",
      ">> Transforming utterances...\n"
     ]
    },
    {
     "name": "stderr",
     "output_type": "stream",
     "text": [
      "100%|█████████████████████████████████████| 13440/13440 [18:43<00:00, 11.96it/s]\n"
     ]
    },
    {
     "name": "stdout",
     "output_type": "stream",
     "text": [
      "Total Time taken (mins):  1145.3280343174933\n"
     ]
    }
   ],
   "source": [
    "def offsetter(lbl, doc, matchitem):\n",
    "    ''' \n",
    "        Utility function - converts the output of the PhraseMatcher to something usable in training. \n",
    "        Converts word position to string position, because output of PhraseMatcher returns \n",
    "    '''\n",
    "    one = len(str(doc[0:matchitem[1]]))\n",
    "    subdoc = doc[matchitem[1]:matchitem[2]]\n",
    "    two = one + len(str(subdoc))\n",
    "    # ::FIX:: Misaligned by a factor of one character\n",
    "    if one != 0:\n",
    "        one += 1\n",
    "        two += 1\n",
    "    return (one, two, lbl)\n",
    "\n",
    "def transform_utterances(utterances, label, entity_keywords):\n",
    "    ''' \n",
    "        Main function - converts text sentence into entity-text format Spacy can understand. \n",
    "    '''\n",
    "    # Phrase matcher - we use this class from spaCy to locate the text we want to label!\n",
    "    matcher = PhraseMatcher(nlp.vocab)\n",
    "\n",
    "    # Getting all the entities and their entity_label for classification\n",
    "    print(\">> Adding {} to Spacy Matcher Object\".format(label))\n",
    "    for i in entity_keywords:\n",
    "        matcher.add(label, None, nlp(i))\n",
    "\n",
    "    # Getting all the matches\n",
    "    print(\">> Transforming utterances...\")\n",
    "    entity_train = []\n",
    "    for document in tqdm.tqdm(utterances):\n",
    "        nlp_document = nlp(document)\n",
    "        matches = matcher(nlp_document)\n",
    "        # print([match for match in matches])\n",
    "        # As you can see, match returns me: [(2271554079456360229, 0, 1)]\n",
    "        # One match is where one of the tokens in the document matches one of my entity keywords\n",
    "        # (representiiation of label we passed in, word position in document 1, word position 2)\n",
    "        entity_list = [offsetter(label, nlp_document, match) for match in matches]\n",
    "        # This is what one row has to look like, so this is what I return:\n",
    "        # ('what is the price of pool?', {'entities': [(21, 25, 'PrdName')]})\n",
    "        entity_train.append((document, {'entities': entity_list}))\n",
    "\n",
    "    return(entity_train)\n",
    "\n",
    "\n",
    "\n",
    "# ##########################################################################################\n",
    "# #  Transforming utterances into annotation schemata for spaCy PhraseMatcher engine.\n",
    "# ##########################################################################################\n",
    "# st = time.time()\n",
    "# entity_train = []\n",
    "# entity_train += transform_utterances(utterances['utt_course_ids'], label = 'COURSE_ID', \n",
    "#                                      entity_keywords = entities.get('course_ids'))\n",
    "# entity_train += transform_utterances(utterances['utt_course_names'], label = 'COURSE_NAME', \n",
    "#                                      entity_keywords = entities.get('course_names'))\n",
    "# entity_train += transform_utterances(utterances['utt_course_depts'], label = 'COURSE_DEPT', \n",
    "#                                      entity_keywords = entities.get('course_depts'))\n",
    "\n",
    "\n",
    "# ####### save final formatted spacy utterances with enitity meta-data for training a NER model #####\n",
    "# import pickle\n",
    "# with open(os.path.join(os.path.join(ml_dir, \"data\"), \"spacy_utterances\"), \"wb\") as fp:\n",
    "#     pickle.dump(entity_train, fp)\n",
    "# print(\"Total Time taken (mins): \", (time.time() - st)/60)"
   ]
  },
  {
   "cell_type": "markdown",
   "metadata": {},
   "source": [
    "- This conversion takes about 20 hours on Mac M1 2018 model"
   ]
  },
  {
   "cell_type": "markdown",
   "metadata": {},
   "source": [
    "----"
   ]
  },
  {
   "cell_type": "markdown",
   "metadata": {},
   "source": [
    "# Training Data Preparation\n",
    "\n",
    "\n",
    "\n",
    "- All the trainable utterances are stored in `/data/spacy_utterances.pkl`\n",
    "\n",
    "\n",
    "- Final training data would be stored in `/data/train_data.pkl`"
   ]
  },
  {
   "cell_type": "code",
   "execution_count": 19,
   "metadata": {},
   "outputs": [
    {
     "name": "stdout",
     "output_type": "stream",
     "text": [
      "Loaded 4960960 trainable utterances.\n"
     ]
    }
   ],
   "source": [
    "# Step 1: \n",
    "# Load trainable utterances 'list of tuple' format\n",
    "\n",
    "with open(os.path.join(os.path.join(ml_dir, \"data\"), \"spacy_utterances.pkl\"), \"rb\") as fp:\n",
    "    entity_train = pickle.load(fp)\n",
    "print(\"Loaded {} trainable utterances.\".format(len(entity_train)))"
   ]
  },
  {
   "cell_type": "code",
   "execution_count": 23,
   "metadata": {},
   "outputs": [
    {
     "name": "stderr",
     "output_type": "stream",
     "text": [
      "100%|██████████████████████████████| 4960960/4960960 [01:18<00:00, 62918.83it/s]\n"
     ]
    },
    {
     "name": "stdout",
     "output_type": "stream",
     "text": [
      "Final len of trainable records:  4960960\n"
     ]
    }
   ],
   "source": [
    "# Step 2: \n",
    "# Correct the format for Spacy\n",
    "\n",
    "# ::fix::\n",
    "# entity training data has duplicate issues, for e.g. \n",
    "# ('What are some similar courses to Corporate Financial Reporting 1?', \n",
    "# {'entities': [(33, 62, 'COURSE_NAME'), (33, 64, 'COURSE_NAME')]}), this is the fix to correct this\n",
    "# keeping only last occurence.\n",
    "\n",
    "train_data = []\n",
    "for record in tqdm.tqdm(entity_train):\n",
    "    q = record[0]\n",
    "    annot = {\"entities\": [\n",
    "        record[1]['entities'][1] if len(record[1]['entities']) > 1 else record[1]['entities'][0]\n",
    "    ]}\n",
    "    train_data.append((q, annot))\n",
    "\n",
    "final_traindata_fp = os.path.join(os.path.join(ml_dir, \"data\"), \"train_data.pkl\")\n",
    "with open(final_traindata_fp, \"wb\") as fp:\n",
    "    pickle.dump(train_data, fp)\n",
    "print(\"Final len of trainable records: \", len(train_data))"
   ]
  },
  {
   "cell_type": "code",
   "execution_count": 25,
   "metadata": {},
   "outputs": [
    {
     "name": "stdout",
     "output_type": "stream",
     "text": [
      "**************************************************\n",
      "Final Training Data stored in : `/Volumes/Local Drive/StudyBuff/GITHUB/StudyBuff/mlEngine/data/train_data.pkl`\n",
      "**************************************************\n"
     ]
    }
   ],
   "source": [
    "print(\"{}\\nFinal Training Data stored in : `{}`\\n{}\".format(\"*\"*50, final_traindata_fp, \"*\"*50))"
   ]
  },
  {
   "cell_type": "markdown",
   "metadata": {},
   "source": [
    "----"
   ]
  },
  {
   "cell_type": "markdown",
   "metadata": {},
   "source": [
    "# NER Model Training\n",
    "- GPU requirements\n",
    "- Will take 8 days.\n",
    "- Spacy trains a BiLSTM-CNN NER network.\n",
    "\n",
    "\n",
    "https://spacy.io/usage/training#quickstart"
   ]
  },
  {
   "cell_type": "code",
   "execution_count": 95,
   "metadata": {},
   "outputs": [],
   "source": [
    "def get_last_model_fp():\n",
    "    model_save_path = ml_dir + '/models/spacy/courseNER'\n",
    "    if os.path.exists(model_save_path) and os.path.exists(model_save_path + \"/save_model\"):\n",
    "        last_save_fp = [fp for fp in os.listdir(model_save_path + \"/save_model\") if fp.startswith(\"course\")]\n",
    "        if len(last_save_fp) > 0:\n",
    "            last_save_fp = last_save_fp[0]\n",
    "            last_index = re.findall('.*idx\\_(.*?)\\_', last_save_fp)[0]\n",
    "            return last_index, os.path.join(os.path.join(ml_dir, \"models/spacy/courseNER/save_model\"), last_save_fp)\n",
    "        else:\n",
    "            raise Exception(\"Model Save Path is empty!!\")\n",
    "    else:\n",
    "        raise Exception(\"{} is empty!!\".format(model_save_path))"
   ]
  },
  {
   "cell_type": "code",
   "execution_count": 4,
   "metadata": {},
   "outputs": [],
   "source": [
    "# load final training corpus...\n",
    "final_traindata_fp = os.path.join(os.path.join(ml_dir, \"data\"), \"train_data.pkl\")\n",
    "with open(final_traindata_fp, \"rb\") as fp:\n",
    "    train_data = pickle.load(fp)"
   ]
  },
  {
   "cell_type": "markdown",
   "metadata": {},
   "source": [
    "## Approach 1\n",
    "----"
   ]
  },
  {
   "cell_type": "code",
   "execution_count": 97,
   "metadata": {},
   "outputs": [],
   "source": [
    "from datetime import datetime\n",
    "spacy.prefer_gpu()\n",
    "from spacy import displacy\n",
    "from spacy.util import minibatch, compounding\n",
    "from spacy.training.example import Example"
   ]
  },
  {
   "cell_type": "markdown",
   "metadata": {},
   "source": [
    "### Training from blank!"
   ]
  },
  {
   "cell_type": "code",
   "execution_count": 80,
   "metadata": {},
   "outputs": [],
   "source": [
    "# # :: settings ::\n",
    "\n",
    "# # training data\n",
    "# spacy_training_data = train_data[:10000]\n",
    "\n",
    "# # creating batches of training data\n",
    "# batch_size = 1000\n",
    "\n",
    "# # Go through the training data N times\n",
    "# iterations = 1\n",
    "\n",
    "# # Save output nlp model\n",
    "# model_save_path = ml_dir + '/models/spacy/courseNER'\n",
    "\n",
    "# # entity labels\n",
    "# ent_labels = {'COURSE_ID', 'COURSE_NAME', 'COURSE_DEPT'}"
   ]
  },
  {
   "cell_type": "code",
   "execution_count": 81,
   "metadata": {
    "collapsed": true
   },
   "outputs": [
    {
     "name": "stdout",
     "output_type": "stream",
     "text": [
      "Created blank 'en' model\n",
      "Entities added to new 'ner'.\n",
      "Starting iteration 0\n",
      "Starting batch 0\n"
     ]
    },
    {
     "name": "stderr",
     "output_type": "stream",
     "text": [
      "100%|███████████████████████████████████████| 1000/1000 [00:19<00:00, 51.34it/s]\n"
     ]
    },
    {
     "name": "stdout",
     "output_type": "stream",
     "text": [
      "losses (batch 0): {'ner': 193.4697557729098}\n",
      "Checkpoint saved:  /Volumes/Local Drive/StudyBuff/GITHUB/StudyBuff/mlEngine/models/spacy/courseNER/save_model/course_nlp___idx_1000__2023_03_07__10_35_17_AM\n",
      "Starting batch 1\n"
     ]
    },
    {
     "name": "stderr",
     "output_type": "stream",
     "text": [
      "100%|███████████████████████████████████████| 1000/1000 [00:19<00:00, 51.15it/s]\n"
     ]
    },
    {
     "name": "stdout",
     "output_type": "stream",
     "text": [
      "losses (batch 0): {'ner': 208.28184217626531}\n",
      "Checkpoint saved:  /Volumes/Local Drive/StudyBuff/GITHUB/StudyBuff/mlEngine/models/spacy/courseNER/save_model/course_nlp___idx_2000__2023_03_07__10_35_37_AM\n",
      "Starting batch 2\n"
     ]
    },
    {
     "name": "stderr",
     "output_type": "stream",
     "text": [
      "100%|███████████████████████████████████████| 1000/1000 [00:19<00:00, 50.42it/s]\n"
     ]
    },
    {
     "name": "stdout",
     "output_type": "stream",
     "text": [
      "losses (batch 0): {'ner': 210.3983741335378}\n",
      "Checkpoint saved:  /Volumes/Local Drive/StudyBuff/GITHUB/StudyBuff/mlEngine/models/spacy/courseNER/save_model/course_nlp___idx_3000__2023_03_07__10_35_57_AM\n",
      "Starting batch 3\n"
     ]
    },
    {
     "name": "stderr",
     "output_type": "stream",
     "text": [
      "100%|███████████████████████████████████████| 1000/1000 [00:20<00:00, 48.98it/s]\n"
     ]
    },
    {
     "name": "stdout",
     "output_type": "stream",
     "text": [
      "losses (batch 0): {'ner': 225.44733995967312}\n",
      "Checkpoint saved:  /Volumes/Local Drive/StudyBuff/GITHUB/StudyBuff/mlEngine/models/spacy/courseNER/save_model/course_nlp___idx_4000__2023_03_07__10_36_17_AM\n",
      "Starting batch 4\n"
     ]
    },
    {
     "name": "stderr",
     "output_type": "stream",
     "text": [
      "100%|███████████████████████████████████████| 1000/1000 [00:22<00:00, 44.09it/s]\n"
     ]
    },
    {
     "name": "stdout",
     "output_type": "stream",
     "text": [
      "losses (batch 0): {'ner': 229.65566803672775}\n",
      "Checkpoint saved:  /Volumes/Local Drive/StudyBuff/GITHUB/StudyBuff/mlEngine/models/spacy/courseNER/save_model/course_nlp___idx_5000__2023_03_07__10_36_40_AM\n",
      "Starting batch 5\n"
     ]
    },
    {
     "name": "stderr",
     "output_type": "stream",
     "text": [
      "100%|███████████████████████████████████████| 1000/1000 [00:20<00:00, 48.98it/s]\n"
     ]
    },
    {
     "name": "stdout",
     "output_type": "stream",
     "text": [
      "losses (batch 0): {'ner': 244.57588620998374}\n",
      "Checkpoint saved:  /Volumes/Local Drive/StudyBuff/GITHUB/StudyBuff/mlEngine/models/spacy/courseNER/save_model/course_nlp___idx_6000__2023_03_07__10_37_00_AM\n",
      "Starting batch 6\n"
     ]
    },
    {
     "name": "stderr",
     "output_type": "stream",
     "text": [
      "100%|███████████████████████████████████████| 1000/1000 [00:25<00:00, 39.16it/s]\n"
     ]
    },
    {
     "name": "stdout",
     "output_type": "stream",
     "text": [
      "losses (batch 0): {'ner': 250.3144235277288}\n",
      "Checkpoint saved:  /Volumes/Local Drive/StudyBuff/GITHUB/StudyBuff/mlEngine/models/spacy/courseNER/save_model/course_nlp___idx_7000__2023_03_07__10_37_26_AM\n",
      "Starting batch 7\n"
     ]
    },
    {
     "name": "stderr",
     "output_type": "stream",
     "text": [
      "100%|███████████████████████████████████████| 1000/1000 [00:27<00:00, 36.53it/s]\n"
     ]
    },
    {
     "name": "stdout",
     "output_type": "stream",
     "text": [
      "losses (batch 0): {'ner': 252.3198061637967}\n",
      "Checkpoint saved:  /Volumes/Local Drive/StudyBuff/GITHUB/StudyBuff/mlEngine/models/spacy/courseNER/save_model/course_nlp___idx_8000__2023_03_07__10_37_53_AM\n",
      "Starting batch 8\n"
     ]
    },
    {
     "name": "stderr",
     "output_type": "stream",
     "text": [
      "100%|███████████████████████████████████████| 1000/1000 [00:23<00:00, 43.18it/s]\n"
     ]
    },
    {
     "name": "stdout",
     "output_type": "stream",
     "text": [
      "losses (batch 0): {'ner': 252.32723208114993}\n",
      "Checkpoint saved:  /Volumes/Local Drive/StudyBuff/GITHUB/StudyBuff/mlEngine/models/spacy/courseNER/save_model/course_nlp___idx_9000__2023_03_07__10_38_17_AM\n",
      "Starting batch 9\n"
     ]
    },
    {
     "name": "stderr",
     "output_type": "stream",
     "text": [
      "100%|███████████████████████████████████████| 1000/1000 [00:32<00:00, 30.94it/s]\n"
     ]
    },
    {
     "name": "stdout",
     "output_type": "stream",
     "text": [
      "losses (batch 0): {'ner': 257.5970884320489}\n",
      "Checkpoint saved:  /Volumes/Local Drive/StudyBuff/GITHUB/StudyBuff/mlEngine/models/spacy/courseNER/save_model/course_nlp___idx_10000__2023_03_07__10_38_49_AM\n"
     ]
    },
    {
     "data": {
      "image/png": "[encoded data removed]",
      "text/plain": [
       "<Figure size 1000x600 with 1 Axes>"
      ]
     },
     "metadata": {},
     "output_type": "display_data"
    },
    {
     "name": "stdout",
     "output_type": "stream",
     "text": [
      "Training complete. Time (mins):  3.8619749347368875\n"
     ]
    }
   ],
   "source": [
    "# # ************************************************************************\n",
    "# # *********     FROM BLANK MODEL:\n",
    "# # *********     Train the recognizer with Stochastic GD\n",
    "# # ************************************************************************\n",
    "\n",
    "# st = time.time()\n",
    "\n",
    "# # create blank Language class\n",
    "# spacy.prefer_gpu()\n",
    "# nlp = spacy.blank('en')  \n",
    "# print(\"Created blank 'en' model\")\n",
    "\n",
    "# # create the built-in pipeline components and add them to the pipeline\n",
    "# if 'ner' not in nlp.pipe_names:\n",
    "#     ner = nlp.create_pipe('ner')\n",
    "#     nlp.add_pipe(\"ner\")\n",
    "# else:\n",
    "#     ner = nlp.get_pipe('ner')\n",
    "    \n",
    "# # Add labels\n",
    "# for ent_type in ent_labels:\n",
    "#     ner.add_label(ent_type)\n",
    "# print(\"Entities added to new 'ner'.\")\n",
    "\n",
    "# # Disable all pipes other than 'ner' during training\n",
    "# other_pipes = [pipe for pipe in nlp.pipe_names if pipe != 'ner']\n",
    "\n",
    "# # only train NER pipe\n",
    "# with nlp.disable_pipes(*other_pipes):  \n",
    "#     optimizer = nlp.begin_training()\n",
    "    \n",
    "#     train_loss = []\n",
    "#     idx_done = 0\n",
    "#     for itn in range(iterations):\n",
    "#         print(\"Starting iteration \" + str(itn))\n",
    "        \n",
    "#         # Iteration level metrics\n",
    "#         losses = {}\n",
    "#         misalligned_count = 0\n",
    "        \n",
    "#         # Shuffle training data\n",
    "#         random.shuffle(spacy_training_data)\n",
    "\n",
    "#         #batches = minibatch(spacy_training_data, size=compounding(4., 32., 1.001))\n",
    "#         batches = minibatch(spacy_training_data, size=batch_size)\n",
    "\n",
    "#         batch_no = 0\n",
    "#         for batch in batches:\n",
    "#             print(\"Starting batch \" + str(batch_no))\n",
    "#             for text, annotations in tqdm.tqdm(batch):\n",
    "#                 # create Example\n",
    "#                 doc = nlp.make_doc(text)\n",
    "#                 example = Example.from_dict(doc, annotations)\n",
    "#                 # Update the model\n",
    "#                 nlp.update([example], sgd=optimizer, drop=0.35, losses=losses)\n",
    "#                 # print('Losses', losses)\n",
    "#                 idx_done+=1\n",
    "          \n",
    "#             # Documenting the loss\n",
    "#             train_loss.append(losses.get('ner'))\n",
    "#             print(f'losses (batch {itn}): {losses}')\n",
    "#             batch_no+=1\n",
    "\n",
    "#             # !CHECKPOINT!\n",
    "#             # Save our trained model into a new directory\n",
    "#             save_fp = model_save_path + \"/save_model/\"\n",
    "#             if not os.path.isdir(save_fp):\n",
    "#                 os.makedirs(save_fp)\n",
    "#             else:\n",
    "#                 shutil.rmtree(save_fp)\n",
    "#                 os.makedirs(save_fp)\n",
    "#             now = datetime.now()\n",
    "#             fn = \"course_nlp___idx_{}__{}\".format(str(idx_done), str(now.strftime(\"%Y_%m_%d__%I_%M_%S_%p\")))\n",
    "#             nlp.to_disk(save_fp + fn)\n",
    "            \n",
    "#             print(\"Checkpoint saved: \", str(save_fp + fn))\n",
    "        \n",
    "#     # Visualizing the loss\n",
    "#     plt.figure(figsize=(10,6))\n",
    "#     plt.plot([*range(len(train_loss))], train_loss, color = 'magenta')\n",
    "#     plt.title('Loss at every iteration')\n",
    "#     plt.xlabel('Batch Number')\n",
    "#     plt.ylabel('Loss')\n",
    "#     plt.show()\n",
    "\n",
    "# print(\"Training complete. Time (mins): \", (time.time() - st)/60)"
   ]
  },
  {
   "cell_type": "markdown",
   "metadata": {},
   "source": [
    "### Resume Training!"
   ]
  },
  {
   "cell_type": "code",
   "execution_count": 131,
   "metadata": {},
   "outputs": [],
   "source": [
    "# SET\n",
    "\n",
    "\n",
    "SET_TRAIN_SIZE = 1300000\n",
    "SET_BATCH_SIZE = 100000"
   ]
  },
  {
   "cell_type": "code",
   "execution_count": 132,
   "metadata": {},
   "outputs": [],
   "source": [
    "# :: settings ::\n",
    "\n",
    "last_index, last_save_model_fp = get_last_model_fp()\n",
    "\n",
    "# id done till now, need to resume from ??\n",
    "idx_done_tillnow = int(last_index)\n",
    "train_begin, train_end =  idx_done_tillnow, idx_done_tillnow + SET_TRAIN_SIZE + 1\n",
    "\n",
    "# training data\n",
    "spacy_training_data = train_data[train_begin: train_end]\n",
    "\n",
    "# creating batches of training data\n",
    "batch_size = SET_BATCH_SIZE\n",
    "\n",
    "# Go through the training data N times\n",
    "iterations = 1\n",
    "\n",
    "# Save output nlp model\n",
    "model_save_path = ml_dir + '/models/spacy/courseNER'\n",
    "\n",
    "# entity labels\n",
    "ent_labels = {'COURSE_ID', 'COURSE_NAME', 'COURSE_DEPT'}"
   ]
  },
  {
   "cell_type": "code",
   "execution_count": 133,
   "metadata": {
    "scrolled": false
   },
   "outputs": [
    {
     "name": "stdout",
     "output_type": "stream",
     "text": [
      "Loaded last saved model from  /Volumes/Local Drive/StudyBuff/GITHUB/StudyBuff/mlEngine/models/spacy/courseNER/save_model/course_nlp___idx_1210004__2023_03_08__01_23_06_AM\n",
      "Starting iteration 0\n",
      "Starting batch 0\n"
     ]
    },
    {
     "name": "stderr",
     "output_type": "stream",
     "text": [
      "100%|███████████████████████████████████| 100000/100000 [48:53<00:00, 34.09it/s]\n"
     ]
    },
    {
     "name": "stdout",
     "output_type": "stream",
     "text": [
      "losses (batch 0): {'ner': 76.46575019732454}\n",
      "Checkpoint saved:  /Volumes/Local Drive/StudyBuff/GITHUB/StudyBuff/mlEngine/models/spacy/courseNER/save_model/course_nlp___idx_1310004__2023_03_08__04_17_13_AM\n",
      "Starting batch 1\n"
     ]
    },
    {
     "name": "stderr",
     "output_type": "stream",
     "text": [
      "100%|███████████████████████████████████| 100000/100000 [56:45<00:00, 29.36it/s]\n"
     ]
    },
    {
     "name": "stdout",
     "output_type": "stream",
     "text": [
      "losses (batch 0): {'ner': 123.79358323341755}\n",
      "Checkpoint saved:  /Volumes/Local Drive/StudyBuff/GITHUB/StudyBuff/mlEngine/models/spacy/courseNER/save_model/course_nlp___idx_1410004__2023_03_08__05_14_00_AM\n",
      "Starting batch 2\n"
     ]
    },
    {
     "name": "stderr",
     "output_type": "stream",
     "text": [
      "100%|███████████████████████████████████| 100000/100000 [50:40<00:00, 32.89it/s]\n"
     ]
    },
    {
     "name": "stdout",
     "output_type": "stream",
     "text": [
      "losses (batch 0): {'ner': 221.52084453124036}\n",
      "Checkpoint saved:  /Volumes/Local Drive/StudyBuff/GITHUB/StudyBuff/mlEngine/models/spacy/courseNER/save_model/course_nlp___idx_1510004__2023_03_08__06_04_40_AM\n",
      "Starting batch 3\n"
     ]
    },
    {
     "name": "stderr",
     "output_type": "stream",
     "text": [
      "100%|███████████████████████████████████| 100000/100000 [47:16<00:00, 35.25it/s]\n"
     ]
    },
    {
     "name": "stdout",
     "output_type": "stream",
     "text": [
      "losses (batch 0): {'ner': 306.2661419173445}\n",
      "Checkpoint saved:  /Volumes/Local Drive/StudyBuff/GITHUB/StudyBuff/mlEngine/models/spacy/courseNER/save_model/course_nlp___idx_1610004__2023_03_08__06_51_57_AM\n",
      "Starting batch 4\n"
     ]
    },
    {
     "name": "stderr",
     "output_type": "stream",
     "text": [
      "100%|███████████████████████████████████| 100000/100000 [43:56<00:00, 37.93it/s]\n"
     ]
    },
    {
     "name": "stdout",
     "output_type": "stream",
     "text": [
      "losses (batch 0): {'ner': 396.55904353004246}\n",
      "Checkpoint saved:  /Volumes/Local Drive/StudyBuff/GITHUB/StudyBuff/mlEngine/models/spacy/courseNER/save_model/course_nlp___idx_1710004__2023_03_08__07_35_53_AM\n",
      "Starting batch 5\n"
     ]
    },
    {
     "name": "stderr",
     "output_type": "stream",
     "text": [
      "100%|███████████████████████████████████| 100000/100000 [42:19<00:00, 39.38it/s]\n"
     ]
    },
    {
     "name": "stdout",
     "output_type": "stream",
     "text": [
      "losses (batch 0): {'ner': 457.9102198319484}\n",
      "Checkpoint saved:  /Volumes/Local Drive/StudyBuff/GITHUB/StudyBuff/mlEngine/models/spacy/courseNER/save_model/course_nlp___idx_1810004__2023_03_08__08_18_13_AM\n",
      "Starting batch 6\n"
     ]
    },
    {
     "name": "stderr",
     "output_type": "stream",
     "text": [
      "100%|███████████████████████████████████| 100000/100000 [48:21<00:00, 34.46it/s]\n"
     ]
    },
    {
     "name": "stdout",
     "output_type": "stream",
     "text": [
      "losses (batch 0): {'ner': 499.8832129264054}\n",
      "Checkpoint saved:  /Volumes/Local Drive/StudyBuff/GITHUB/StudyBuff/mlEngine/models/spacy/courseNER/save_model/course_nlp___idx_1910004__2023_03_08__09_06_34_AM\n",
      "Starting batch 7\n"
     ]
    },
    {
     "name": "stderr",
     "output_type": "stream",
     "text": [
      "100%|███████████████████████████████████| 100000/100000 [47:03<00:00, 35.42it/s]\n"
     ]
    },
    {
     "name": "stdout",
     "output_type": "stream",
     "text": [
      "losses (batch 0): {'ner': 563.9771940567856}\n",
      "Checkpoint saved:  /Volumes/Local Drive/StudyBuff/GITHUB/StudyBuff/mlEngine/models/spacy/courseNER/save_model/course_nlp___idx_2010004__2023_03_08__09_53_37_AM\n",
      "Starting batch 8\n"
     ]
    },
    {
     "name": "stderr",
     "output_type": "stream",
     "text": [
      "100%|█████████████████████████████████| 100000/100000 [3:07:24<00:00,  8.89it/s]\n"
     ]
    },
    {
     "name": "stdout",
     "output_type": "stream",
     "text": [
      "losses (batch 0): {'ner': 640.6698696467514}\n",
      "Checkpoint saved:  /Volumes/Local Drive/StudyBuff/GITHUB/StudyBuff/mlEngine/models/spacy/courseNER/save_model/course_nlp___idx_2110004__2023_03_08__01_01_02_PM\n",
      "Starting batch 9\n"
     ]
    },
    {
     "name": "stderr",
     "output_type": "stream",
     "text": [
      "100%|█████████████████████████████████| 100000/100000 [3:27:02<00:00,  8.05it/s]\n"
     ]
    },
    {
     "name": "stdout",
     "output_type": "stream",
     "text": [
      "losses (batch 0): {'ner': 746.156691110955}\n",
      "Checkpoint saved:  /Volumes/Local Drive/StudyBuff/GITHUB/StudyBuff/mlEngine/models/spacy/courseNER/save_model/course_nlp___idx_2210004__2023_03_08__04_28_04_PM\n",
      "Starting batch 10\n"
     ]
    },
    {
     "name": "stderr",
     "output_type": "stream",
     "text": [
      "100%|█████████████████████████████████| 100000/100000 [3:14:30<00:00,  8.57it/s]\n"
     ]
    },
    {
     "name": "stdout",
     "output_type": "stream",
     "text": [
      "losses (batch 0): {'ner': 820.3373554531923}\n",
      "Checkpoint saved:  /Volumes/Local Drive/StudyBuff/GITHUB/StudyBuff/mlEngine/models/spacy/courseNER/save_model/course_nlp___idx_2310004__2023_03_08__07_42_36_PM\n",
      "Starting batch 11\n"
     ]
    },
    {
     "name": "stderr",
     "output_type": "stream",
     "text": [
      "100%|███████████████████████████████████| 100000/100000 [54:43<00:00, 30.46it/s]\n"
     ]
    },
    {
     "name": "stdout",
     "output_type": "stream",
     "text": [
      "losses (batch 0): {'ner': 861.2569945223812}\n",
      "Checkpoint saved:  /Volumes/Local Drive/StudyBuff/GITHUB/StudyBuff/mlEngine/models/spacy/courseNER/save_model/course_nlp___idx_2410004__2023_03_08__08_37_20_PM\n",
      "Starting batch 12\n"
     ]
    },
    {
     "name": "stderr",
     "output_type": "stream",
     "text": [
      "100%|███████████████████████████████████| 100000/100000 [53:20<00:00, 31.25it/s]\n"
     ]
    },
    {
     "name": "stdout",
     "output_type": "stream",
     "text": [
      "losses (batch 0): {'ner': 948.6410226395308}\n",
      "Checkpoint saved:  /Volumes/Local Drive/StudyBuff/GITHUB/StudyBuff/mlEngine/models/spacy/courseNER/save_model/course_nlp___idx_2510004__2023_03_08__09_30_41_PM\n",
      "Starting batch 13\n"
     ]
    },
    {
     "name": "stderr",
     "output_type": "stream",
     "text": [
      "100%|█████████████████████████████████████████████| 1/1 [00:00<00:00, 23.76it/s]\n"
     ]
    },
    {
     "name": "stdout",
     "output_type": "stream",
     "text": [
      "losses (batch 0): {'ner': 948.6410226395308}\n",
      "Checkpoint saved:  /Volumes/Local Drive/StudyBuff/GITHUB/StudyBuff/mlEngine/models/spacy/courseNER/save_model/course_nlp___idx_2510005__2023_03_08__09_30_41_PM\n"
     ]
    },
    {
     "data": {
      "image/png": "[encoded data removed]",
      "text/plain": [
       "<Figure size 1000x600 with 1 Axes>"
      ]
     },
     "metadata": {},
     "output_type": "display_data"
    },
    {
     "name": "stdout",
     "output_type": "stream",
     "text": [
      "Training complete. Time (mins):  1082.390098253886\n"
     ]
    }
   ],
   "source": [
    "# ************************************************************************\n",
    "# *********     RESUME TRAINING!\n",
    "# *********     \n",
    "# ************************************************************************\n",
    "\n",
    "st = time.time()\n",
    "\n",
    "# load last save nlp model\n",
    "spacy.prefer_gpu()\n",
    "nlp = spacy.load(last_save_model_fp)\n",
    "ner = nlp.get_pipe('ner')\n",
    "print(\"Loaded last saved model from \", last_save_model_fp)\n",
    "\n",
    "# Disable all pipes other than 'ner' during training\n",
    "other_pipes = [pipe for pipe in nlp.pipe_names if pipe != 'ner']\n",
    "\n",
    "# only train NER pipe\n",
    "with nlp.disable_pipes(*other_pipes):\n",
    "    train_loss = []\n",
    "    idx_done = idx_done_tillnow\n",
    "    for itn in range(iterations):\n",
    "        print(\"Starting iteration \" + str(itn))\n",
    "        \n",
    "        # Iteration level metrics\n",
    "        losses = {}\n",
    "        misalligned_count = 0\n",
    "        \n",
    "        # Shuffle training data\n",
    "        random.shuffle(spacy_training_data)\n",
    "\n",
    "        #batches = minibatch(spacy_training_data, size=compounding(4., 32., 1.001))\n",
    "        batches = minibatch(spacy_training_data, size=batch_size)\n",
    "\n",
    "        batch_no = 0\n",
    "        for batch in batches:\n",
    "            print(\"Starting batch \" + str(batch_no))\n",
    "            for text, annotations in tqdm.tqdm(batch):\n",
    "                # create Example\n",
    "                doc = nlp.make_doc(text)\n",
    "                example = Example.from_dict(doc, annotations)\n",
    "                # Update the model\n",
    "                nlp.update([example], sgd=optimizer, drop=0.35, losses=losses)\n",
    "                # print('Losses', losses)\n",
    "                idx_done+=1\n",
    "          \n",
    "            # Documenting the loss\n",
    "            train_loss.append(losses.get('ner'))\n",
    "            print(f'losses (batch {itn}): {losses}')\n",
    "            batch_no+=1\n",
    "\n",
    "            # CHECKPOINT:\n",
    "            # Save our trained model into a new directory\n",
    "            save_fp = model_save_path + \"/save_model/\"\n",
    "            if not os.path.isdir(save_fp):\n",
    "                os.makedirs(save_fp)\n",
    "            else:\n",
    "                shutil.rmtree(save_fp)\n",
    "                os.makedirs(save_fp)\n",
    "            now = datetime.now()\n",
    "            fn = \"course_nlp___idx_{}__{}\".format(str(idx_done), str(now.strftime(\"%Y_%m_%d__%I_%M_%S_%p\")))\n",
    "            nlp.to_disk(save_fp + fn)\n",
    "            print(\"Checkpoint saved: \", str(save_fp + fn))\n",
    "        \n",
    "    # Visualizing the loss\n",
    "    plt.figure(figsize=(10,6))\n",
    "    plt.plot([*range(len(train_loss))], train_loss, color = 'magenta')\n",
    "    plt.title('Loss at every iteration')\n",
    "    plt.xlabel('Batch Number')\n",
    "    plt.ylabel('Loss')\n",
    "    plt.show()\n",
    "\n",
    "print(\"Training complete. Time (mins): \", (time.time() - st)/60)"
   ]
  },
  {
   "cell_type": "markdown",
   "metadata": {},
   "source": [
    "---"
   ]
  },
  {
   "cell_type": "markdown",
   "metadata": {},
   "source": [
    "## Approach 2"
   ]
  },
  {
   "cell_type": "code",
   "execution_count": 39,
   "metadata": {
    "collapsed": true
   },
   "outputs": [
    {
     "name": "stderr",
     "output_type": "stream",
     "text": [
      "100%|█████████████████████████████████| 100000/100000 [00:14<00:00, 6902.81it/s]\n",
      "100%|█████████████████████████████████| 100000/100000 [00:14<00:00, 6789.93it/s]\n",
      "100%|█████████████████████████████████| 100000/100000 [00:15<00:00, 6641.46it/s]\n",
      "100%|█████████████████████████████████| 100000/100000 [00:14<00:00, 6872.84it/s]\n",
      "100%|█████████████████████████████████| 100000/100000 [00:15<00:00, 6408.39it/s]\n",
      "100%|█████████████████████████████████| 100000/100000 [00:15<00:00, 6532.49it/s]\n",
      "100%|█████████████████████████████████| 100000/100000 [00:14<00:00, 7107.82it/s]\n",
      "100%|█████████████████████████████████| 100000/100000 [00:15<00:00, 6623.23it/s]\n",
      "100%|█████████████████████████████████| 100000/100000 [00:14<00:00, 7093.62it/s]\n",
      "100%|█████████████████████████████████| 100000/100000 [00:14<00:00, 6865.64it/s]\n",
      "100%|█████████████████████████████████| 100000/100000 [00:14<00:00, 6853.69it/s]\n",
      "100%|█████████████████████████████████| 100000/100000 [00:15<00:00, 6639.78it/s]\n",
      "100%|█████████████████████████████████| 100000/100000 [00:14<00:00, 6978.62it/s]\n",
      "100%|█████████████████████████████████| 100000/100000 [00:13<00:00, 7240.72it/s]\n",
      "100%|█████████████████████████████████| 100000/100000 [00:13<00:00, 7268.01it/s]\n",
      "100%|█████████████████████████████████| 100000/100000 [00:14<00:00, 7068.73it/s]\n",
      "100%|█████████████████████████████████| 100000/100000 [00:15<00:00, 6557.08it/s]\n",
      "100%|█████████████████████████████████| 100000/100000 [00:14<00:00, 6939.52it/s]\n",
      "100%|█████████████████████████████████| 100000/100000 [00:14<00:00, 6983.86it/s]\n",
      "100%|█████████████████████████████████| 100000/100000 [00:14<00:00, 6943.61it/s]\n",
      "100%|█████████████████████████████████| 100000/100000 [00:14<00:00, 6858.12it/s]\n",
      "100%|█████████████████████████████████| 100000/100000 [00:14<00:00, 7080.07it/s]\n",
      "100%|█████████████████████████████████| 100000/100000 [00:14<00:00, 6980.92it/s]\n",
      "100%|█████████████████████████████████| 100000/100000 [00:15<00:00, 6656.60it/s]\n",
      "100%|█████████████████████████████████| 100000/100000 [00:15<00:00, 6519.40it/s]\n",
      "100%|█████████████████████████████████| 100000/100000 [00:14<00:00, 6908.58it/s]\n",
      "100%|█████████████████████████████████| 100000/100000 [00:13<00:00, 7160.23it/s]\n",
      "100%|█████████████████████████████████| 100000/100000 [00:13<00:00, 7220.27it/s]\n",
      "100%|█████████████████████████████████| 100000/100000 [00:15<00:00, 6569.91it/s]\n",
      "100%|█████████████████████████████████| 100000/100000 [00:15<00:00, 6289.20it/s]\n",
      "100%|█████████████████████████████████| 100000/100000 [00:15<00:00, 6458.11it/s]\n",
      "100%|█████████████████████████████████| 100000/100000 [00:15<00:00, 6281.72it/s]\n",
      "100%|█████████████████████████████████| 100000/100000 [00:16<00:00, 6160.91it/s]\n",
      "100%|█████████████████████████████████| 100000/100000 [00:15<00:00, 6334.00it/s]\n",
      "100%|█████████████████████████████████| 100000/100000 [00:15<00:00, 6370.89it/s]\n",
      "100%|█████████████████████████████████| 100000/100000 [00:16<00:00, 6122.10it/s]\n",
      "100%|█████████████████████████████████| 100000/100000 [00:15<00:00, 6505.17it/s]\n",
      "100%|█████████████████████████████████| 100000/100000 [00:16<00:00, 6094.44it/s]\n",
      "100%|█████████████████████████████████| 100000/100000 [00:16<00:00, 5902.31it/s]\n",
      "100%|█████████████████████████████████| 100000/100000 [00:16<00:00, 5925.43it/s]\n",
      "100%|█████████████████████████████████| 100000/100000 [00:16<00:00, 6038.10it/s]\n",
      "100%|█████████████████████████████████| 100000/100000 [00:16<00:00, 6099.40it/s]\n",
      "100%|█████████████████████████████████| 100000/100000 [00:17<00:00, 5856.49it/s]\n",
      "100%|█████████████████████████████████| 100000/100000 [00:17<00:00, 5744.24it/s]\n",
      "100%|█████████████████████████████████| 100000/100000 [00:16<00:00, 6018.83it/s]\n",
      "100%|█████████████████████████████████| 100000/100000 [00:16<00:00, 5928.83it/s]\n",
      "100%|█████████████████████████████████| 100000/100000 [00:15<00:00, 6414.52it/s]\n",
      "100%|█████████████████████████████████| 100000/100000 [00:15<00:00, 6417.16it/s]\n",
      "100%|█████████████████████████████████| 100000/100000 [00:15<00:00, 6434.96it/s]\n",
      "100%|███████████████████████████████████| 60960/60960 [00:09<00:00, 6232.99it/s]\n"
     ]
    },
    {
     "name": "stdout",
     "output_type": "stream",
     "text": [
      "Number of total empty spans found: 1738\n",
      "Number of total failed attempts:  0\n"
     ]
    }
   ],
   "source": [
    "# l=set()\n",
    "# # Add labels\n",
    "# for _, annotations in train_data:\n",
    "#      for ent in annotations.get('entities'):\n",
    "#         l.add(ent[2])\n",
    "\n",
    "# # Step 3:\n",
    "# # Save training data in Spacy readable format DocBin\n",
    "# # error fix: https://github.com/explosion/spaCy/discussions/10255\n",
    "\n",
    "# # will make 51 \"train_{idx}.spacy\" DocBin files\n",
    "# chunk_size = 100000  \n",
    "# # saves failed attempts\n",
    "# c, failed, empty = 0, [], []\n",
    "# for idx in range(0, len(train_data), chunk_size):\n",
    "#     training_lst = train_data[idx: idx + chunk_size]\n",
    "#     db = DocBin()\n",
    "#     for text, annot in tqdm.tqdm(training_lst): # data in previous format\n",
    "#         try:\n",
    "#             # create doc object from text\n",
    "#             doc = nlp.make_doc(text)\n",
    "#             ents = []\n",
    "#             for start, end, label in annot[\"entities\"]:\n",
    "#                 span = doc.char_span(start, end, label=label, alignment_mode=\"contract\")\n",
    "#                 if span is None:\n",
    "#                     empty.append((c, text, annot))\n",
    "#                 else:\n",
    "#                     ents.append(span)\n",
    "#             doc.ents = ents # label the text with the ents\n",
    "#             db.add(doc)\n",
    "#         except Exception as e:\n",
    "#             failed.append((c, text, annot))\n",
    "#         c+=1\n",
    "\n",
    "#     # save the docbin object\n",
    "#     db.to_disk(os.path.join(os.path.join(os.path.join(ml_dir, \"data\"), \"train_ner\"), \"train_{}.spacy\".format(idx)))\n",
    "\n",
    "# print(\"Number of total empty spans found:\", len(empty))\n",
    "# print(\"Number of total failed attempts: \", len(failed))"
   ]
  },
  {
   "cell_type": "code",
   "execution_count": 42,
   "metadata": {},
   "outputs": [],
   "source": [
    "# Step 4: \n",
    "# download config file from: https://spacy.io/usage/training#quickstart \n",
    "# and store it in \"../data/\""
   ]
  },
  {
   "cell_type": "code",
   "execution_count": 107,
   "metadata": {},
   "outputs": [],
   "source": [
    "# # Step 5:\n",
    "# # Complete the cofig file using original nlp file\n",
    "\n",
    "# !python -m spacy init fill-config ../data/base_config.cfg ../data/config.cfg"
   ]
  },
  {
   "cell_type": "code",
   "execution_count": 108,
   "metadata": {},
   "outputs": [],
   "source": [
    "# # Step 6:\n",
    "# # Train model\n",
    "\n",
    "# st = time.time()\n",
    "# !python -m spacy train ../data/config.cfg --output ../models/spacy/customNER2 --paths.train ../data/train_ner --paths.dev ../data/train_ner --verbose\n",
    "# print(\"Total time taken (mins): \", (time.time()-st)/60)"
   ]
  },
  {
   "cell_type": "markdown",
   "metadata": {},
   "source": [
    "----"
   ]
  },
  {
   "cell_type": "markdown",
   "metadata": {},
   "source": [
    "# Testing"
   ]
  },
  {
   "cell_type": "code",
   "execution_count": 72,
   "metadata": {},
   "outputs": [],
   "source": [
    "def extract_ents(course_nlp, query, visualize = False):\n",
    "    doc = course_nlp(query)    \n",
    "    extracted_entities = []\n",
    "    for ent in doc.ents:\n",
    "        extracted_entities.append((ent.text, ent.start_char, ent.end_char, ent.label_))\n",
    "    # if visualize\n",
    "    if visualize == True:\n",
    "        colors = {\"COURSE_ID\": \"linear-gradient(90deg, #aa9cfc, #fc9ce7)\",\n",
    "                  \"COURSE_NAME\": \"linear-gradient(90deg, #85C1E9, #85C1E8)\",\n",
    "                  \"COURSE_DEPT\": \"linear-gradient(90deg, #85C1F9, #85C1F9)\"}\n",
    "        options = {\"ents\": [\"COURSE_ID\", \"COURSE_NAME\", \"COURSE_DEPT\"], \"colors\": colors}\n",
    "        html = displacy.render(doc, style = 'ent', options = options)\n",
    "    return extracted_entities"
   ]
  },
  {
   "cell_type": "code",
   "execution_count": null,
   "metadata": {},
   "outputs": [],
   "source": []
  },
  {
   "cell_type": "code",
   "execution_count": 68,
   "metadata": {},
   "outputs": [
    {
     "data": {
      "text/html": [
       "<span class=\"tex2jax_ignore\"><div class=\"entities\" style=\"line-height: 2.5; direction: ltr\">Are there any other electives that are similar to \n",
       "<mark class=\"entity\" style=\"background: linear-gradient(90deg, #aa9cfc, #fc9ce7); padding: 0.45em 0.6em; margin: 0 0.25em; line-height: 1; border-radius: 0.35em;\">\n",
       "    ACCT 3320\n",
       "    <span style=\"font-size: 0.8em; font-weight: bold; line-height: 1; border-radius: 0.35em; vertical-align: middle; margin-left: 0.5rem\">COURSE_ID</span>\n",
       "</mark>\n",
       "?</div></span>"
      ],
      "text/plain": [
       "<IPython.core.display.HTML object>"
      ]
     },
     "metadata": {},
     "output_type": "display_data"
    },
    {
     "data": {
      "text/plain": [
       "[('ACCT 3320', 50, 59, 'COURSE_ID')]"
      ]
     },
     "execution_count": 68,
     "metadata": {},
     "output_type": "execute_result"
    }
   ],
   "source": [
    "query = \"What are the similar courses to ACCT 3320 offered this semester?\"\n",
    "\n",
    "\n",
    "# run\n",
    "_, m = get_last_model_fp()\n",
    "course_nlp = spacy.load(m)\n",
    "extract_ents(course_nlp, query, visualize = True)"
   ]
  },
  {
   "cell_type": "code",
   "execution_count": 74,
   "metadata": {},
   "outputs": [
    {
     "data": {
      "text/plain": [
       "['course_nlp___idx_3000__2023_03_07__10_27_05_AM']"
      ]
     },
     "execution_count": 74,
     "metadata": {},
     "output_type": "execute_result"
    }
   ],
   "source": [
    "os.listdir(model_save_path + '/save_model/course_nlp___idx_3000__2023_03_07__10_27_05_AM')"
   ]
  },
  {
   "cell_type": "code",
   "execution_count": 78,
   "metadata": {},
   "outputs": [
    {
     "data": {
      "text/html": [
       "<span class=\"tex2jax_ignore\"><div class=\"entities\" style=\"line-height: 2.5; direction: ltr\">What are the similar courses to \n",
       "<mark class=\"entity\" style=\"background: linear-gradient(90deg, #85C1E9, #85C1E8); padding: 0.45em 0.6em; margin: 0 0.25em; line-height: 1; border-radius: 0.35em;\">\n",
       "    ACCT 3320 offered this\n",
       "    <span style=\"font-size: 0.8em; font-weight: bold; line-height: 1; border-radius: 0.35em; vertical-align: middle; margin-left: 0.5rem\">COURSE_NAME</span>\n",
       "</mark>\n",
       " semester?</div></span>"
      ],
      "text/plain": [
       "<IPython.core.display.HTML object>"
      ]
     },
     "metadata": {},
     "output_type": "display_data"
    },
    {
     "data": {
      "text/plain": [
       "[('ACCT 3320 offered this', 32, 54, 'COURSE_NAME')]"
      ]
     },
     "execution_count": 78,
     "metadata": {},
     "output_type": "execute_result"
    }
   ],
   "source": [
    "query = \"What are some similar courses to Readings in World History?\"\n",
    "\n",
    "\n",
    "# run\n",
    "_, m = get_last_model_fp()\n",
    "course_nlp = spacy.load(m)\n",
    "extract_ents(course_nlp, query, visualize = True)"
   ]
  },
  {
   "cell_type": "code",
   "execution_count": null,
   "metadata": {},
   "outputs": [],
   "source": []
  },
  {
   "cell_type": "code",
   "execution_count": 106,
   "metadata": {
    "scrolled": true
   },
   "outputs": [
    {
     "data": {
      "text/plain": [
       "('10000',\n",
       " '/Volumes/Local Drive/StudyBuff/GITHUB/StudyBuff/mlEngine/models/spacy/courseNER/save_model/course_nlp___idx_10000__2023_03_07__10_38_49_AM')"
      ]
     },
     "execution_count": 106,
     "metadata": {},
     "output_type": "execute_result"
    }
   ],
   "source": [
    "get_last_model_fp()"
   ]
  },
  {
   "cell_type": "markdown",
   "metadata": {},
   "source": [
    "----\n",
    "\n",
    "X-X\n",
    "\n",
    "----"
   ]
  }
 ],
 "metadata": {
  "kernelspec": {
   "display_name": "Python_3.8",
   "language": "python",
   "name": "python_3.8"
  },
  "language_info": {
   "codemirror_mode": {
    "name": "ipython",
    "version": 3
   },
   "file_extension": ".py",
   "mimetype": "text/x-python",
   "name": "python",
   "nbconvert_exporter": "python",
   "pygments_lexer": "ipython3",
   "version": "3.8.0"
  }
 },
 "nbformat": 4,
 "nbformat_minor": 5
}
